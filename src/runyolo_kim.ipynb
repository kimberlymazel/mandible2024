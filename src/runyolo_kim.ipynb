{
 "cells": [
  {
   "cell_type": "code",
   "execution_count": 1,
   "metadata": {},
   "outputs": [],
   "source": [
    "import torch\n",
    "import os\n",
    "from ultralytics import YOLO\n",
    "import cv2\n",
    "import numpy as np"
   ]
  },
  {
   "cell_type": "code",
   "execution_count": 2,
   "metadata": {},
   "outputs": [],
   "source": [
    "model = YOLO(\"../models/xpm_annotate.pt\")\n",
    "# model = YOLO(\"../models/xpm.pt\")\n",
    "# model = YOLO(\"../models/roboflow_8vs.pt\")"
   ]
  },
  {
   "cell_type": "markdown",
   "metadata": {},
   "source": [
    "## Individual Image"
   ]
  },
  {
   "cell_type": "code",
   "execution_count": 3,
   "metadata": {},
   "outputs": [],
   "source": [
    "img_path = '../dataset/annotations2/0103924-1.tiff'\n",
    "output_dir = os.path.join('../compare/test', os.path.basename(img_path).split('.')[0])\n",
    "og_filename = os.path.basename(img_path) "
   ]
  },
  {
   "cell_type": "code",
   "execution_count": 4,
   "metadata": {},
   "outputs": [
    {
     "name": "stdout",
     "output_type": "stream",
     "text": [
      "WARNING:tensorflow:From C:\\Users\\kimbe\\AppData\\Local\\Packages\\PythonSoftwareFoundation.Python.3.10_qbz5n2kfra8p0\\LocalCache\\local-packages\\Python310\\site-packages\\keras\\src\\losses.py:2976: The name tf.losses.sparse_softmax_cross_entropy is deprecated. Please use tf.compat.v1.losses.sparse_softmax_cross_entropy instead.\n",
      "\n"
     ]
    },
    {
     "name": "stderr",
     "output_type": "stream",
     "text": [
      "\n",
      "image 1/1 c:\\Users\\kimbe\\Documents\\GitHub\\mandible2024\\src\\..\\dataset\\annotations2\\0103924-1.tiff: 320x640 1 mandible, 183.2ms\n",
      "Speed: 6.0ms preprocess, 183.2ms inference, 13.0ms postprocess per image at shape (1, 3, 320, 640)\n"
     ]
    }
   ],
   "source": [
    "results = model.predict(source=img_path, conf=0.5, save=False, save_txt=False)\n",
    "masks = results[0].masks\n",
    "boxes = results[0].boxes"
   ]
  },
  {
   "cell_type": "code",
   "execution_count": 5,
   "metadata": {},
   "outputs": [],
   "source": [
    "input_img = cv2.imread(img_path)\n",
    "input_img = cv2.cvtColor(input_img, cv2.COLOR_BGR2RGB)"
   ]
  },
  {
   "cell_type": "code",
   "execution_count": 6,
   "metadata": {},
   "outputs": [],
   "source": [
    "mask_color = (250, 200, 0)"
   ]
  },
  {
   "cell_type": "code",
   "execution_count": 28,
   "metadata": {},
   "outputs": [],
   "source": [
    "output_dir = \"yolo_predictions/yolov8s\"\n",
    "if not os.path.exists(output_dir):\n",
    "    os.makedirs(output_dir)\n",
    "\n",
    "for idx, mask in enumerate(masks):\n",
    "    m = torch.squeeze(mask.data)\n",
    "\n",
    "    mask_np = m.cpu().numpy().astype(np.uint8)\n",
    "\n",
    "    colored_mask = np.zeros((mask_np.shape[0], mask_np.shape[1], 3), dtype=np.uint8)\n",
    "    colored_mask[mask_np == 1] = mask_color\n",
    "\n",
    "    colored_mask = cv2.resize(colored_mask, (input_img.shape[1], input_img.shape[0]))\n",
    "\n",
    "    alpha = 0.5  \n",
    "    overlayed_img = cv2.addWeighted(input_img, 1, colored_mask, alpha, 0)\n",
    "\n",
    "    new_name = og_filename.replace('.jpg', '') + '_overlay' + '.jpg'\n",
    "\n",
    "    cv2.imwrite(os.path.join(output_dir, new_name), cv2.cvtColor(overlayed_img, cv2.COLOR_RGB2BGR))\n",
    "\n",
    "    cv2.imshow('Image', cv2.cvtColor(overlayed_img, cv2.COLOR_RGB2BGR))\n",
    "    cv2.waitKey(0)\n",
    "    cv2.destroyAllWindows() "
   ]
  },
  {
   "cell_type": "code",
   "execution_count": 36,
   "metadata": {},
   "outputs": [],
   "source": [
    "input_dir = \"dataset/box_jpeg\"\n",
    "output_dir = \"yolo_predictions/yolov8s/box\"\n",
    "\n",
    "if not os.path.exists(output_dir):\n",
    "    os.makedirs(output_dir)\n",
    "\n",
    "for filename in os.listdir(input_dir):\n",
    "    if filename.endswith(\".jpg\"):\n",
    "        input_img = cv2.imread(os.path.join(input_dir, filename))\n",
    "\n",
    "        for idx, mask in enumerate(masks):\n",
    "            m = torch.squeeze(mask.data)\n",
    "\n",
    "            mask_np = m.cpu().numpy().astype(np.uint8)\n",
    "\n",
    "            colored_mask = np.zeros((mask_np.shape[0], mask_np.shape[1], 3), dtype=np.uint8)\n",
    "            colored_mask[mask_np == 1] = mask_color\n",
    "\n",
    "            colored_mask = cv2.resize(colored_mask, (input_img.shape[1], input_img.shape[0]))\n",
    "\n",
    "            alpha = 0.5  \n",
    "            overlayed_img = cv2.addWeighted(input_img, 1, colored_mask, alpha, 0)\n",
    "\n",
    "            new_name = filename.replace('.jpg', '') + '_overlay' + '.jpg'\n",
    "\n",
    "            cv2.imwrite(os.path.join(output_dir, new_name), cv2.cvtColor(overlayed_img, cv2.COLOR_RGB2BGR))"
   ]
  },
  {
   "cell_type": "markdown",
   "metadata": {},
   "source": [
    "## One Directory"
   ]
  },
  {
   "cell_type": "code",
   "execution_count": 15,
   "metadata": {},
   "outputs": [],
   "source": [
    "input_dir = \"../compare/trials/original\"\n",
    "output_dir = \"../compare/trials/run3\""
   ]
  },
  {
   "cell_type": "code",
   "execution_count": 16,
   "metadata": {},
   "outputs": [
    {
     "name": "stderr",
     "output_type": "stream",
     "text": [
      "\n",
      "image 1/1 c:\\Users\\kimbe\\Documents\\GitHub\\mandible2024\\src\\..\\compare\\trials\\original\\1513551-1.tiff: 320x640 1 mandible, 115.5ms\n",
      "Speed: 2.0ms preprocess, 115.5ms inference, 1.0ms postprocess per image at shape (1, 3, 320, 640)\n",
      "\n",
      "image 1/1 c:\\Users\\kimbe\\Documents\\GitHub\\mandible2024\\src\\..\\compare\\trials\\original\\1514519-1.tiff: 320x640 1 mandible, 103.5ms\n",
      "Speed: 1.0ms preprocess, 103.5ms inference, 2.0ms postprocess per image at shape (1, 3, 320, 640)\n",
      "\n",
      "image 1/1 c:\\Users\\kimbe\\Documents\\GitHub\\mandible2024\\src\\..\\compare\\trials\\original\\1514834-1.tiff: 320x640 1 mandible, 127.1ms\n",
      "Speed: 2.0ms preprocess, 127.1ms inference, 2.0ms postprocess per image at shape (1, 3, 320, 640)\n",
      "\n",
      "image 1/1 c:\\Users\\kimbe\\Documents\\GitHub\\mandible2024\\src\\..\\compare\\trials\\original\\1516578-1.tiff: 320x640 1 mandible, 121.5ms\n",
      "Speed: 2.0ms preprocess, 121.5ms inference, 1.0ms postprocess per image at shape (1, 3, 320, 640)\n",
      "\n",
      "image 1/1 c:\\Users\\kimbe\\Documents\\GitHub\\mandible2024\\src\\..\\compare\\trials\\original\\1517089-1.tiff: 320x640 1 mandible, 111.5ms\n",
      "Speed: 2.0ms preprocess, 111.5ms inference, 2.0ms postprocess per image at shape (1, 3, 320, 640)\n",
      "\n",
      "image 1/1 c:\\Users\\kimbe\\Documents\\GitHub\\mandible2024\\src\\..\\compare\\trials\\original\\1518809-1.tiff: 320x640 1 mandible, 119.0ms\n",
      "Speed: 1.0ms preprocess, 119.0ms inference, 2.0ms postprocess per image at shape (1, 3, 320, 640)\n",
      "\n",
      "image 1/1 c:\\Users\\kimbe\\Documents\\GitHub\\mandible2024\\src\\..\\compare\\trials\\original\\1519932-1.tiff: 320x640 1 mandible, 123.1ms\n",
      "Speed: 2.0ms preprocess, 123.1ms inference, 1.0ms postprocess per image at shape (1, 3, 320, 640)\n",
      "\n",
      "image 1/1 c:\\Users\\kimbe\\Documents\\GitHub\\mandible2024\\src\\..\\compare\\trials\\original\\1520943-1.tiff: 320x640 1 mandible, 101.5ms\n",
      "Speed: 2.0ms preprocess, 101.5ms inference, 2.0ms postprocess per image at shape (1, 3, 320, 640)\n",
      "\n",
      "image 1/1 c:\\Users\\kimbe\\Documents\\GitHub\\mandible2024\\src\\..\\compare\\trials\\original\\1521480-1.tiff: 320x640 1 mandible, 105.5ms\n",
      "Speed: 2.0ms preprocess, 105.5ms inference, 1.0ms postprocess per image at shape (1, 3, 320, 640)\n",
      "\n",
      "image 1/1 c:\\Users\\kimbe\\Documents\\GitHub\\mandible2024\\src\\..\\compare\\trials\\original\\1521723-1.tiff: 320x640 1 mandible, 111.1ms\n",
      "Speed: 2.0ms preprocess, 111.1ms inference, 2.0ms postprocess per image at shape (1, 3, 320, 640)\n"
     ]
    }
   ],
   "source": [
    "image_files = os.listdir(input_dir)\n",
    "\n",
    "if not os.path.exists(output_dir):\n",
    "    os.makedirs(output_dir)\n",
    "\n",
    "mask_color = (250, 200, 0)\n",
    "\n",
    "for image_file in image_files:\n",
    "    img_path = os.path.join(input_dir, image_file)\n",
    "    img = cv2.imread(img_path)\n",
    "    img = cv2.cvtColor(img, cv2.COLOR_BGR2RGB)\n",
    "    filename = os.path.basename(img_path) \n",
    "\n",
    "    results = model.predict(source=img_path, conf=0.5, save=False, save_txt=False)\n",
    "    masks = results[0].masks\n",
    "\n",
    "    if masks is not None:  \n",
    "        boxes = results[0].boxes\n",
    "\n",
    "        for mask in masks:\n",
    "            if mask is not None:\n",
    "                m = torch.squeeze(mask.data)\n",
    "\n",
    "                mask_np = m.cpu().numpy().astype(np.uint8)\n",
    "\n",
    "                colored_mask = np.zeros((mask_np.shape[0], mask_np.shape[1], 3), dtype=np.uint8)\n",
    "                colored_mask[mask_np == 1] = mask_color\n",
    "\n",
    "                colored_mask = cv2.resize(colored_mask, (img.shape[1], img.shape[0]))\n",
    "\n",
    "                alpha = 0.5  \n",
    "                overlayed_img = cv2.addWeighted(img, 1, colored_mask, alpha, 0)\n",
    "\n",
    "                new_name = filename.replace('.jpg', '') + '_overlay' + '.jpg'\n",
    "\n",
    "                cv2.imwrite(os.path.join(output_dir, new_name), cv2.cvtColor(overlayed_img, cv2.COLOR_RGB2BGR))"
   ]
  }
 ],
 "metadata": {
  "kernelspec": {
   "display_name": "Python 3",
   "language": "python",
   "name": "python3"
  },
  "language_info": {
   "codemirror_mode": {
    "name": "ipython",
    "version": 3
   },
   "file_extension": ".py",
   "mimetype": "text/x-python",
   "name": "python",
   "nbconvert_exporter": "python",
   "pygments_lexer": "ipython3",
   "version": "3.10.11"
  }
 },
 "nbformat": 4,
 "nbformat_minor": 2
}
