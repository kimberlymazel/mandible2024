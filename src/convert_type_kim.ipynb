{
 "cells": [
  {
   "cell_type": "code",
   "execution_count": 2,
   "metadata": {},
   "outputs": [],
   "source": [
    "import cv2\n",
    "import os"
   ]
  },
  {
   "cell_type": "code",
   "execution_count": 3,
   "metadata": {},
   "outputs": [],
   "source": [
    "input_dir = \"../dataset/segmentation/masks\"\n",
    "output_dir = \"../dataset/segmentation/masks\"\n",
    "\n",
    "if not os.path.exists(output_dir):\n",
    "    os.makedirs(output_dir)"
   ]
  },
  {
   "cell_type": "markdown",
   "metadata": {},
   "source": [
    "JPG to PNG"
   ]
  },
  {
   "cell_type": "code",
   "execution_count": null,
   "metadata": {},
   "outputs": [],
   "source": [
    "for filename in os.listdir(input_dir):\n",
    "    if filename.endswith(\".jpg\"):\n",
    "        jpg_img = cv2.imread(os.path.join(input_dir, filename), cv2.IMREAD_UNCHANGED)\n",
    "\n",
    "        png_img = cv2.cvtColor(jpg_img, cv2.COLOR_BGR2RGB)\n",
    "        png_filename = filename[:-4] + '.png' \n",
    "        cv2.imwrite(os.path.join(output_dir, png_filename), png_img)"
   ]
  },
  {
   "cell_type": "markdown",
   "metadata": {},
   "source": [
    "TIFF to PNG"
   ]
  },
  {
   "cell_type": "code",
   "execution_count": 8,
   "metadata": {},
   "outputs": [],
   "source": [
    "image_names = list(filter(lambda img: img.split(\".\")[-1] != \"xlsx\" and img.split(\".\")[0][-1] == \"1\", os.listdir(input_dir))) # Change image title filter"
   ]
  },
  {
   "cell_type": "code",
   "execution_count": 6,
   "metadata": {},
   "outputs": [],
   "source": [
    "for filename in os.listdir(input_dir):\n",
    "    if filename.endswith(\".tiff\") or filename.endswith(\".tif\"):\n",
    "        tiff_img = cv2.imread(os.path.join(input_dir, filename), cv2.IMREAD_UNCHANGED)\n",
    "\n",
    "        png_img = cv2.cvtColor(tiff_img, cv2.COLOR_BGR2RGB)\n",
    "        png_filename = filename[:-5] + '.png'  \n",
    "        cv2.imwrite(os.path.join(output_dir, png_filename), png_img, [int(cv2.IMWRITE_PNG_COMPRESSION), 0])\n",
    "        # os.remove(os.path.join(input_dir, filename))"
   ]
  }
 ],
 "metadata": {
  "kernelspec": {
   "display_name": "Python 3",
   "language": "python",
   "name": "python3"
  },
  "language_info": {
   "codemirror_mode": {
    "name": "ipython",
    "version": 3
   },
   "file_extension": ".py",
   "mimetype": "text/x-python",
   "name": "python",
   "nbconvert_exporter": "python",
   "pygments_lexer": "ipython3",
   "version": "3.12.2"
  }
 },
 "nbformat": 4,
 "nbformat_minor": 2
}
