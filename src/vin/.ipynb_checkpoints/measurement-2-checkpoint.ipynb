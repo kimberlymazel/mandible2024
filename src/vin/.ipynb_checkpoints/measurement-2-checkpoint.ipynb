{
 "cells": [
  {
   "cell_type": "code",
   "execution_count": 1,
   "metadata": {},
   "outputs": [],
   "source": [
    "import os\n",
    "import skimage\n",
    "import cv2 as cv\n",
    "import numpy as np\n",
    "import pandas as pd\n",
    "import matplotlib.pyplot as plt"
   ]
  },
  {
   "cell_type": "code",
   "execution_count": 2,
   "metadata": {},
   "outputs": [],
   "source": [
    "dataset_path = os.path.join(os.getcwd(), \"..\", \"..\", \"dataset\", \"imgs\")\n",
    "\n",
    "image_ids = [\n",
    "    \"911876\", \"909576\"\n",
    "]"
   ]
  },
  {
   "cell_type": "code",
   "execution_count": 3,
   "metadata": {},
   "outputs": [],
   "source": [
    "def read_images(id: str):\n",
    "    raw = cv.imread(os.path.join(os.getcwd(), \"..\", \"..\", \"dataset\", \"imgs\", f\"{id}-1.tiff\"))\n",
    "    annotated = cv.imread(os.path.join(os.getcwd(), \"..\", \"..\", \"dataset\", \"imgs\", f\"{id}-2.tiff\"))\n",
    "    \n",
    "    annotated_hsv = cv.cvtColor(annotated, cv.COLOR_BGR2HSV)\n",
    "    mask = cv.inRange(annotated_hsv, (25, 25, 25), (255, 255, 255))\n",
    "    \n",
    "    return raw, mask"
   ]
  },
  {
   "cell_type": "code",
   "execution_count": 4,
   "metadata": {},
   "outputs": [],
   "source": [
    "def get_mask_region(mask: cv.Mat):\n",
    "    y, x = np.argwhere(mask > 0).T\n",
    "    \n",
    "    return min(x), min(y), max(x), max(y)"
   ]
  },
  {
   "cell_type": "code",
   "execution_count": 5,
   "metadata": {},
   "outputs": [],
   "source": [
    "def adaptive_histogram_equalization(img: cv.Mat):\n",
    "    return skimage.exposure.equalize_adapthist(img, kernel_size=((img.shape[1] / 24), (img.shape[0] / 24)))"
   ]
  },
  {
   "cell_type": "code",
   "execution_count": 6,
   "metadata": {},
   "outputs": [],
   "source": [
    "def get_edges(img: cv.Mat):\n",
    "    sobel = skimage.filters.sobel(img)\n",
    "    threshold_sauvola = skimage.filters.threshold_sauvola(sobel, k=0.6)\n",
    "    sobel = threshold_sauvola > sobel\n",
    "\n",
    "    return sobel"
   ]
  },
  {
   "cell_type": "code",
   "execution_count": 7,
   "metadata": {},
   "outputs": [],
   "source": [
    "def show(id):\n",
    "    raw, mask = read_images(id)\n",
    "    min_x, min_y, max_x, max_y = get_mask_region(mask)\n",
    "    clahe = adaptive_histogram_equalization(raw[min_y:max_y, min_x:max_x])\n",
    "    edges = get_edges(clahe)\n",
    "    threshold_sauvola = skimage.filters.threshold_sauvola(edges, k=0.8)\n",
    "    result = threshold_sauvola < edges\n",
    "    result = result * 255\n",
    "    \n",
    "    plt.imshow(result.astype(np.uint8))"
   ]
  },
  {
   "cell_type": "code",
   "execution_count": null,
   "metadata": {},
   "outputs": [],
   "source": []
  }
 ],
 "metadata": {
  "kernelspec": {
   "display_name": "venv",
   "language": "python",
   "name": "python3"
  },
  "language_info": {
   "codemirror_mode": {
    "name": "ipython",
    "version": 3
   },
   "file_extension": ".py",
   "mimetype": "text/x-python",
   "name": "python",
   "nbconvert_exporter": "python",
   "pygments_lexer": "ipython3",
   "version": "3.11.9"
  }
 },
 "nbformat": 4,
 "nbformat_minor": 2
}
