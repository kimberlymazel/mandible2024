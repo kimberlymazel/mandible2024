{
 "cells": [
  {
   "cell_type": "code",
   "execution_count": 1,
   "metadata": {},
   "outputs": [
    {
     "name": "stdout",
     "output_type": "stream",
     "text": [
      "Requirement already satisfied: albumentations in c:\\users\\kimbe\\appdata\\local\\programs\\python\\python312\\lib\\site-packages (1.4.4)\n",
      "Requirement already satisfied: numpy>=1.24.4 in c:\\users\\kimbe\\appdata\\local\\programs\\python\\python312\\lib\\site-packages (from albumentations) (1.26.4)\n",
      "Requirement already satisfied: scipy>=1.10.0 in c:\\users\\kimbe\\appdata\\local\\programs\\python\\python312\\lib\\site-packages (from albumentations) (1.12.0)\n",
      "Requirement already satisfied: scikit-image>=0.21.0 in c:\\users\\kimbe\\appdata\\local\\programs\\python\\python312\\lib\\site-packages (from albumentations) (0.23.2)\n",
      "Requirement already satisfied: PyYAML in c:\\users\\kimbe\\appdata\\local\\programs\\python\\python312\\lib\\site-packages (from albumentations) (6.0.1)\n",
      "Requirement already satisfied: typing-extensions>=4.9.0 in c:\\users\\kimbe\\appdata\\local\\programs\\python\\python312\\lib\\site-packages (from albumentations) (4.10.0)\n",
      "Requirement already satisfied: scikit-learn>=1.3.2 in c:\\users\\kimbe\\appdata\\local\\programs\\python\\python312\\lib\\site-packages (from albumentations) (1.4.2)\n",
      "Requirement already satisfied: pydantic>=2.6.4 in c:\\users\\kimbe\\appdata\\local\\programs\\python\\python312\\lib\\site-packages (from albumentations) (2.7.1)\n",
      "Requirement already satisfied: opencv-python-headless>=4.9.0 in c:\\users\\kimbe\\appdata\\local\\programs\\python\\python312\\lib\\site-packages (from albumentations) (4.9.0.80)\n",
      "Requirement already satisfied: annotated-types>=0.4.0 in c:\\users\\kimbe\\appdata\\local\\programs\\python\\python312\\lib\\site-packages (from pydantic>=2.6.4->albumentations) (0.6.0)\n",
      "Requirement already satisfied: pydantic-core==2.18.2 in c:\\users\\kimbe\\appdata\\local\\programs\\python\\python312\\lib\\site-packages (from pydantic>=2.6.4->albumentations) (2.18.2)\n",
      "Requirement already satisfied: networkx>=2.8 in c:\\users\\kimbe\\appdata\\local\\programs\\python\\python312\\lib\\site-packages (from scikit-image>=0.21.0->albumentations) (3.2.1)\n",
      "Requirement already satisfied: pillow>=9.1 in c:\\users\\kimbe\\appdata\\local\\programs\\python\\python312\\lib\\site-packages (from scikit-image>=0.21.0->albumentations) (10.2.0)\n",
      "Requirement already satisfied: imageio>=2.33 in c:\\users\\kimbe\\appdata\\local\\programs\\python\\python312\\lib\\site-packages (from scikit-image>=0.21.0->albumentations) (2.34.1)\n",
      "Requirement already satisfied: tifffile>=2022.8.12 in c:\\users\\kimbe\\appdata\\local\\programs\\python\\python312\\lib\\site-packages (from scikit-image>=0.21.0->albumentations) (2024.4.24)\n",
      "Requirement already satisfied: packaging>=21 in c:\\users\\kimbe\\appdata\\roaming\\python\\python312\\site-packages (from scikit-image>=0.21.0->albumentations) (23.2)\n",
      "Requirement already satisfied: lazy-loader>=0.4 in c:\\users\\kimbe\\appdata\\local\\programs\\python\\python312\\lib\\site-packages (from scikit-image>=0.21.0->albumentations) (0.4)\n",
      "Requirement already satisfied: joblib>=1.2.0 in c:\\users\\kimbe\\appdata\\local\\programs\\python\\python312\\lib\\site-packages (from scikit-learn>=1.3.2->albumentations) (1.3.2)\n",
      "Requirement already satisfied: threadpoolctl>=2.0.0 in c:\\users\\kimbe\\appdata\\local\\programs\\python\\python312\\lib\\site-packages (from scikit-learn>=1.3.2->albumentations) (3.3.0)\n",
      "Note: you may need to restart the kernel to use updated packages.\n"
     ]
    }
   ],
   "source": [
    "pip install -U albumentations"
   ]
  },
  {
   "cell_type": "code",
   "execution_count": 29,
   "metadata": {},
   "outputs": [],
   "source": [
    "import albumentations as A\n",
    "import cv2\n",
    "\n",
    "transform = A.Compose([\n",
    "    A.CLAHE()\n",
    "])"
   ]
  },
  {
   "cell_type": "code",
   "execution_count": 30,
   "metadata": {},
   "outputs": [],
   "source": [
    "image = cv2.imread(\"../dataset/xpm_annotate/images/0001.png\")\n",
    "mask = cv2.imread(\"../dataset/xpm_annotate/masks/0001.png\")"
   ]
  },
  {
   "cell_type": "code",
   "execution_count": 31,
   "metadata": {},
   "outputs": [],
   "source": [
    "transformed = transform(image=image, mask=mask)\n",
    "transformed_image = transformed['image']\n",
    "transformed_mask = transformed['mask']"
   ]
  },
  {
   "cell_type": "code",
   "execution_count": 32,
   "metadata": {},
   "outputs": [],
   "source": [
    "cv2.imshow('img', transformed_image)\n",
    "cv2.waitKey(0)\n",
    "cv2.destroyAllWindows()"
   ]
  }
 ],
 "metadata": {
  "kernelspec": {
   "display_name": "Python 3",
   "language": "python",
   "name": "python3"
  },
  "language_info": {
   "codemirror_mode": {
    "name": "ipython",
    "version": 3
   },
   "file_extension": ".py",
   "mimetype": "text/x-python",
   "name": "python",
   "nbconvert_exporter": "python",
   "pygments_lexer": "ipython3",
   "version": "3.12.2"
  }
 },
 "nbformat": 4,
 "nbformat_minor": 2
}
