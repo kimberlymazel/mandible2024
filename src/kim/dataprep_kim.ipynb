{
 "cells": [
  {
   "cell_type": "code",
   "execution_count": 1,
   "metadata": {},
   "outputs": [],
   "source": [
    "import cv2\n",
    "import numpy as np\n",
    "import glob\n",
    "from tqdm import tqdm"
   ]
  },
  {
   "cell_type": "code",
   "execution_count": 2,
   "metadata": {},
   "outputs": [],
   "source": [
    "height = 300\n",
    "width = 130"
   ]
  },
  {
   "cell_type": "code",
   "execution_count": 3,
   "metadata": {},
   "outputs": [],
   "source": [
    "path = \"../dataset/augmented\"\n",
    "imagepath = path + \"/images/*.png\"\n",
    "maskpath = path + \"/masks/*.png\""
   ]
  },
  {
   "cell_type": "code",
   "execution_count": 4,
   "metadata": {},
   "outputs": [
    {
     "name": "stdout",
     "output_type": "stream",
     "text": [
      "Number of images:  2324\n",
      "Number of masks:  2324\n"
     ]
    }
   ],
   "source": [
    "images = glob.glob(imagepath)\n",
    "masks = glob.glob(maskpath)\n",
    "\n",
    "print(\"Number of images: \", len(images))\n",
    "print(\"Number of masks: \", len(masks))"
   ]
  },
  {
   "cell_type": "code",
   "execution_count": 5,
   "metadata": {},
   "outputs": [],
   "source": [
    "allImages = []\n",
    "maskImages = []"
   ]
  },
  {
   "cell_type": "code",
   "execution_count": 6,
   "metadata": {},
   "outputs": [
    {
     "name": "stderr",
     "output_type": "stream",
     "text": [
      "100%|██████████| 2324/2324 [02:05<00:00, 18.54it/s]\n"
     ]
    }
   ],
   "source": [
    "for image, mask, in tqdm(zip(images, masks), total = len(images)):\n",
    "\n",
    "    img = cv2.imread(image, cv2.IMREAD_COLOR)\n",
    "    img = cv2.resize(img, (width, height))\n",
    "    img = img/255.0\n",
    "    img = img.astype(np.float32)\n",
    "    allImages.append(img)\n",
    "\n",
    "    msk = cv2.imread(mask, cv2.IMREAD_GRAYSCALE)\n",
    "    msk = cv2.resize(msk, (width, height))\n",
    "    msk[msk>0] = 1\n",
    "    maskImages.append(msk)"
   ]
  },
  {
   "cell_type": "code",
   "execution_count": 7,
   "metadata": {},
   "outputs": [],
   "source": [
    "allImagesNP = np.array(allImages)\n",
    "maskImagesNP = np.array(maskImages)\n",
    "maskImagesNP = maskImagesNP.astype(int)"
   ]
  },
  {
   "cell_type": "code",
   "execution_count": 8,
   "metadata": {},
   "outputs": [
    {
     "name": "stdout",
     "output_type": "stream",
     "text": [
      "Images shape:  (2324, 300, 130, 3)\n",
      "Masks shape:  (2324, 300, 130)\n"
     ]
    }
   ],
   "source": [
    "print(\"Images shape: \", allImagesNP.shape)\n",
    "print(\"Masks shape: \", maskImagesNP.shape)"
   ]
  },
  {
   "cell_type": "code",
   "execution_count": 9,
   "metadata": {},
   "outputs": [
    {
     "name": "stdout",
     "output_type": "stream",
     "text": [
      "Train Set:\n",
      "(1626, 300, 130, 3)\n",
      "(1626, 300, 130)\n",
      "Validation Set:\n",
      "(465, 300, 130, 3)\n",
      "(465, 300, 130)\n",
      "Test Set:\n",
      "(233, 300, 130, 3)\n",
      "(233, 300, 130)\n"
     ]
    }
   ],
   "source": [
    "from sklearn.model_selection import train_test_split\n",
    "\n",
    "train_size = 0.7\n",
    "valid_size = 0.2\n",
    "test_size = 0.1\n",
    "\n",
    "train_imgs, vt_imgs, train_masks, vt_masks = train_test_split(\n",
    "    allImagesNP, maskImagesNP, \n",
    "    test_size=(1 - train_size), \n",
    "    random_state=42\n",
    ")\n",
    "\n",
    "vt_valid_size = valid_size / (valid_size + test_size)\n",
    "vt_test_size = test_size / (valid_size + test_size)\n",
    "\n",
    "valid_imgs, test_imgs, valid_masks, test_masks = train_test_split(\n",
    "    vt_imgs, vt_masks, \n",
    "    test_size=vt_test_size, \n",
    "    random_state=42\n",
    ")\n",
    "\n",
    "print(\"Train Set:\")\n",
    "print(train_imgs.shape)\n",
    "print(train_masks.shape)\n",
    "\n",
    "print(\"Validation Set:\")\n",
    "print(valid_imgs.shape)\n",
    "print(valid_masks.shape)\n",
    "\n",
    "print(\"Test Set:\")\n",
    "print(test_imgs.shape)\n",
    "print(test_masks.shape)\n"
   ]
  },
  {
   "cell_type": "code",
   "execution_count": 10,
   "metadata": {},
   "outputs": [],
   "source": [
    "import os\n",
    "\n",
    "def save_npy(path, filename, data):\n",
    "    directory = os.path.dirname(os.path.join(path, filename))\n",
    "    if not os.path.exists(directory):\n",
    "        os.makedirs(directory)\n",
    "    np.save(os.path.join(directory, filename), data)"
   ]
  },
  {
   "cell_type": "code",
   "execution_count": 11,
   "metadata": {},
   "outputs": [],
   "source": [
    "# Save training data\n",
    "save_npy(path + \"/feed\", \"train_img.npy\", train_imgs)\n",
    "save_npy(path + \"/feed\", \"train_mask.npy\", train_masks)\n",
    "\n",
    "# Save validation data\n",
    "save_npy(path + \"/feed\", \"valid_img.npy\", valid_imgs)\n",
    "save_npy(path + \"/feed\", \"valid_mask.npy\", valid_masks)\n",
    "\n",
    "# Save validation data\n",
    "save_npy(path + \"/feed\", \"test_img.npy\", test_imgs)\n",
    "save_npy(path + \"/feed\", \"test_mask.npy\", test_masks)"
   ]
  }
 ],
 "metadata": {
  "kernelspec": {
   "display_name": "Python 3",
   "language": "python",
   "name": "python3"
  },
  "language_info": {
   "codemirror_mode": {
    "name": "ipython",
    "version": 3
   },
   "file_extension": ".py",
   "mimetype": "text/x-python",
   "name": "python",
   "nbconvert_exporter": "python",
   "pygments_lexer": "ipython3",
   "version": "3.10.11"
  }
 },
 "nbformat": 4,
 "nbformat_minor": 2
}
