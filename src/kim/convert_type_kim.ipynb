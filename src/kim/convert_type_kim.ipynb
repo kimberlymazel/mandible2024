{
 "cells": [
  {
   "cell_type": "code",
   "execution_count": 2,
   "metadata": {},
   "outputs": [],
   "source": [
    "import cv2\n",
    "import os"
   ]
  },
  {
   "cell_type": "code",
   "execution_count": 3,
   "metadata": {},
   "outputs": [],
   "source": [
    "input_dir = \"../../convert/original\"\n",
    "output_dir = \"../../convert/png\"\n",
    "\n",
    "if not os.path.exists(output_dir):\n",
    "    os.makedirs(output_dir)"
   ]
  },
  {
   "cell_type": "markdown",
   "metadata": {},
   "source": [
    "JPG to PNG"
   ]
  },
  {
   "cell_type": "code",
   "execution_count": null,
   "metadata": {},
   "outputs": [],
   "source": [
    "for filename in os.listdir(input_dir):\n",
    "    if filename.endswith(\".jpg\"):\n",
    "        jpg_img = cv2.imread(os.path.join(input_dir, filename), cv2.IMREAD_UNCHANGED)\n",
    "\n",
    "        png_img = cv2.cvtColor(jpg_img, cv2.COLOR_BGR2RGB)\n",
    "        png_filename = filename[:-4] + '.png' \n",
    "        cv2.imwrite(os.path.join(output_dir, png_filename), png_img)"
   ]
  },
  {
   "cell_type": "markdown",
   "metadata": {},
   "source": [
    "TIFF to PNG"
   ]
  },
  {
   "cell_type": "code",
   "execution_count": 9,
   "metadata": {},
   "outputs": [],
   "source": [
    "image_names = list(filter(lambda img: img.split(\".\")[-1] != \"xlsx\" and img.split(\".\")[0][-1] == \"1\", os.listdir(input_dir))) # Change image title filter"
   ]
  },
  {
   "cell_type": "code",
   "execution_count": 10,
   "metadata": {},
   "outputs": [],
   "source": [
    "for filename in os.listdir(input_dir):\n",
    "    if filename.endswith(\".tiff\") or filename.endswith(\".tif\"):\n",
    "        tiff_img = cv2.imread(os.path.join(input_dir, filename), cv2.IMREAD_UNCHANGED)\n",
    "\n",
    "        png_img = cv2.cvtColor(tiff_img, cv2.COLOR_BGR2RGB)\n",
    "        png_filename = filename[:-5] + '.png'  \n",
    "        cv2.imwrite(os.path.join(output_dir, png_filename), png_img, [int(cv2.IMWRITE_PNG_COMPRESSION), 0])"
   ]
  },
  {
   "cell_type": "code",
   "execution_count": 4,
   "metadata": {},
   "outputs": [],
   "source": [
    "for filename in os.listdir(input_dir):\n",
    "    if filename.endswith(\".tiff\") or filename.endswith(\".tif\"):\n",
    "        tiff_img = cv2.imread(os.path.join(input_dir, filename), cv2.IMREAD_UNCHANGED)\n",
    "\n",
    "        if tiff_img is None:\n",
    "                continue\n",
    "\n",
    "        # Directly save as PNG without any color conversion\n",
    "        png_filename = filename[:-5] + '.png'  \n",
    "        cv2.imwrite(os.path.join(output_dir, png_filename), tiff_img, [int(cv2.IMWRITE_PNG_COMPRESSION), 0])"
   ]
  },
  {
   "cell_type": "code",
   "execution_count": 10,
   "metadata": {},
   "outputs": [],
   "source": [
    "## SWAP COLOURS (RED TO BLUE)\n",
    "## For cases where colour matters\n",
    "for filename in os.listdir(input_dir):\n",
    "    if filename.endswith(\".tiff\") or filename.endswith(\".tif\"):\n",
    "        tiff_img = cv2.imread(os.path.join(input_dir, filename), cv2.IMREAD_UNCHANGED)\n",
    "        if len(tiff_img.shape) == 3 and tiff_img.shape[2] == 3:\n",
    "            # Swap the blue and red channels\n",
    "            tiff_img[..., 0], tiff_img[..., 2] = tiff_img[..., 2], tiff_img[..., 0]  # Swap B and R channels\n",
    "        png_filename = filename[:-5] + '.png'\n",
    "        cv2.imwrite(os.path.join(output_dir, png_filename), tiff_img, [int(cv2.IMWRITE_PNG_COMPRESSION), 0])\n"
   ]
  },
  {
   "cell_type": "markdown",
   "metadata": {},
   "source": [
    "PNG to TIFF"
   ]
  },
  {
   "cell_type": "code",
   "execution_count": 1,
   "metadata": {},
   "outputs": [],
   "source": [
    "from PIL import Image\n",
    "\n",
    "# Open the JPG image\n",
    "jpg_image = Image.open(\"../../convert/U-Net++ Architecture Diagram.jpg\")\n",
    "\n",
    "# Save the image as TIFF\n",
    "jpg_image.save(\"../../convert/U-Net++ Architecture Diagram.tiff\", format=\"TIFF\", dpi=(300, 300))\n"
   ]
  },
  {
   "cell_type": "markdown",
   "metadata": {},
   "source": [
    "PNG to Masks"
   ]
  },
  {
   "cell_type": "code",
   "execution_count": 3,
   "metadata": {},
   "outputs": [
    {
     "name": "stdout",
     "output_type": "stream",
     "text": [
      "Mask saved at ../dataset/xray_panoramic_mandible/masks\\1.png\n",
      "Mask saved at ../dataset/xray_panoramic_mandible/masks\\10.png\n",
      "Mask saved at ../dataset/xray_panoramic_mandible/masks\\100.png\n",
      "Mask saved at ../dataset/xray_panoramic_mandible/masks\\101.png\n",
      "Mask saved at ../dataset/xray_panoramic_mandible/masks\\102.png\n",
      "Mask saved at ../dataset/xray_panoramic_mandible/masks\\103.png\n",
      "Mask saved at ../dataset/xray_panoramic_mandible/masks\\104.png\n",
      "Mask saved at ../dataset/xray_panoramic_mandible/masks\\105.png\n",
      "Mask saved at ../dataset/xray_panoramic_mandible/masks\\106.png\n",
      "Mask saved at ../dataset/xray_panoramic_mandible/masks\\107.png\n",
      "Mask saved at ../dataset/xray_panoramic_mandible/masks\\108.png\n",
      "Mask saved at ../dataset/xray_panoramic_mandible/masks\\109.png\n",
      "Mask saved at ../dataset/xray_panoramic_mandible/masks\\11.png\n",
      "Mask saved at ../dataset/xray_panoramic_mandible/masks\\110.png\n",
      "Mask saved at ../dataset/xray_panoramic_mandible/masks\\111.png\n",
      "Mask saved at ../dataset/xray_panoramic_mandible/masks\\112.png\n",
      "Mask saved at ../dataset/xray_panoramic_mandible/masks\\113.png\n",
      "Mask saved at ../dataset/xray_panoramic_mandible/masks\\114.png\n",
      "Mask saved at ../dataset/xray_panoramic_mandible/masks\\115.png\n",
      "Mask saved at ../dataset/xray_panoramic_mandible/masks\\116.png\n",
      "Mask saved at ../dataset/xray_panoramic_mandible/masks\\12.png\n",
      "Mask saved at ../dataset/xray_panoramic_mandible/masks\\13.png\n",
      "Mask saved at ../dataset/xray_panoramic_mandible/masks\\14.png\n",
      "Mask saved at ../dataset/xray_panoramic_mandible/masks\\15.png\n",
      "Mask saved at ../dataset/xray_panoramic_mandible/masks\\16.png\n",
      "Mask saved at ../dataset/xray_panoramic_mandible/masks\\17.png\n",
      "Mask saved at ../dataset/xray_panoramic_mandible/masks\\18.png\n",
      "Mask saved at ../dataset/xray_panoramic_mandible/masks\\19.png\n",
      "Mask saved at ../dataset/xray_panoramic_mandible/masks\\2.png\n",
      "Mask saved at ../dataset/xray_panoramic_mandible/masks\\20.png\n",
      "Mask saved at ../dataset/xray_panoramic_mandible/masks\\21.png\n",
      "Mask saved at ../dataset/xray_panoramic_mandible/masks\\22.png\n",
      "Mask saved at ../dataset/xray_panoramic_mandible/masks\\23.png\n",
      "Mask saved at ../dataset/xray_panoramic_mandible/masks\\24.png\n",
      "Mask saved at ../dataset/xray_panoramic_mandible/masks\\25.png\n",
      "Mask saved at ../dataset/xray_panoramic_mandible/masks\\26.png\n",
      "Mask saved at ../dataset/xray_panoramic_mandible/masks\\27.png\n",
      "Mask saved at ../dataset/xray_panoramic_mandible/masks\\28.png\n",
      "Mask saved at ../dataset/xray_panoramic_mandible/masks\\29.png\n",
      "Mask saved at ../dataset/xray_panoramic_mandible/masks\\3.png\n",
      "Mask saved at ../dataset/xray_panoramic_mandible/masks\\30.png\n",
      "Mask saved at ../dataset/xray_panoramic_mandible/masks\\31.png\n",
      "Mask saved at ../dataset/xray_panoramic_mandible/masks\\32.png\n",
      "Mask saved at ../dataset/xray_panoramic_mandible/masks\\33.png\n",
      "Mask saved at ../dataset/xray_panoramic_mandible/masks\\34.png\n",
      "Mask saved at ../dataset/xray_panoramic_mandible/masks\\35.png\n",
      "Mask saved at ../dataset/xray_panoramic_mandible/masks\\36.png\n",
      "Mask saved at ../dataset/xray_panoramic_mandible/masks\\37.png\n",
      "Mask saved at ../dataset/xray_panoramic_mandible/masks\\38.png\n",
      "Mask saved at ../dataset/xray_panoramic_mandible/masks\\39.png\n",
      "Mask saved at ../dataset/xray_panoramic_mandible/masks\\4.png\n",
      "Mask saved at ../dataset/xray_panoramic_mandible/masks\\40.png\n",
      "Mask saved at ../dataset/xray_panoramic_mandible/masks\\41.png\n",
      "Mask saved at ../dataset/xray_panoramic_mandible/masks\\42.png\n",
      "Mask saved at ../dataset/xray_panoramic_mandible/masks\\43.png\n",
      "Mask saved at ../dataset/xray_panoramic_mandible/masks\\44.png\n",
      "Mask saved at ../dataset/xray_panoramic_mandible/masks\\45.png\n",
      "Mask saved at ../dataset/xray_panoramic_mandible/masks\\46.png\n",
      "Mask saved at ../dataset/xray_panoramic_mandible/masks\\47.png\n",
      "Mask saved at ../dataset/xray_panoramic_mandible/masks\\48.png\n",
      "Mask saved at ../dataset/xray_panoramic_mandible/masks\\49.png\n",
      "Mask saved at ../dataset/xray_panoramic_mandible/masks\\5.png\n",
      "Mask saved at ../dataset/xray_panoramic_mandible/masks\\50.png\n",
      "Mask saved at ../dataset/xray_panoramic_mandible/masks\\51.png\n",
      "Mask saved at ../dataset/xray_panoramic_mandible/masks\\52.png\n",
      "Mask saved at ../dataset/xray_panoramic_mandible/masks\\53.png\n",
      "Mask saved at ../dataset/xray_panoramic_mandible/masks\\54.png\n",
      "Mask saved at ../dataset/xray_panoramic_mandible/masks\\55.png\n",
      "Mask saved at ../dataset/xray_panoramic_mandible/masks\\56.png\n",
      "Mask saved at ../dataset/xray_panoramic_mandible/masks\\57.png\n",
      "Mask saved at ../dataset/xray_panoramic_mandible/masks\\58.png\n",
      "Mask saved at ../dataset/xray_panoramic_mandible/masks\\59.png\n",
      "Mask saved at ../dataset/xray_panoramic_mandible/masks\\6.png\n",
      "Mask saved at ../dataset/xray_panoramic_mandible/masks\\60.png\n",
      "Mask saved at ../dataset/xray_panoramic_mandible/masks\\61.png\n",
      "Mask saved at ../dataset/xray_panoramic_mandible/masks\\62.png\n",
      "Mask saved at ../dataset/xray_panoramic_mandible/masks\\63.png\n",
      "Mask saved at ../dataset/xray_panoramic_mandible/masks\\64.png\n",
      "Mask saved at ../dataset/xray_panoramic_mandible/masks\\65.png\n",
      "Mask saved at ../dataset/xray_panoramic_mandible/masks\\66.png\n",
      "Mask saved at ../dataset/xray_panoramic_mandible/masks\\67.png\n",
      "Mask saved at ../dataset/xray_panoramic_mandible/masks\\68.png\n",
      "Mask saved at ../dataset/xray_panoramic_mandible/masks\\69.png\n",
      "Mask saved at ../dataset/xray_panoramic_mandible/masks\\7.png\n",
      "Mask saved at ../dataset/xray_panoramic_mandible/masks\\70.png\n",
      "Mask saved at ../dataset/xray_panoramic_mandible/masks\\71.png\n",
      "Mask saved at ../dataset/xray_panoramic_mandible/masks\\72.png\n",
      "Mask saved at ../dataset/xray_panoramic_mandible/masks\\73.png\n",
      "Mask saved at ../dataset/xray_panoramic_mandible/masks\\74.png\n",
      "Mask saved at ../dataset/xray_panoramic_mandible/masks\\75.png\n",
      "Mask saved at ../dataset/xray_panoramic_mandible/masks\\76.png\n",
      "Mask saved at ../dataset/xray_panoramic_mandible/masks\\77.png\n",
      "Mask saved at ../dataset/xray_panoramic_mandible/masks\\78.png\n",
      "Mask saved at ../dataset/xray_panoramic_mandible/masks\\79.png\n",
      "Mask saved at ../dataset/xray_panoramic_mandible/masks\\8.png\n",
      "Mask saved at ../dataset/xray_panoramic_mandible/masks\\80.png\n",
      "Mask saved at ../dataset/xray_panoramic_mandible/masks\\81.png\n",
      "Mask saved at ../dataset/xray_panoramic_mandible/masks\\82.png\n",
      "Mask saved at ../dataset/xray_panoramic_mandible/masks\\83.png\n",
      "Mask saved at ../dataset/xray_panoramic_mandible/masks\\84.png\n",
      "Mask saved at ../dataset/xray_panoramic_mandible/masks\\85.png\n",
      "Mask saved at ../dataset/xray_panoramic_mandible/masks\\86.png\n",
      "Mask saved at ../dataset/xray_panoramic_mandible/masks\\87.png\n",
      "Mask saved at ../dataset/xray_panoramic_mandible/masks\\88.png\n",
      "Mask saved at ../dataset/xray_panoramic_mandible/masks\\89.png\n",
      "Mask saved at ../dataset/xray_panoramic_mandible/masks\\9.png\n",
      "Mask saved at ../dataset/xray_panoramic_mandible/masks\\90.png\n",
      "Mask saved at ../dataset/xray_panoramic_mandible/masks\\91.png\n",
      "Mask saved at ../dataset/xray_panoramic_mandible/masks\\92.png\n",
      "Mask saved at ../dataset/xray_panoramic_mandible/masks\\93.png\n",
      "Mask saved at ../dataset/xray_panoramic_mandible/masks\\94.png\n",
      "Mask saved at ../dataset/xray_panoramic_mandible/masks\\95.png\n",
      "Mask saved at ../dataset/xray_panoramic_mandible/masks\\96.png\n",
      "Mask saved at ../dataset/xray_panoramic_mandible/masks\\97.png\n",
      "Mask saved at ../dataset/xray_panoramic_mandible/masks\\98.png\n",
      "Mask saved at ../dataset/xray_panoramic_mandible/masks\\99.png\n"
     ]
    }
   ],
   "source": [
    "import cv2\n",
    "import os\n",
    "\n",
    "def png_to_mask(png_path):\n",
    "    img = cv2.imread(png_path, cv2.IMREAD_GRAYSCALE)\n",
    "    \n",
    "    _, mask = cv2.threshold(img, 0, 255, cv2.THRESH_BINARY)\n",
    "\n",
    "    return mask\n",
    "\n",
    "def save_mask(mask, output_path):\n",
    "    cv2.imwrite(output_path, mask)\n",
    "\n",
    "    print(f\"Mask saved at {output_path}\")\n",
    "\n",
    "def process_directory(input_directory, output_directory, threshold=128):\n",
    "    if not os.path.exists(output_directory):\n",
    "        os.makedirs(output_directory)\n",
    "\n",
    "    for filename in os.listdir(input_directory):\n",
    "        if filename.endswith(\".png\"):\n",
    "            input_path = os.path.join(input_directory, filename)\n",
    "            output_path = os.path.join(output_directory, filename)\n",
    "            \n",
    "            mask = png_to_mask(input_path)\n",
    "\n",
    "            save_mask(mask, output_path)\n",
    "\n",
    "input_directory = \"../dataset/xray_panoramic_mandible/segmentation-1\"\n",
    "output_directory = \"../dataset/xray_panoramic_mandible/masks\"\n",
    "\n",
    "process_directory(input_directory, output_directory)"
   ]
  }
 ],
 "metadata": {
  "kernelspec": {
   "display_name": "Python 3",
   "language": "python",
   "name": "python3"
  },
  "language_info": {
   "codemirror_mode": {
    "name": "ipython",
    "version": 3
   },
   "file_extension": ".py",
   "mimetype": "text/x-python",
   "name": "python",
   "nbconvert_exporter": "python",
   "pygments_lexer": "ipython3",
   "version": "3.10.11"
  }
 },
 "nbformat": 4,
 "nbformat_minor": 2
}
