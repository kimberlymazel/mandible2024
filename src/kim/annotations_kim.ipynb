{
 "cells": [
  {
   "cell_type": "markdown",
   "metadata": {},
   "source": [
    "dataset/annotations/0103924 - 2.tiff"
   ]
  },
  {
   "cell_type": "code",
   "execution_count": 2,
   "metadata": {},
   "outputs": [],
   "source": [
    "import cv2\n",
    "import numpy as np\n",
    "\n",
    "image = cv2.imread('../dataset/annotations/0103924 - 2.tiff')\n",
    "\n",
    "resize_factor = 0.2\n",
    "image = cv2.resize(image, None, fx=resize_factor, fy=resize_factor)\n",
    "\n",
    "hsv = cv2.cvtColor(image, cv2.COLOR_BGR2HSV)\n",
    "\n",
    "mask = cv2.inRange(hsv, (50, 0, 0), (255, 255, 255))\n",
    "\n",
    "cv2.imshow('Mask', mask)\n",
    "cv2.waitKey(0)\n",
    "cv2.destroyAllWindows()"
   ]
  },
  {
   "cell_type": "code",
   "execution_count": 71,
   "metadata": {},
   "outputs": [
    {
     "name": "stdout",
     "output_type": "stream",
     "text": [
      "Leftmost point coordinates: (83, 187)\n",
      "Leftmost point coordinates: (437, 226)\n",
      "Leftmost point coordinates: (147, 142)\n",
      "All leftmost points: [(83, 187), (437, 226), (147, 142)]\n"
     ]
    }
   ],
   "source": [
    "import cv2\n",
    "import numpy as np\n",
    "\n",
    "image = cv2.imread('../dataset/annotations/0103924 - 2.tiff')\n",
    "\n",
    "resize_factor = 0.2\n",
    "image = cv2.resize(image, None, fx=resize_factor, fy=resize_factor)\n",
    "\n",
    "hsv = cv2.cvtColor(image, cv2.COLOR_BGR2HSV)\n",
    "\n",
    "mask = cv2.inRange(hsv, (50, 0, 0), (255, 255, 255))\n",
    "\n",
    "contours, _ = cv2.findContours(mask, cv2.RETR_EXTERNAL, cv2.CHAIN_APPROX_SIMPLE)\n",
    "\n",
    "leftmost_points = []\n",
    "for contour in contours:\n",
    "    leftmost = tuple(contour[contour[:,:,0].argmin()][0])\n",
    "    leftmost_points.append(leftmost) \n",
    "    cv2.circle(image, leftmost, 5, (0, 255, 0), -1)\n",
    "    print(\"Leftmost point coordinates:\", leftmost)\n",
    "\n",
    "print(\"All leftmost points:\", leftmost_points)"
   ]
  },
  {
   "cell_type": "code",
   "execution_count": 3,
   "metadata": {},
   "outputs": [],
   "source": [
    "image = cv2.imread('../dataset/annotations/0413594 - 2.tiff')\n",
    "\n",
    "resize_factor = 0.2\n",
    "image = cv2.resize(image, None, fx=resize_factor, fy=resize_factor)\n",
    "\n",
    "hsv = cv2.cvtColor(image, cv2.COLOR_BGR2HSV)\n",
    "\n",
    "mask = cv2.inRange(hsv, (50, 0, 0), (255, 255, 255))\n",
    "\n",
    "contours, _ = cv2.findContours(mask, cv2.RETR_EXTERNAL, cv2.CHAIN_APPROX_SIMPLE)\n",
    "\n",
    "left = []\n",
    "right = []\n",
    "\n",
    "for contour in contours:\n",
    "    leftmost = tuple(contour[contour[:,:,0].argmin()][0])\n",
    "    rightmost = tuple(contour[contour[:,:,0].argmax()][0])\n",
    "\n",
    "    if leftmost[1] <= 200:\n",
    "        left.append(leftmost)\n",
    "    \n",
    "    if rightmost[1] <= 200:  \n",
    "        right.append(rightmost)\n",
    "\n",
    "\n",
    "if len(left) > 1:\n",
    "    for i in range(len(left) - 1):\n",
    "        cv2.line(image, left[i], left[i+1], (0, 0, 255), 2)\n",
    "    \n",
    "if len(right) > 1:\n",
    "    for i in range(len(right) - 1):\n",
    "        cv2.line(image, right[i], right[i+1], (0, 0, 255), 2)\n",
    "\n",
    "annotated = cv2.inRange(image, (50, 0, 0), (255, 255, 255))\n",
    "\n",
    "cv2.imshow('Annotated Image', annotated)\n",
    "cv2.waitKey(0)\n",
    "cv2.destroyAllWindows()"
   ]
  }
 ],
 "metadata": {
  "kernelspec": {
   "display_name": "Python 3",
   "language": "python",
   "name": "python3"
  },
  "language_info": {
   "codemirror_mode": {
    "name": "ipython",
    "version": 3
   },
   "file_extension": ".py",
   "mimetype": "text/x-python",
   "name": "python",
   "nbconvert_exporter": "python",
   "pygments_lexer": "ipython3",
   "version": "3.10.11"
  }
 },
 "nbformat": 4,
 "nbformat_minor": 2
}
