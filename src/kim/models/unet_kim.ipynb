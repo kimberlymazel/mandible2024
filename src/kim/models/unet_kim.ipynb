{
  "cells": [
    {
      "cell_type": "markdown",
      "metadata": {
        "id": "9c8c0yyVAhKf"
      },
      "source": [
        "# U-Net CNN Model"
      ]
    },
    {
      "cell_type": "markdown",
      "metadata": {
        "id": "e4ASHa7tAmQ1"
      },
      "source": [
        "## Model Building"
      ]
    },
    {
      "cell_type": "code",
      "execution_count": null,
      "metadata": {
        "id": "f6f293MBOr0j"
      },
      "outputs": [],
      "source": [
        "import tensorflow as tf\n",
        "from tensorflow.keras.layers import *\n",
        "from tensorflow.keras.models import Model\n",
        "from keras import backend as K"
      ]
    },
    {
      "cell_type": "code",
      "execution_count": null,
      "metadata": {
        "id": "aRdZpuQ-Or0k"
      },
      "outputs": [],
      "source": [
        "def conv_block(x, num_filters):\n",
        "    x = Conv2D(num_filters, (3,3), padding=\"same\")(x)\n",
        "    x = BatchNormalization()(x)\n",
        "    x = Activation(\"relu\")(x)\n",
        "\n",
        "    x = Conv2D(num_filters, (3,3), padding=\"same\")(x)\n",
        "    x = BatchNormalization()(x)\n",
        "    x = Activation(\"relu\")(x)\n",
        "\n",
        "    return x"
      ]
    },
    {
      "cell_type": "code",
      "execution_count": null,
      "metadata": {
        "id": "Q_Db_OUPOr0k"
      },
      "outputs": [],
      "source": [
        "def build_model(shape):\n",
        "    num_filters = [64, 128, 256, 512]\n",
        "    inputs = Input(shape)\n",
        "\n",
        "    skip_x = []\n",
        "    x = inputs\n",
        "\n",
        "    # ENCODER\n",
        "    for f in num_filters:\n",
        "        x = conv_block(x, f)\n",
        "        skip_x.append(x)\n",
        "        x = MaxPooling2D((2, 2))(x)\n",
        "\n",
        "    # BRIDGE\n",
        "    x = conv_block(x, 1024)\n",
        "\n",
        "    num_filters.reverse()\n",
        "    skip_x.reverse()\n",
        "\n",
        "    # DECODER\n",
        "    for i, f in enumerate(num_filters):\n",
        "        x = UpSampling2D((2, 2))(x)\n",
        "        xs = skip_x[i]\n",
        "\n",
        "        # Apply cropping or padding to match shapes\n",
        "        diff_h = xs.shape[1] - x.shape[1]\n",
        "        diff_w = xs.shape[2] - x.shape[2]\n",
        "\n",
        "        if diff_h > 0:\n",
        "            x = ZeroPadding2D(((0, diff_h), (0, 0)))(x)\n",
        "        elif diff_h < 0:\n",
        "            xs = ZeroPadding2D(((0, -diff_h), (0, 0)))(xs)\n",
        "\n",
        "        if diff_w > 0:\n",
        "            x = ZeroPadding2D(((0, 0), (0, diff_w)))(x)\n",
        "        elif diff_w < 0:\n",
        "            xs = ZeroPadding2D(((0, 0), (0, -diff_w)))(xs)\n",
        "\n",
        "        x = Concatenate()([x, xs])\n",
        "        x = conv_block(x, f)\n",
        "\n",
        "    # OUTPUT\n",
        "    x = Conv2D(1, (1, 1), padding=\"same\")(x)  # Output with 1 channel\n",
        "    x = Activation(\"sigmoid\")(x)\n",
        "\n",
        "    return Model(inputs, x)"
      ]
    },
    {
      "cell_type": "code",
      "execution_count": null,
      "metadata": {
        "colab": {
          "base_uri": "https://localhost:8080/"
        },
        "id": "BzGhyCMhOr0k",
        "outputId": "b12c67da-949f-4ee4-a6ea-6f8000814d69"
      },
      "outputs": [
        {
          "output_type": "stream",
          "name": "stdout",
          "text": [
            "Model: \"model\"\n",
            "__________________________________________________________________________________________________\n",
            " Layer (type)                Output Shape                 Param #   Connected to                  \n",
            "==================================================================================================\n",
            " input_1 (InputLayer)        [(None, 128, 128, 3)]        0         []                            \n",
            "                                                                                                  \n",
            " conv2d (Conv2D)             (None, 128, 128, 64)         1792      ['input_1[0][0]']             \n",
            "                                                                                                  \n",
            " batch_normalization (Batch  (None, 128, 128, 64)         256       ['conv2d[0][0]']              \n",
            " Normalization)                                                                                   \n",
            "                                                                                                  \n",
            " activation (Activation)     (None, 128, 128, 64)         0         ['batch_normalization[0][0]'] \n",
            "                                                                                                  \n",
            " conv2d_1 (Conv2D)           (None, 128, 128, 64)         36928     ['activation[0][0]']          \n",
            "                                                                                                  \n",
            " batch_normalization_1 (Bat  (None, 128, 128, 64)         256       ['conv2d_1[0][0]']            \n",
            " chNormalization)                                                                                 \n",
            "                                                                                                  \n",
            " activation_1 (Activation)   (None, 128, 128, 64)         0         ['batch_normalization_1[0][0]'\n",
            "                                                                    ]                             \n",
            "                                                                                                  \n",
            " max_pooling2d (MaxPooling2  (None, 64, 64, 64)           0         ['activation_1[0][0]']        \n",
            " D)                                                                                               \n",
            "                                                                                                  \n",
            " conv2d_2 (Conv2D)           (None, 64, 64, 128)          73856     ['max_pooling2d[0][0]']       \n",
            "                                                                                                  \n",
            " batch_normalization_2 (Bat  (None, 64, 64, 128)          512       ['conv2d_2[0][0]']            \n",
            " chNormalization)                                                                                 \n",
            "                                                                                                  \n",
            " activation_2 (Activation)   (None, 64, 64, 128)          0         ['batch_normalization_2[0][0]'\n",
            "                                                                    ]                             \n",
            "                                                                                                  \n",
            " conv2d_3 (Conv2D)           (None, 64, 64, 128)          147584    ['activation_2[0][0]']        \n",
            "                                                                                                  \n",
            " batch_normalization_3 (Bat  (None, 64, 64, 128)          512       ['conv2d_3[0][0]']            \n",
            " chNormalization)                                                                                 \n",
            "                                                                                                  \n",
            " activation_3 (Activation)   (None, 64, 64, 128)          0         ['batch_normalization_3[0][0]'\n",
            "                                                                    ]                             \n",
            "                                                                                                  \n",
            " max_pooling2d_1 (MaxPoolin  (None, 32, 32, 128)          0         ['activation_3[0][0]']        \n",
            " g2D)                                                                                             \n",
            "                                                                                                  \n",
            " conv2d_4 (Conv2D)           (None, 32, 32, 256)          295168    ['max_pooling2d_1[0][0]']     \n",
            "                                                                                                  \n",
            " batch_normalization_4 (Bat  (None, 32, 32, 256)          1024      ['conv2d_4[0][0]']            \n",
            " chNormalization)                                                                                 \n",
            "                                                                                                  \n",
            " activation_4 (Activation)   (None, 32, 32, 256)          0         ['batch_normalization_4[0][0]'\n",
            "                                                                    ]                             \n",
            "                                                                                                  \n",
            " conv2d_5 (Conv2D)           (None, 32, 32, 256)          590080    ['activation_4[0][0]']        \n",
            "                                                                                                  \n",
            " batch_normalization_5 (Bat  (None, 32, 32, 256)          1024      ['conv2d_5[0][0]']            \n",
            " chNormalization)                                                                                 \n",
            "                                                                                                  \n",
            " activation_5 (Activation)   (None, 32, 32, 256)          0         ['batch_normalization_5[0][0]'\n",
            "                                                                    ]                             \n",
            "                                                                                                  \n",
            " max_pooling2d_2 (MaxPoolin  (None, 16, 16, 256)          0         ['activation_5[0][0]']        \n",
            " g2D)                                                                                             \n",
            "                                                                                                  \n",
            " conv2d_6 (Conv2D)           (None, 16, 16, 512)          1180160   ['max_pooling2d_2[0][0]']     \n",
            "                                                                                                  \n",
            " batch_normalization_6 (Bat  (None, 16, 16, 512)          2048      ['conv2d_6[0][0]']            \n",
            " chNormalization)                                                                                 \n",
            "                                                                                                  \n",
            " activation_6 (Activation)   (None, 16, 16, 512)          0         ['batch_normalization_6[0][0]'\n",
            "                                                                    ]                             \n",
            "                                                                                                  \n",
            " conv2d_7 (Conv2D)           (None, 16, 16, 512)          2359808   ['activation_6[0][0]']        \n",
            "                                                                                                  \n",
            " batch_normalization_7 (Bat  (None, 16, 16, 512)          2048      ['conv2d_7[0][0]']            \n",
            " chNormalization)                                                                                 \n",
            "                                                                                                  \n",
            " activation_7 (Activation)   (None, 16, 16, 512)          0         ['batch_normalization_7[0][0]'\n",
            "                                                                    ]                             \n",
            "                                                                                                  \n",
            " max_pooling2d_3 (MaxPoolin  (None, 8, 8, 512)            0         ['activation_7[0][0]']        \n",
            " g2D)                                                                                             \n",
            "                                                                                                  \n",
            " conv2d_8 (Conv2D)           (None, 8, 8, 1024)           4719616   ['max_pooling2d_3[0][0]']     \n",
            "                                                                                                  \n",
            " batch_normalization_8 (Bat  (None, 8, 8, 1024)           4096      ['conv2d_8[0][0]']            \n",
            " chNormalization)                                                                                 \n",
            "                                                                                                  \n",
            " activation_8 (Activation)   (None, 8, 8, 1024)           0         ['batch_normalization_8[0][0]'\n",
            "                                                                    ]                             \n",
            "                                                                                                  \n",
            " conv2d_9 (Conv2D)           (None, 8, 8, 1024)           9438208   ['activation_8[0][0]']        \n",
            "                                                                                                  \n",
            " batch_normalization_9 (Bat  (None, 8, 8, 1024)           4096      ['conv2d_9[0][0]']            \n",
            " chNormalization)                                                                                 \n",
            "                                                                                                  \n",
            " activation_9 (Activation)   (None, 8, 8, 1024)           0         ['batch_normalization_9[0][0]'\n",
            "                                                                    ]                             \n",
            "                                                                                                  \n",
            " up_sampling2d (UpSampling2  (None, 16, 16, 1024)         0         ['activation_9[0][0]']        \n",
            " D)                                                                                               \n",
            "                                                                                                  \n",
            " concatenate (Concatenate)   (None, 16, 16, 1536)         0         ['up_sampling2d[0][0]',       \n",
            "                                                                     'activation_7[0][0]']        \n",
            "                                                                                                  \n",
            " conv2d_10 (Conv2D)          (None, 16, 16, 512)          7078400   ['concatenate[0][0]']         \n",
            "                                                                                                  \n",
            " batch_normalization_10 (Ba  (None, 16, 16, 512)          2048      ['conv2d_10[0][0]']           \n",
            " tchNormalization)                                                                                \n",
            "                                                                                                  \n",
            " activation_10 (Activation)  (None, 16, 16, 512)          0         ['batch_normalization_10[0][0]\n",
            "                                                                    ']                            \n",
            "                                                                                                  \n",
            " conv2d_11 (Conv2D)          (None, 16, 16, 512)          2359808   ['activation_10[0][0]']       \n",
            "                                                                                                  \n",
            " batch_normalization_11 (Ba  (None, 16, 16, 512)          2048      ['conv2d_11[0][0]']           \n",
            " tchNormalization)                                                                                \n",
            "                                                                                                  \n",
            " activation_11 (Activation)  (None, 16, 16, 512)          0         ['batch_normalization_11[0][0]\n",
            "                                                                    ']                            \n",
            "                                                                                                  \n",
            " up_sampling2d_1 (UpSamplin  (None, 32, 32, 512)          0         ['activation_11[0][0]']       \n",
            " g2D)                                                                                             \n",
            "                                                                                                  \n",
            " concatenate_1 (Concatenate  (None, 32, 32, 768)          0         ['up_sampling2d_1[0][0]',     \n",
            " )                                                                   'activation_5[0][0]']        \n",
            "                                                                                                  \n",
            " conv2d_12 (Conv2D)          (None, 32, 32, 256)          1769728   ['concatenate_1[0][0]']       \n",
            "                                                                                                  \n",
            " batch_normalization_12 (Ba  (None, 32, 32, 256)          1024      ['conv2d_12[0][0]']           \n",
            " tchNormalization)                                                                                \n",
            "                                                                                                  \n",
            " activation_12 (Activation)  (None, 32, 32, 256)          0         ['batch_normalization_12[0][0]\n",
            "                                                                    ']                            \n",
            "                                                                                                  \n",
            " conv2d_13 (Conv2D)          (None, 32, 32, 256)          590080    ['activation_12[0][0]']       \n",
            "                                                                                                  \n",
            " batch_normalization_13 (Ba  (None, 32, 32, 256)          1024      ['conv2d_13[0][0]']           \n",
            " tchNormalization)                                                                                \n",
            "                                                                                                  \n",
            " activation_13 (Activation)  (None, 32, 32, 256)          0         ['batch_normalization_13[0][0]\n",
            "                                                                    ']                            \n",
            "                                                                                                  \n",
            " up_sampling2d_2 (UpSamplin  (None, 64, 64, 256)          0         ['activation_13[0][0]']       \n",
            " g2D)                                                                                             \n",
            "                                                                                                  \n",
            " concatenate_2 (Concatenate  (None, 64, 64, 384)          0         ['up_sampling2d_2[0][0]',     \n",
            " )                                                                   'activation_3[0][0]']        \n",
            "                                                                                                  \n",
            " conv2d_14 (Conv2D)          (None, 64, 64, 128)          442496    ['concatenate_2[0][0]']       \n",
            "                                                                                                  \n",
            " batch_normalization_14 (Ba  (None, 64, 64, 128)          512       ['conv2d_14[0][0]']           \n",
            " tchNormalization)                                                                                \n",
            "                                                                                                  \n",
            " activation_14 (Activation)  (None, 64, 64, 128)          0         ['batch_normalization_14[0][0]\n",
            "                                                                    ']                            \n",
            "                                                                                                  \n",
            " conv2d_15 (Conv2D)          (None, 64, 64, 128)          147584    ['activation_14[0][0]']       \n",
            "                                                                                                  \n",
            " batch_normalization_15 (Ba  (None, 64, 64, 128)          512       ['conv2d_15[0][0]']           \n",
            " tchNormalization)                                                                                \n",
            "                                                                                                  \n",
            " activation_15 (Activation)  (None, 64, 64, 128)          0         ['batch_normalization_15[0][0]\n",
            "                                                                    ']                            \n",
            "                                                                                                  \n",
            " up_sampling2d_3 (UpSamplin  (None, 128, 128, 128)        0         ['activation_15[0][0]']       \n",
            " g2D)                                                                                             \n",
            "                                                                                                  \n",
            " concatenate_3 (Concatenate  (None, 128, 128, 192)        0         ['up_sampling2d_3[0][0]',     \n",
            " )                                                                   'activation_1[0][0]']        \n",
            "                                                                                                  \n",
            " conv2d_16 (Conv2D)          (None, 128, 128, 64)         110656    ['concatenate_3[0][0]']       \n",
            "                                                                                                  \n",
            " batch_normalization_16 (Ba  (None, 128, 128, 64)         256       ['conv2d_16[0][0]']           \n",
            " tchNormalization)                                                                                \n",
            "                                                                                                  \n",
            " activation_16 (Activation)  (None, 128, 128, 64)         0         ['batch_normalization_16[0][0]\n",
            "                                                                    ']                            \n",
            "                                                                                                  \n",
            " conv2d_17 (Conv2D)          (None, 128, 128, 64)         36928     ['activation_16[0][0]']       \n",
            "                                                                                                  \n",
            " batch_normalization_17 (Ba  (None, 128, 128, 64)         256       ['conv2d_17[0][0]']           \n",
            " tchNormalization)                                                                                \n",
            "                                                                                                  \n",
            " activation_17 (Activation)  (None, 128, 128, 64)         0         ['batch_normalization_17[0][0]\n",
            "                                                                    ']                            \n",
            "                                                                                                  \n",
            " conv2d_18 (Conv2D)          (None, 128, 128, 1)          65        ['activation_17[0][0]']       \n",
            "                                                                                                  \n",
            " activation_18 (Activation)  (None, 128, 128, 1)          0         ['conv2d_18[0][0]']           \n",
            "                                                                                                  \n",
            "==================================================================================================\n",
            "Total params: 31402497 (119.79 MB)\n",
            "Trainable params: 31390721 (119.75 MB)\n",
            "Non-trainable params: 11776 (46.00 KB)\n",
            "__________________________________________________________________________________________________\n",
            "None\n"
          ]
        }
      ],
      "source": [
        "input_shape = (128, 128, 3)\n",
        "model = build_model(input_shape)\n",
        "print(model.summary())"
      ]
    },
    {
      "cell_type": "markdown",
      "metadata": {
        "id": "v2OYzopXAq4o"
      },
      "source": [
        "## Getting Train-Valid-Test Data"
      ]
    },
    {
      "cell_type": "code",
      "execution_count": null,
      "metadata": {
        "colab": {
          "base_uri": "https://localhost:8080/"
        },
        "id": "qZjyKvfha63x",
        "outputId": "334643f1-2c8f-4e6c-870b-349a0a76a741"
      },
      "outputs": [
        {
          "output_type": "stream",
          "name": "stdout",
          "text": [
            "Drive already mounted at /content/drive; to attempt to forcibly remount, call drive.mount(\"/content/drive\", force_remount=True).\n"
          ]
        }
      ],
      "source": [
        "from google.colab import drive\n",
        "\n",
        "drive.mount('/content/drive')"
      ]
    },
    {
      "cell_type": "code",
      "execution_count": null,
      "metadata": {
        "id": "Okh0TMrCOr0l"
      },
      "outputs": [],
      "source": [
        "import numpy as np\n",
        "\n",
        "# TRAIN\n",
        "trainimageNP = np.load(\"/content/drive/My Drive/MANDIBLE/train_img.npy\")\n",
        "trainmaskNP = np.load(\"/content/drive/My Drive/MANDIBLE/train_mask.npy\")\n",
        "\n",
        "# VALID\n",
        "validimageNP = np.load(\"/content/drive/My Drive/MANDIBLE/valid_img.npy\")\n",
        "validmaskNP = np.load(\"/content/drive/My Drive/MANDIBLE/valid_mask.npy\")\n",
        "\n",
        "# TEST\n",
        "testimageNP = np.load(\"/content/drive/My Drive/MANDIBLE/test_img.npy\")\n",
        "testmaskNP = np.load(\"/content/drive/My Drive/MANDIBLE/test_mask.npy\")"
      ]
    },
    {
      "cell_type": "code",
      "execution_count": null,
      "metadata": {
        "colab": {
          "base_uri": "https://localhost:8080/"
        },
        "id": "e1F4uNW4Or0l",
        "outputId": "4188852e-c086-4487-92d8-450b1165b57a"
      },
      "outputs": [
        {
          "output_type": "stream",
          "name": "stdout",
          "text": [
            "(1626, 128, 128, 3)\n",
            "(1626, 128, 128)\n",
            "(465, 128, 128, 3)\n",
            "(465, 128, 128)\n",
            "(233, 128, 128, 3)\n",
            "(233, 128, 128)\n"
          ]
        }
      ],
      "source": [
        "print(trainimageNP.shape)\n",
        "print(trainmaskNP.shape)\n",
        "print(validimageNP.shape)\n",
        "print(validmaskNP.shape)\n",
        "print(testimageNP.shape)\n",
        "print(testmaskNP.shape)"
      ]
    },
    {
      "cell_type": "markdown",
      "metadata": {
        "id": "_Kdr09oOAyTz"
      },
      "source": [
        "## Epoch Training"
      ]
    },
    {
      "cell_type": "code",
      "execution_count": null,
      "metadata": {
        "id": "q640yOtXOr0l"
      },
      "outputs": [],
      "source": [
        "lr = 1e-4\n",
        "batchSize = 32\n",
        "epochs = 25"
      ]
    },
    {
      "cell_type": "code",
      "execution_count": null,
      "metadata": {
        "id": "j2_wjOlNdeE1"
      },
      "outputs": [],
      "source": [
        "drive_path = '/content/drive/My Drive/MANDIBLE/models/unet.keras'"
      ]
    },
    {
      "cell_type": "code",
      "execution_count": null,
      "metadata": {
        "colab": {
          "base_uri": "https://localhost:8080/"
        },
        "id": "4fsQI-TpOr0l",
        "outputId": "ecabff2e-a86f-4847-fc1f-ff9005bac169"
      },
      "outputs": [
        {
          "output_type": "stream",
          "name": "stdout",
          "text": [
            "Epoch 1/25\n",
            "50/50 [==============================] - ETA: 0s - loss: 0.2771 - accuracy: 0.9207\n",
            "Epoch 1: val_loss improved from inf to 0.62094, saving model to /content/drive/My Drive/MANDIBLE/models/unet.keras\n",
            "50/50 [==============================] - 80s 683ms/step - loss: 0.2771 - accuracy: 0.9207 - val_loss: 0.6209 - val_accuracy: 0.8121 - lr: 1.0000e-04\n",
            "Epoch 2/25\n",
            "50/50 [==============================] - ETA: 0s - loss: 0.1354 - accuracy: 0.9775\n",
            "Epoch 2: val_loss improved from 0.62094 to 0.50473, saving model to /content/drive/My Drive/MANDIBLE/models/unet.keras\n",
            "50/50 [==============================] - 52s 544ms/step - loss: 0.1354 - accuracy: 0.9775 - val_loss: 0.5047 - val_accuracy: 0.8353 - lr: 1.0000e-04\n",
            "Epoch 3/25\n",
            "50/50 [==============================] - ETA: 0s - loss: 0.1140 - accuracy: 0.9828\n",
            "Epoch 3: val_loss improved from 0.50473 to 0.44643, saving model to /content/drive/My Drive/MANDIBLE/models/unet.keras\n",
            "50/50 [==============================] - 26s 526ms/step - loss: 0.1140 - accuracy: 0.9828 - val_loss: 0.4464 - val_accuracy: 0.8353 - lr: 1.0000e-04\n",
            "Epoch 4/25\n",
            "50/50 [==============================] - ETA: 0s - loss: 0.0983 - accuracy: 0.9872\n",
            "Epoch 4: val_loss improved from 0.44643 to 0.40233, saving model to /content/drive/My Drive/MANDIBLE/models/unet.keras\n",
            "50/50 [==============================] - 27s 538ms/step - loss: 0.0983 - accuracy: 0.9872 - val_loss: 0.4023 - val_accuracy: 0.8408 - lr: 1.0000e-04\n",
            "Epoch 5/25\n",
            "50/50 [==============================] - ETA: 0s - loss: 0.0873 - accuracy: 0.9898\n",
            "Epoch 5: val_loss improved from 0.40233 to 0.34825, saving model to /content/drive/My Drive/MANDIBLE/models/unet.keras\n",
            "50/50 [==============================] - 26s 529ms/step - loss: 0.0873 - accuracy: 0.9898 - val_loss: 0.3482 - val_accuracy: 0.8709 - lr: 1.0000e-04\n",
            "Epoch 6/25\n",
            "50/50 [==============================] - ETA: 0s - loss: 0.0790 - accuracy: 0.9913\n",
            "Epoch 6: val_loss improved from 0.34825 to 0.28458, saving model to /content/drive/My Drive/MANDIBLE/models/unet.keras\n",
            "50/50 [==============================] - 27s 541ms/step - loss: 0.0790 - accuracy: 0.9913 - val_loss: 0.2846 - val_accuracy: 0.9031 - lr: 1.0000e-04\n",
            "Epoch 7/25\n",
            "50/50 [==============================] - ETA: 0s - loss: 0.0726 - accuracy: 0.9923\n",
            "Epoch 7: val_loss improved from 0.28458 to 0.23493, saving model to /content/drive/My Drive/MANDIBLE/models/unet.keras\n",
            "50/50 [==============================] - 27s 542ms/step - loss: 0.0726 - accuracy: 0.9923 - val_loss: 0.2349 - val_accuracy: 0.9194 - lr: 1.0000e-04\n",
            "Epoch 8/25\n",
            "50/50 [==============================] - ETA: 0s - loss: 0.0667 - accuracy: 0.9932\n",
            "Epoch 8: val_loss improved from 0.23493 to 0.15798, saving model to /content/drive/My Drive/MANDIBLE/models/unet.keras\n",
            "50/50 [==============================] - 27s 544ms/step - loss: 0.0667 - accuracy: 0.9932 - val_loss: 0.1580 - val_accuracy: 0.9573 - lr: 1.0000e-04\n",
            "Epoch 9/25\n",
            "50/50 [==============================] - ETA: 0s - loss: 0.0613 - accuracy: 0.9941\n",
            "Epoch 9: val_loss improved from 0.15798 to 0.12014, saving model to /content/drive/My Drive/MANDIBLE/models/unet.keras\n",
            "50/50 [==============================] - 26s 531ms/step - loss: 0.0613 - accuracy: 0.9941 - val_loss: 0.1201 - val_accuracy: 0.9711 - lr: 1.0000e-04\n",
            "Epoch 10/25\n",
            "50/50 [==============================] - ETA: 0s - loss: 0.0563 - accuracy: 0.9948\n",
            "Epoch 10: val_loss improved from 0.12014 to 0.09252, saving model to /content/drive/My Drive/MANDIBLE/models/unet.keras\n",
            "50/50 [==============================] - 27s 545ms/step - loss: 0.0563 - accuracy: 0.9948 - val_loss: 0.0925 - val_accuracy: 0.9805 - lr: 1.0000e-04\n",
            "Epoch 11/25\n",
            "50/50 [==============================] - ETA: 0s - loss: 0.0526 - accuracy: 0.9951\n",
            "Epoch 11: val_loss improved from 0.09252 to 0.07653, saving model to /content/drive/My Drive/MANDIBLE/models/unet.keras\n",
            "50/50 [==============================] - 27s 535ms/step - loss: 0.0526 - accuracy: 0.9951 - val_loss: 0.0765 - val_accuracy: 0.9855 - lr: 1.0000e-04\n",
            "Epoch 12/25\n",
            "50/50 [==============================] - ETA: 0s - loss: 0.0491 - accuracy: 0.9954\n",
            "Epoch 12: val_loss improved from 0.07653 to 0.06603, saving model to /content/drive/My Drive/MANDIBLE/models/unet.keras\n",
            "50/50 [==============================] - 27s 535ms/step - loss: 0.0491 - accuracy: 0.9954 - val_loss: 0.0660 - val_accuracy: 0.9882 - lr: 1.0000e-04\n",
            "Epoch 13/25\n",
            "50/50 [==============================] - ETA: 0s - loss: 0.0455 - accuracy: 0.9959\n",
            "Epoch 13: val_loss improved from 0.06603 to 0.05715, saving model to /content/drive/My Drive/MANDIBLE/models/unet.keras\n",
            "50/50 [==============================] - 27s 549ms/step - loss: 0.0455 - accuracy: 0.9959 - val_loss: 0.0572 - val_accuracy: 0.9914 - lr: 1.0000e-04\n",
            "Epoch 14/25\n",
            "50/50 [==============================] - ETA: 0s - loss: 0.0423 - accuracy: 0.9963\n",
            "Epoch 14: val_loss improved from 0.05715 to 0.05331, saving model to /content/drive/My Drive/MANDIBLE/models/unet.keras\n",
            "50/50 [==============================] - 27s 534ms/step - loss: 0.0423 - accuracy: 0.9963 - val_loss: 0.0533 - val_accuracy: 0.9917 - lr: 1.0000e-04\n",
            "Epoch 15/25\n",
            "50/50 [==============================] - ETA: 0s - loss: 0.0396 - accuracy: 0.9965\n",
            "Epoch 15: val_loss improved from 0.05331 to 0.04848, saving model to /content/drive/My Drive/MANDIBLE/models/unet.keras\n",
            "50/50 [==============================] - 27s 549ms/step - loss: 0.0396 - accuracy: 0.9965 - val_loss: 0.0485 - val_accuracy: 0.9930 - lr: 1.0000e-04\n",
            "Epoch 16/25\n",
            "50/50 [==============================] - ETA: 0s - loss: 0.0374 - accuracy: 0.9966\n",
            "Epoch 16: val_loss improved from 0.04848 to 0.04573, saving model to /content/drive/My Drive/MANDIBLE/models/unet.keras\n",
            "50/50 [==============================] - 27s 536ms/step - loss: 0.0374 - accuracy: 0.9966 - val_loss: 0.0457 - val_accuracy: 0.9930 - lr: 1.0000e-04\n",
            "Epoch 17/25\n",
            "50/50 [==============================] - ETA: 0s - loss: 0.0346 - accuracy: 0.9971\n",
            "Epoch 17: val_loss improved from 0.04573 to 0.04324, saving model to /content/drive/My Drive/MANDIBLE/models/unet.keras\n",
            "50/50 [==============================] - 27s 548ms/step - loss: 0.0346 - accuracy: 0.9971 - val_loss: 0.0432 - val_accuracy: 0.9934 - lr: 1.0000e-04\n",
            "Epoch 18/25\n",
            "50/50 [==============================] - ETA: 0s - loss: 0.0327 - accuracy: 0.9971\n",
            "Epoch 18: val_loss improved from 0.04324 to 0.04134, saving model to /content/drive/My Drive/MANDIBLE/models/unet.keras\n",
            "50/50 [==============================] - 27s 549ms/step - loss: 0.0327 - accuracy: 0.9971 - val_loss: 0.0413 - val_accuracy: 0.9939 - lr: 1.0000e-04\n",
            "Epoch 19/25\n",
            "50/50 [==============================] - ETA: 0s - loss: 0.0312 - accuracy: 0.9971\n",
            "Epoch 19: val_loss improved from 0.04134 to 0.04005, saving model to /content/drive/My Drive/MANDIBLE/models/unet.keras\n",
            "50/50 [==============================] - 27s 535ms/step - loss: 0.0312 - accuracy: 0.9971 - val_loss: 0.0401 - val_accuracy: 0.9936 - lr: 1.0000e-04\n",
            "Epoch 20/25\n",
            "50/50 [==============================] - ETA: 0s - loss: 0.0292 - accuracy: 0.9973\n",
            "Epoch 20: val_loss improved from 0.04005 to 0.03763, saving model to /content/drive/My Drive/MANDIBLE/models/unet.keras\n",
            "50/50 [==============================] - 27s 550ms/step - loss: 0.0292 - accuracy: 0.9973 - val_loss: 0.0376 - val_accuracy: 0.9942 - lr: 1.0000e-04\n",
            "Epoch 21/25\n",
            "50/50 [==============================] - ETA: 0s - loss: 0.0274 - accuracy: 0.9975\n",
            "Epoch 21: val_loss improved from 0.03763 to 0.03697, saving model to /content/drive/My Drive/MANDIBLE/models/unet.keras\n",
            "50/50 [==============================] - 27s 537ms/step - loss: 0.0274 - accuracy: 0.9975 - val_loss: 0.0370 - val_accuracy: 0.9943 - lr: 1.0000e-04\n",
            "Epoch 22/25\n",
            "50/50 [==============================] - ETA: 0s - loss: 0.0257 - accuracy: 0.9977\n",
            "Epoch 22: val_loss improved from 0.03697 to 0.03480, saving model to /content/drive/My Drive/MANDIBLE/models/unet.keras\n",
            "50/50 [==============================] - 27s 536ms/step - loss: 0.0257 - accuracy: 0.9977 - val_loss: 0.0348 - val_accuracy: 0.9947 - lr: 1.0000e-04\n",
            "Epoch 23/25\n",
            "50/50 [==============================] - ETA: 0s - loss: 0.0243 - accuracy: 0.9979\n",
            "Epoch 23: val_loss improved from 0.03480 to 0.03437, saving model to /content/drive/My Drive/MANDIBLE/models/unet.keras\n",
            "50/50 [==============================] - 27s 549ms/step - loss: 0.0243 - accuracy: 0.9979 - val_loss: 0.0344 - val_accuracy: 0.9940 - lr: 1.0000e-04\n",
            "Epoch 24/25\n",
            "50/50 [==============================] - ETA: 0s - loss: 0.0231 - accuracy: 0.9979\n",
            "Epoch 24: val_loss improved from 0.03437 to 0.03270, saving model to /content/drive/My Drive/MANDIBLE/models/unet.keras\n",
            "50/50 [==============================] - 27s 549ms/step - loss: 0.0231 - accuracy: 0.9979 - val_loss: 0.0327 - val_accuracy: 0.9948 - lr: 1.0000e-04\n",
            "Epoch 25/25\n",
            "50/50 [==============================] - ETA: 0s - loss: 0.0216 - accuracy: 0.9982\n",
            "Epoch 25: val_loss improved from 0.03270 to 0.03178, saving model to /content/drive/My Drive/MANDIBLE/models/unet.keras\n",
            "50/50 [==============================] - 27s 550ms/step - loss: 0.0216 - accuracy: 0.9982 - val_loss: 0.0318 - val_accuracy: 0.9947 - lr: 1.0000e-04\n",
            "Training time: 753.77 seconds\n"
          ]
        }
      ],
      "source": [
        "import time\n",
        "from keras.callbacks import ModelCheckpoint, ReduceLROnPlateau, EarlyStopping\n",
        "\n",
        "# Compile the model\n",
        "opt = tf.keras.optimizers.Adam(lr)\n",
        "model.compile(loss=\"binary_crossentropy\", optimizer=opt, metrics=[\"accuracy\"])\n",
        "\n",
        "# Calculate steps per epoch and validation steps\n",
        "stepsPerEpoch = len(trainimageNP) // batchSize\n",
        "validationSteps = len(validimageNP) // batchSize\n",
        "\n",
        "# Define callbacks\n",
        "callbacks = [\n",
        "    ModelCheckpoint(drive_path, verbose=1, save_best_only=True),\n",
        "    ReduceLROnPlateau(monitor=\"val_loss\", patience=5, factor=0.1, verbose=1, min_lr=1e-7),\n",
        "    EarlyStopping(monitor=\"val_loss\", patience=5, verbose=1, mode=\"min\")\n",
        "]\n",
        "\n",
        "# Record the start time\n",
        "start_time = time.time()\n",
        "\n",
        "# Train the model\n",
        "history = model.fit(trainimageNP, trainmaskNP,\n",
        "                    batch_size=batchSize,\n",
        "                    epochs=epochs,\n",
        "                    verbose=1,\n",
        "                    validation_data=(validimageNP, validmaskNP),\n",
        "                    validation_steps=validationSteps,\n",
        "                    steps_per_epoch=stepsPerEpoch,\n",
        "                    shuffle=True,\n",
        "                    callbacks=callbacks\n",
        "                    )\n",
        "\n",
        "# Record the end time\n",
        "end_time = time.time()\n",
        "\n",
        "# Calculate the training duration\n",
        "training_time = end_time - start_time\n",
        "\n",
        "print(f\"Training time: {training_time:.2f} seconds\")"
      ]
    },
    {
      "cell_type": "markdown",
      "metadata": {
        "id": "BUE0RwJJAsYp"
      },
      "source": [
        "## Performance Visualization"
      ]
    },
    {
      "cell_type": "code",
      "execution_count": null,
      "metadata": {
        "id": "-28VThoAcRVh",
        "colab": {
          "base_uri": "https://localhost:8080/",
          "height": 428
        },
        "outputId": "b39c316b-9556-4ac9-968c-d4cf7bbbf604"
      },
      "outputs": [
        {
          "output_type": "display_data",
          "data": {
            "text/plain": [
              "<Figure size 1200x400 with 2 Axes>"
            ],
            "image/png": "[encoded data removed]"
          },
          "metadata": {}
        }
      ],
      "source": [
        "import matplotlib.pyplot as plt\n",
        "\n",
        "# Plot training & validation accuracy values\n",
        "plt.figure(figsize=(12, 4))\n",
        "\n",
        "# Determine the number of epochs\n",
        "epochs = len(history.history['accuracy'])\n",
        "interval = 5\n",
        "\n",
        "plt.subplot(1, 2, 1)\n",
        "plt.plot(range(1, epochs + 1), history.history['accuracy'])\n",
        "plt.plot(range(1, epochs + 1), history.history['val_accuracy'])\n",
        "plt.title('Model accuracy')\n",
        "plt.ylabel('Accuracy')\n",
        "plt.xlabel('Epoch')\n",
        "plt.legend(['Train', 'Validation'], loc='upper left')\n",
        "plt.xticks(range(1, epochs + 1, interval))  # Set x-ticks with interval\n",
        "\n",
        "plt.subplot(1, 2, 2)\n",
        "plt.plot(range(1, epochs + 1), history.history['loss'])\n",
        "plt.plot(range(1, epochs + 1), history.history['val_loss'])\n",
        "plt.title('Model loss')\n",
        "plt.ylabel('Loss')\n",
        "plt.xlabel('Epoch')\n",
        "plt.legend(['Train', 'Validation'], loc='upper left')\n",
        "plt.xticks(range(1, epochs + 1, interval))  # Set x-ticks with interval\n",
        "\n",
        "# Add an overall title\n",
        "plt.suptitle('UNet Model Performance', fontsize=16)\n",
        "\n",
        "plt.show()"
      ]
    },
    {
      "cell_type": "markdown",
      "metadata": {
        "id": "2xlzUOxoAu9I"
      },
      "source": [
        "## Evaluating on Test Set"
      ]
    },
    {
      "cell_type": "code",
      "execution_count": null,
      "metadata": {
        "id": "8NFTRfWABArn",
        "colab": {
          "base_uri": "https://localhost:8080/"
        },
        "outputId": "f8ca6e30-8d0c-4da1-c546-72c3d7032dc8"
      },
      "outputs": [
        {
          "output_type": "stream",
          "name": "stdout",
          "text": [
            "8/8 [==============================] - 6s 742ms/step - loss: 0.0351 - accuracy: 0.9939\n",
            "Test Loss: 0.0351337306201458\n",
            "Test Accuracy: 0.993894100189209\n"
          ]
        }
      ],
      "source": [
        "from tensorflow.keras.models import load_model\n",
        "\n",
        "best_model = load_model(drive_path)\n",
        "\n",
        "test_loss, test_accuracy = best_model.evaluate(testimageNP, testmaskNP, verbose=1)\n",
        "\n",
        "print(f'Test Loss: {test_loss}')\n",
        "print(f'Test Accuracy: {test_accuracy}')"
      ]
    }
  ],
  "metadata": {
    "accelerator": "GPU",
    "colab": {
      "gpuType": "T4",
      "provenance": []
    },
    "kernelspec": {
      "display_name": "Python 3",
      "name": "python3"
    },
    "language_info": {
      "codemirror_mode": {
        "name": "ipython",
        "version": 3
      },
      "file_extension": ".py",
      "mimetype": "text/x-python",
      "name": "python",
      "nbconvert_exporter": "python",
      "pygments_lexer": "ipython3",
      "version": "3.12.2"
    }
  },
  "nbformat": 4,
  "nbformat_minor": 0
}