{
  "cells": [
    {
      "cell_type": "markdown",
      "metadata": {
        "id": "9c8c0yyVAhKf"
      },
      "source": [
        "# U-Net CNN Model"
      ]
    },
    {
      "cell_type": "markdown",
      "metadata": {
        "id": "e4ASHa7tAmQ1"
      },
      "source": [
        "## Model Building"
      ]
    },
    {
      "cell_type": "code",
      "execution_count": null,
      "metadata": {
        "id": "f6f293MBOr0j"
      },
      "outputs": [],
      "source": [
        "import tensorflow as tf\n",
        "from tensorflow.keras.layers import *\n",
        "from tensorflow.keras.models import Model\n",
        "from keras import backend as K"
      ]
    },
    {
      "cell_type": "code",
      "execution_count": null,
      "metadata": {
        "id": "aRdZpuQ-Or0k"
      },
      "outputs": [],
      "source": [
        "def conv_block(x, num_filters):\n",
        "    x = Conv2D(num_filters, (3,3), padding=\"same\")(x)\n",
        "    x = BatchNormalization()(x)\n",
        "    x = Activation(\"relu\")(x)\n",
        "\n",
        "    x = Conv2D(num_filters, (3,3), padding=\"same\")(x)\n",
        "    x = BatchNormalization()(x)\n",
        "    x = Activation(\"relu\")(x)\n",
        "\n",
        "    return x"
      ]
    },
    {
      "cell_type": "code",
      "execution_count": null,
      "metadata": {
        "id": "Q_Db_OUPOr0k"
      },
      "outputs": [],
      "source": [
        "def build_model(shape):\n",
        "    num_filters = [64, 128, 256, 512]\n",
        "    inputs = Input(shape)\n",
        "\n",
        "    skip_x = []\n",
        "    x = inputs\n",
        "\n",
        "    # ENCODER\n",
        "    for f in num_filters:\n",
        "        x = conv_block(x, f)\n",
        "        skip_x.append(x)\n",
        "        x = MaxPooling2D((2, 2))(x)\n",
        "\n",
        "    # BRIDGE\n",
        "    x = conv_block(x, 1024)\n",
        "\n",
        "    num_filters.reverse()\n",
        "    skip_x.reverse()\n",
        "\n",
        "    # DECODER\n",
        "    for i, f in enumerate(num_filters):\n",
        "        x = UpSampling2D((2, 2))(x)\n",
        "        xs = skip_x[i]\n",
        "\n",
        "        # Apply cropping or padding to match shapes\n",
        "        diff_h = xs.shape[1] - x.shape[1]\n",
        "        diff_w = xs.shape[2] - x.shape[2]\n",
        "\n",
        "        if diff_h > 0:\n",
        "            x = ZeroPadding2D(((0, diff_h), (0, 0)))(x)\n",
        "        elif diff_h < 0:\n",
        "            xs = ZeroPadding2D(((0, -diff_h), (0, 0)))(xs)\n",
        "\n",
        "        if diff_w > 0:\n",
        "            x = ZeroPadding2D(((0, 0), (0, diff_w)))(x)\n",
        "        elif diff_w < 0:\n",
        "            xs = ZeroPadding2D(((0, 0), (0, -diff_w)))(xs)\n",
        "\n",
        "        x = Concatenate()([x, xs])\n",
        "        x = conv_block(x, f)\n",
        "\n",
        "    # OUTPUT\n",
        "    x = Conv2D(1, (1, 1), padding=\"same\")(x)  # Output with 1 channel\n",
        "    x = Activation(\"sigmoid\")(x)\n",
        "\n",
        "    return Model(inputs, x)"
      ]
    },
    {
      "cell_type": "code",
      "execution_count": null,
      "metadata": {
        "colab": {
          "base_uri": "https://localhost:8080/"
        },
        "id": "BzGhyCMhOr0k",
        "outputId": "ecb84fab-c06f-4493-8554-6a927ab77fb1"
      },
      "outputs": [
        {
          "name": "stdout",
          "output_type": "stream",
          "text": [
            "Model: \"model\"\n",
            "__________________________________________________________________________________________________\n",
            " Layer (type)                Output Shape                 Param #   Connected to                  \n",
            "==================================================================================================\n",
            " input_1 (InputLayer)        [(None, 300, 130, 3)]        0         []                            \n",
            "                                                                                                  \n",
            " conv2d (Conv2D)             (None, 300, 130, 64)         1792      ['input_1[0][0]']             \n",
            "                                                                                                  \n",
            " batch_normalization (Batch  (None, 300, 130, 64)         256       ['conv2d[0][0]']              \n",
            " Normalization)                                                                                   \n",
            "                                                                                                  \n",
            " activation (Activation)     (None, 300, 130, 64)         0         ['batch_normalization[0][0]'] \n",
            "                                                                                                  \n",
            " conv2d_1 (Conv2D)           (None, 300, 130, 64)         36928     ['activation[0][0]']          \n",
            "                                                                                                  \n",
            " batch_normalization_1 (Bat  (None, 300, 130, 64)         256       ['conv2d_1[0][0]']            \n",
            " chNormalization)                                                                                 \n",
            "                                                                                                  \n",
            " activation_1 (Activation)   (None, 300, 130, 64)         0         ['batch_normalization_1[0][0]'\n",
            "                                                                    ]                             \n",
            "                                                                                                  \n",
            " max_pooling2d (MaxPooling2  (None, 150, 65, 64)          0         ['activation_1[0][0]']        \n",
            " D)                                                                                               \n",
            "                                                                                                  \n",
            " conv2d_2 (Conv2D)           (None, 150, 65, 128)         73856     ['max_pooling2d[0][0]']       \n",
            "                                                                                                  \n",
            " batch_normalization_2 (Bat  (None, 150, 65, 128)         512       ['conv2d_2[0][0]']            \n",
            " chNormalization)                                                                                 \n",
            "                                                                                                  \n",
            " activation_2 (Activation)   (None, 150, 65, 128)         0         ['batch_normalization_2[0][0]'\n",
            "                                                                    ]                             \n",
            "                                                                                                  \n",
            " conv2d_3 (Conv2D)           (None, 150, 65, 128)         147584    ['activation_2[0][0]']        \n",
            "                                                                                                  \n",
            " batch_normalization_3 (Bat  (None, 150, 65, 128)         512       ['conv2d_3[0][0]']            \n",
            " chNormalization)                                                                                 \n",
            "                                                                                                  \n",
            " activation_3 (Activation)   (None, 150, 65, 128)         0         ['batch_normalization_3[0][0]'\n",
            "                                                                    ]                             \n",
            "                                                                                                  \n",
            " max_pooling2d_1 (MaxPoolin  (None, 75, 32, 128)          0         ['activation_3[0][0]']        \n",
            " g2D)                                                                                             \n",
            "                                                                                                  \n",
            " conv2d_4 (Conv2D)           (None, 75, 32, 256)          295168    ['max_pooling2d_1[0][0]']     \n",
            "                                                                                                  \n",
            " batch_normalization_4 (Bat  (None, 75, 32, 256)          1024      ['conv2d_4[0][0]']            \n",
            " chNormalization)                                                                                 \n",
            "                                                                                                  \n",
            " activation_4 (Activation)   (None, 75, 32, 256)          0         ['batch_normalization_4[0][0]'\n",
            "                                                                    ]                             \n",
            "                                                                                                  \n",
            " conv2d_5 (Conv2D)           (None, 75, 32, 256)          590080    ['activation_4[0][0]']        \n",
            "                                                                                                  \n",
            " batch_normalization_5 (Bat  (None, 75, 32, 256)          1024      ['conv2d_5[0][0]']            \n",
            " chNormalization)                                                                                 \n",
            "                                                                                                  \n",
            " activation_5 (Activation)   (None, 75, 32, 256)          0         ['batch_normalization_5[0][0]'\n",
            "                                                                    ]                             \n",
            "                                                                                                  \n",
            " max_pooling2d_2 (MaxPoolin  (None, 37, 16, 256)          0         ['activation_5[0][0]']        \n",
            " g2D)                                                                                             \n",
            "                                                                                                  \n",
            " conv2d_6 (Conv2D)           (None, 37, 16, 512)          1180160   ['max_pooling2d_2[0][0]']     \n",
            "                                                                                                  \n",
            " batch_normalization_6 (Bat  (None, 37, 16, 512)          2048      ['conv2d_6[0][0]']            \n",
            " chNormalization)                                                                                 \n",
            "                                                                                                  \n",
            " activation_6 (Activation)   (None, 37, 16, 512)          0         ['batch_normalization_6[0][0]'\n",
            "                                                                    ]                             \n",
            "                                                                                                  \n",
            " conv2d_7 (Conv2D)           (None, 37, 16, 512)          2359808   ['activation_6[0][0]']        \n",
            "                                                                                                  \n",
            " batch_normalization_7 (Bat  (None, 37, 16, 512)          2048      ['conv2d_7[0][0]']            \n",
            " chNormalization)                                                                                 \n",
            "                                                                                                  \n",
            " activation_7 (Activation)   (None, 37, 16, 512)          0         ['batch_normalization_7[0][0]'\n",
            "                                                                    ]                             \n",
            "                                                                                                  \n",
            " max_pooling2d_3 (MaxPoolin  (None, 18, 8, 512)           0         ['activation_7[0][0]']        \n",
            " g2D)                                                                                             \n",
            "                                                                                                  \n",
            " conv2d_8 (Conv2D)           (None, 18, 8, 1024)          4719616   ['max_pooling2d_3[0][0]']     \n",
            "                                                                                                  \n",
            " batch_normalization_8 (Bat  (None, 18, 8, 1024)          4096      ['conv2d_8[0][0]']            \n",
            " chNormalization)                                                                                 \n",
            "                                                                                                  \n",
            " activation_8 (Activation)   (None, 18, 8, 1024)          0         ['batch_normalization_8[0][0]'\n",
            "                                                                    ]                             \n",
            "                                                                                                  \n",
            " conv2d_9 (Conv2D)           (None, 18, 8, 1024)          9438208   ['activation_8[0][0]']        \n",
            "                                                                                                  \n",
            " batch_normalization_9 (Bat  (None, 18, 8, 1024)          4096      ['conv2d_9[0][0]']            \n",
            " chNormalization)                                                                                 \n",
            "                                                                                                  \n",
            " activation_9 (Activation)   (None, 18, 8, 1024)          0         ['batch_normalization_9[0][0]'\n",
            "                                                                    ]                             \n",
            "                                                                                                  \n",
            " up_sampling2d (UpSampling2  (None, 36, 16, 1024)         0         ['activation_9[0][0]']        \n",
            " D)                                                                                               \n",
            "                                                                                                  \n",
            " zero_padding2d (ZeroPaddin  (None, 37, 16, 1024)         0         ['up_sampling2d[0][0]']       \n",
            " g2D)                                                                                             \n",
            "                                                                                                  \n",
            " concatenate (Concatenate)   (None, 37, 16, 1536)         0         ['zero_padding2d[0][0]',      \n",
            "                                                                     'activation_7[0][0]']        \n",
            "                                                                                                  \n",
            " conv2d_10 (Conv2D)          (None, 37, 16, 512)          7078400   ['concatenate[0][0]']         \n",
            "                                                                                                  \n",
            " batch_normalization_10 (Ba  (None, 37, 16, 512)          2048      ['conv2d_10[0][0]']           \n",
            " tchNormalization)                                                                                \n",
            "                                                                                                  \n",
            " activation_10 (Activation)  (None, 37, 16, 512)          0         ['batch_normalization_10[0][0]\n",
            "                                                                    ']                            \n",
            "                                                                                                  \n",
            " conv2d_11 (Conv2D)          (None, 37, 16, 512)          2359808   ['activation_10[0][0]']       \n",
            "                                                                                                  \n",
            " batch_normalization_11 (Ba  (None, 37, 16, 512)          2048      ['conv2d_11[0][0]']           \n",
            " tchNormalization)                                                                                \n",
            "                                                                                                  \n",
            " activation_11 (Activation)  (None, 37, 16, 512)          0         ['batch_normalization_11[0][0]\n",
            "                                                                    ']                            \n",
            "                                                                                                  \n",
            " up_sampling2d_1 (UpSamplin  (None, 74, 32, 512)          0         ['activation_11[0][0]']       \n",
            " g2D)                                                                                             \n",
            "                                                                                                  \n",
            " zero_padding2d_1 (ZeroPadd  (None, 75, 32, 512)          0         ['up_sampling2d_1[0][0]']     \n",
            " ing2D)                                                                                           \n",
            "                                                                                                  \n",
            " concatenate_1 (Concatenate  (None, 75, 32, 768)          0         ['zero_padding2d_1[0][0]',    \n",
            " )                                                                   'activation_5[0][0]']        \n",
            "                                                                                                  \n",
            " conv2d_12 (Conv2D)          (None, 75, 32, 256)          1769728   ['concatenate_1[0][0]']       \n",
            "                                                                                                  \n",
            " batch_normalization_12 (Ba  (None, 75, 32, 256)          1024      ['conv2d_12[0][0]']           \n",
            " tchNormalization)                                                                                \n",
            "                                                                                                  \n",
            " activation_12 (Activation)  (None, 75, 32, 256)          0         ['batch_normalization_12[0][0]\n",
            "                                                                    ']                            \n",
            "                                                                                                  \n",
            " conv2d_13 (Conv2D)          (None, 75, 32, 256)          590080    ['activation_12[0][0]']       \n",
            "                                                                                                  \n",
            " batch_normalization_13 (Ba  (None, 75, 32, 256)          1024      ['conv2d_13[0][0]']           \n",
            " tchNormalization)                                                                                \n",
            "                                                                                                  \n",
            " activation_13 (Activation)  (None, 75, 32, 256)          0         ['batch_normalization_13[0][0]\n",
            "                                                                    ']                            \n",
            "                                                                                                  \n",
            " up_sampling2d_2 (UpSamplin  (None, 150, 64, 256)         0         ['activation_13[0][0]']       \n",
            " g2D)                                                                                             \n",
            "                                                                                                  \n",
            " zero_padding2d_2 (ZeroPadd  (None, 150, 65, 256)         0         ['up_sampling2d_2[0][0]']     \n",
            " ing2D)                                                                                           \n",
            "                                                                                                  \n",
            " concatenate_2 (Concatenate  (None, 150, 65, 384)         0         ['zero_padding2d_2[0][0]',    \n",
            " )                                                                   'activation_3[0][0]']        \n",
            "                                                                                                  \n",
            " conv2d_14 (Conv2D)          (None, 150, 65, 128)         442496    ['concatenate_2[0][0]']       \n",
            "                                                                                                  \n",
            " batch_normalization_14 (Ba  (None, 150, 65, 128)         512       ['conv2d_14[0][0]']           \n",
            " tchNormalization)                                                                                \n",
            "                                                                                                  \n",
            " activation_14 (Activation)  (None, 150, 65, 128)         0         ['batch_normalization_14[0][0]\n",
            "                                                                    ']                            \n",
            "                                                                                                  \n",
            " conv2d_15 (Conv2D)          (None, 150, 65, 128)         147584    ['activation_14[0][0]']       \n",
            "                                                                                                  \n",
            " batch_normalization_15 (Ba  (None, 150, 65, 128)         512       ['conv2d_15[0][0]']           \n",
            " tchNormalization)                                                                                \n",
            "                                                                                                  \n",
            " activation_15 (Activation)  (None, 150, 65, 128)         0         ['batch_normalization_15[0][0]\n",
            "                                                                    ']                            \n",
            "                                                                                                  \n",
            " up_sampling2d_3 (UpSamplin  (None, 300, 130, 128)        0         ['activation_15[0][0]']       \n",
            " g2D)                                                                                             \n",
            "                                                                                                  \n",
            " concatenate_3 (Concatenate  (None, 300, 130, 192)        0         ['up_sampling2d_3[0][0]',     \n",
            " )                                                                   'activation_1[0][0]']        \n",
            "                                                                                                  \n",
            " conv2d_16 (Conv2D)          (None, 300, 130, 64)         110656    ['concatenate_3[0][0]']       \n",
            "                                                                                                  \n",
            " batch_normalization_16 (Ba  (None, 300, 130, 64)         256       ['conv2d_16[0][0]']           \n",
            " tchNormalization)                                                                                \n",
            "                                                                                                  \n",
            " activation_16 (Activation)  (None, 300, 130, 64)         0         ['batch_normalization_16[0][0]\n",
            "                                                                    ']                            \n",
            "                                                                                                  \n",
            " conv2d_17 (Conv2D)          (None, 300, 130, 64)         36928     ['activation_16[0][0]']       \n",
            "                                                                                                  \n",
            " batch_normalization_17 (Ba  (None, 300, 130, 64)         256       ['conv2d_17[0][0]']           \n",
            " tchNormalization)                                                                                \n",
            "                                                                                                  \n",
            " activation_17 (Activation)  (None, 300, 130, 64)         0         ['batch_normalization_17[0][0]\n",
            "                                                                    ']                            \n",
            "                                                                                                  \n",
            " conv2d_18 (Conv2D)          (None, 300, 130, 1)          65        ['activation_17[0][0]']       \n",
            "                                                                                                  \n",
            " activation_18 (Activation)  (None, 300, 130, 1)          0         ['conv2d_18[0][0]']           \n",
            "                                                                                                  \n",
            "==================================================================================================\n",
            "Total params: 31402497 (119.79 MB)\n",
            "Trainable params: 31390721 (119.75 MB)\n",
            "Non-trainable params: 11776 (46.00 KB)\n",
            "__________________________________________________________________________________________________\n",
            "None\n"
          ]
        }
      ],
      "source": [
        "input_shape = (300, 130, 3)\n",
        "model = build_model(input_shape)\n",
        "print(model.summary())"
      ]
    },
    {
      "cell_type": "markdown",
      "metadata": {
        "id": "v2OYzopXAq4o"
      },
      "source": [
        "## Getting Train-Valid-Test Data"
      ]
    },
    {
      "cell_type": "code",
      "execution_count": null,
      "metadata": {
        "colab": {
          "base_uri": "https://localhost:8080/"
        },
        "id": "qZjyKvfha63x",
        "outputId": "89d6e7d9-af8a-4f34-c005-4fd1215a2a69"
      },
      "outputs": [
        {
          "name": "stdout",
          "output_type": "stream",
          "text": [
            "Mounted at /content/drive\n"
          ]
        }
      ],
      "source": [
        "from google.colab import drive\n",
        "\n",
        "drive.mount('/content/drive')"
      ]
    },
    {
      "cell_type": "code",
      "execution_count": null,
      "metadata": {
        "id": "Okh0TMrCOr0l"
      },
      "outputs": [],
      "source": [
        "import numpy as np\n",
        "\n",
        "# TRAIN\n",
        "trainimageNP = np.load(\"/content/drive/My Drive/MANDIBLE/train_img.npy\")\n",
        "trainmaskNP = np.load(\"/content/drive/My Drive/MANDIBLE/train_mask.npy\")\n",
        "\n",
        "# VALID\n",
        "validimageNP = np.load(\"/content/drive/My Drive/MANDIBLE/valid_img.npy\")\n",
        "validmaskNP = np.load(\"/content/drive/My Drive/MANDIBLE/valid_mask.npy\")\n",
        "\n",
        "# TEST\n",
        "testimageNP = np.load(\"/content/drive/My Drive/MANDIBLE/test_img.npy\")\n",
        "testmaskNP = np.load(\"/content/drive/My Drive/MANDIBLE/test_mask.npy\")"
      ]
    },
    {
      "cell_type": "code",
      "execution_count": null,
      "metadata": {
        "colab": {
          "base_uri": "https://localhost:8080/"
        },
        "id": "e1F4uNW4Or0l",
        "outputId": "8e90f6db-4929-4951-dda9-bfc67f81c306"
      },
      "outputs": [
        {
          "name": "stdout",
          "output_type": "stream",
          "text": [
            "(1626, 300, 130, 3)\n",
            "(1626, 300, 130)\n",
            "(465, 300, 130, 3)\n",
            "(465, 300, 130)\n",
            "(233, 300, 130, 3)\n",
            "(233, 300, 130)\n"
          ]
        }
      ],
      "source": [
        "print(trainimageNP.shape)\n",
        "print(trainmaskNP.shape)\n",
        "print(validimageNP.shape)\n",
        "print(validmaskNP.shape)\n",
        "print(testimageNP.shape)\n",
        "print(testmaskNP.shape)"
      ]
    },
    {
      "cell_type": "markdown",
      "metadata": {
        "id": "_Kdr09oOAyTz"
      },
      "source": [
        "## Epoch Training"
      ]
    },
    {
      "cell_type": "code",
      "execution_count": null,
      "metadata": {
        "id": "q640yOtXOr0l"
      },
      "outputs": [],
      "source": [
        "lr = 1e-4\n",
        "batchSize = 32\n",
        "epochs = 25"
      ]
    },
    {
      "cell_type": "code",
      "execution_count": null,
      "metadata": {
        "id": "j2_wjOlNdeE1"
      },
      "outputs": [],
      "source": [
        "drive_path = '/content/drive/My Drive/MANDIBLE/models/unet.keras'"
      ]
    },
    {
      "cell_type": "code",
      "execution_count": null,
      "metadata": {
        "colab": {
          "base_uri": "https://localhost:8080/"
        },
        "id": "4fsQI-TpOr0l",
        "outputId": "c707ab61-c38d-4076-982e-b851076c3788"
      },
      "outputs": [
        {
          "name": "stdout",
          "output_type": "stream",
          "text": [
            "Epoch 1/25\n",
            "50/50 [==============================] - ETA: 0s - loss: 0.2311 - accuracy: 0.9031\n",
            "Epoch 1: val_loss improved from inf to 0.98896, saving model to /content/drive/My Drive/MANDIBLE/models/unet.keras\n",
            "50/50 [==============================] - 136s 1s/step - loss: 0.2311 - accuracy: 0.9031 - val_loss: 0.9890 - val_accuracy: 0.4535 - lr: 1.0000e-04\n",
            "Epoch 2/25\n",
            "50/50 [==============================] - ETA: 0s - loss: 0.1097 - accuracy: 0.9586\n",
            "Epoch 2: val_loss improved from 0.98896 to 0.59848, saving model to /content/drive/My Drive/MANDIBLE/models/unet.keras\n",
            "50/50 [==============================] - 107s 1s/step - loss: 0.1097 - accuracy: 0.9586 - val_loss: 0.5985 - val_accuracy: 0.6918 - lr: 1.0000e-04\n",
            "Epoch 3/25\n",
            "50/50 [==============================] - ETA: 0s - loss: 0.0817 - accuracy: 0.9702\n",
            "Epoch 3: val_loss improved from 0.59848 to 0.56331, saving model to /content/drive/My Drive/MANDIBLE/models/unet.keras\n",
            "50/50 [==============================] - 65s 1s/step - loss: 0.0817 - accuracy: 0.9702 - val_loss: 0.5633 - val_accuracy: 0.7075 - lr: 1.0000e-04\n",
            "Epoch 4/25\n",
            "50/50 [==============================] - ETA: 0s - loss: 0.0643 - accuracy: 0.9774\n",
            "Epoch 4: val_loss improved from 0.56331 to 0.44330, saving model to /content/drive/My Drive/MANDIBLE/models/unet.keras\n",
            "50/50 [==============================] - 65s 1s/step - loss: 0.0643 - accuracy: 0.9774 - val_loss: 0.4433 - val_accuracy: 0.7984 - lr: 1.0000e-04\n",
            "Epoch 5/25\n",
            "50/50 [==============================] - ETA: 0s - loss: 0.0521 - accuracy: 0.9821\n",
            "Epoch 5: val_loss did not improve from 0.44330\n",
            "50/50 [==============================] - 63s 1s/step - loss: 0.0521 - accuracy: 0.9821 - val_loss: 0.6435 - val_accuracy: 0.6859 - lr: 1.0000e-04\n",
            "Epoch 6/25\n",
            "50/50 [==============================] - ETA: 0s - loss: 0.0448 - accuracy: 0.9849\n",
            "Epoch 6: val_loss improved from 0.44330 to 0.34856, saving model to /content/drive/My Drive/MANDIBLE/models/unet.keras\n",
            "50/50 [==============================] - 70s 1s/step - loss: 0.0448 - accuracy: 0.9849 - val_loss: 0.3486 - val_accuracy: 0.8441 - lr: 1.0000e-04\n",
            "Epoch 7/25\n",
            "50/50 [==============================] - ETA: 0s - loss: 0.0378 - accuracy: 0.9876\n",
            "Epoch 7: val_loss improved from 0.34856 to 0.30094, saving model to /content/drive/My Drive/MANDIBLE/models/unet.keras\n",
            "50/50 [==============================] - 66s 1s/step - loss: 0.0378 - accuracy: 0.9876 - val_loss: 0.3009 - val_accuracy: 0.8697 - lr: 1.0000e-04\n",
            "Epoch 8/25\n",
            "50/50 [==============================] - ETA: 0s - loss: 0.0321 - accuracy: 0.9898\n",
            "Epoch 8: val_loss improved from 0.30094 to 0.23008, saving model to /content/drive/My Drive/MANDIBLE/models/unet.keras\n",
            "50/50 [==============================] - 70s 1s/step - loss: 0.0321 - accuracy: 0.9898 - val_loss: 0.2301 - val_accuracy: 0.9070 - lr: 1.0000e-04\n",
            "Epoch 9/25\n",
            "50/50 [==============================] - ETA: 0s - loss: 0.0483 - accuracy: 0.9827\n",
            "Epoch 9: val_loss improved from 0.23008 to 0.16264, saving model to /content/drive/My Drive/MANDIBLE/models/unet.keras\n",
            "50/50 [==============================] - 66s 1s/step - loss: 0.0483 - accuracy: 0.9827 - val_loss: 0.1626 - val_accuracy: 0.9358 - lr: 1.0000e-04\n",
            "Epoch 10/25\n",
            "50/50 [==============================] - ETA: 0s - loss: 0.0319 - accuracy: 0.9893\n",
            "Epoch 10: val_loss improved from 0.16264 to 0.08793, saving model to /content/drive/My Drive/MANDIBLE/models/unet.keras\n",
            "50/50 [==============================] - 66s 1s/step - loss: 0.0319 - accuracy: 0.9893 - val_loss: 0.0879 - val_accuracy: 0.9679 - lr: 1.0000e-04\n",
            "Epoch 11/25\n",
            "50/50 [==============================] - ETA: 0s - loss: 0.0251 - accuracy: 0.9921\n",
            "Epoch 11: val_loss improved from 0.08793 to 0.06299, saving model to /content/drive/My Drive/MANDIBLE/models/unet.keras\n",
            "50/50 [==============================] - 71s 1s/step - loss: 0.0251 - accuracy: 0.9921 - val_loss: 0.0630 - val_accuracy: 0.9779 - lr: 1.0000e-04\n",
            "Epoch 12/25\n",
            "50/50 [==============================] - ETA: 0s - loss: 0.0218 - accuracy: 0.9934\n",
            "Epoch 12: val_loss improved from 0.06299 to 0.05296, saving model to /content/drive/My Drive/MANDIBLE/models/unet.keras\n",
            "50/50 [==============================] - 71s 1s/step - loss: 0.0218 - accuracy: 0.9934 - val_loss: 0.0530 - val_accuracy: 0.9822 - lr: 1.0000e-04\n",
            "Epoch 13/25\n",
            "50/50 [==============================] - ETA: 0s - loss: 0.0198 - accuracy: 0.9939\n",
            "Epoch 13: val_loss improved from 0.05296 to 0.04392, saving model to /content/drive/My Drive/MANDIBLE/models/unet.keras\n",
            "50/50 [==============================] - 71s 1s/step - loss: 0.0198 - accuracy: 0.9939 - val_loss: 0.0439 - val_accuracy: 0.9858 - lr: 1.0000e-04\n",
            "Epoch 14/25\n",
            "50/50 [==============================] - ETA: 0s - loss: 0.0185 - accuracy: 0.9943\n",
            "Epoch 14: val_loss improved from 0.04392 to 0.04101, saving model to /content/drive/My Drive/MANDIBLE/models/unet.keras\n",
            "50/50 [==============================] - 71s 1s/step - loss: 0.0185 - accuracy: 0.9943 - val_loss: 0.0410 - val_accuracy: 0.9870 - lr: 1.0000e-04\n",
            "Epoch 15/25\n",
            "50/50 [==============================] - ETA: 0s - loss: 0.0177 - accuracy: 0.9945\n",
            "Epoch 15: val_loss improved from 0.04101 to 0.03857, saving model to /content/drive/My Drive/MANDIBLE/models/unet.keras\n",
            "50/50 [==============================] - 73s 1s/step - loss: 0.0177 - accuracy: 0.9945 - val_loss: 0.0386 - val_accuracy: 0.9878 - lr: 1.0000e-04\n",
            "Epoch 16/25\n",
            "50/50 [==============================] - ETA: 0s - loss: 0.0172 - accuracy: 0.9945\n",
            "Epoch 16: val_loss improved from 0.03857 to 0.03808, saving model to /content/drive/My Drive/MANDIBLE/models/unet.keras\n",
            "50/50 [==============================] - 72s 1s/step - loss: 0.0172 - accuracy: 0.9945 - val_loss: 0.0381 - val_accuracy: 0.9878 - lr: 1.0000e-04\n",
            "Epoch 17/25\n",
            "50/50 [==============================] - ETA: 0s - loss: 0.0158 - accuracy: 0.9950\n",
            "Epoch 17: val_loss improved from 0.03808 to 0.03678, saving model to /content/drive/My Drive/MANDIBLE/models/unet.keras\n",
            "50/50 [==============================] - 71s 1s/step - loss: 0.0158 - accuracy: 0.9950 - val_loss: 0.0368 - val_accuracy: 0.9883 - lr: 1.0000e-04\n",
            "Epoch 18/25\n",
            "50/50 [==============================] - ETA: 0s - loss: 0.0144 - accuracy: 0.9954\n",
            "Epoch 18: val_loss improved from 0.03678 to 0.03670, saving model to /content/drive/My Drive/MANDIBLE/models/unet.keras\n",
            "50/50 [==============================] - 71s 1s/step - loss: 0.0144 - accuracy: 0.9954 - val_loss: 0.0367 - val_accuracy: 0.9886 - lr: 1.0000e-04\n",
            "Epoch 19/25\n",
            "50/50 [==============================] - ETA: 0s - loss: 0.0139 - accuracy: 0.9956\n",
            "Epoch 19: val_loss improved from 0.03670 to 0.03526, saving model to /content/drive/My Drive/MANDIBLE/models/unet.keras\n",
            "50/50 [==============================] - 71s 1s/step - loss: 0.0139 - accuracy: 0.9956 - val_loss: 0.0353 - val_accuracy: 0.9890 - lr: 1.0000e-04\n",
            "Epoch 20/25\n",
            "50/50 [==============================] - ETA: 0s - loss: 0.0130 - accuracy: 0.9959\n",
            "Epoch 20: val_loss did not improve from 0.03526\n",
            "50/50 [==============================] - 64s 1s/step - loss: 0.0130 - accuracy: 0.9959 - val_loss: 0.0359 - val_accuracy: 0.9889 - lr: 1.0000e-04\n",
            "Epoch 21/25\n",
            "50/50 [==============================] - ETA: 0s - loss: 0.0123 - accuracy: 0.9961\n",
            "Epoch 21: val_loss improved from 0.03526 to 0.03496, saving model to /content/drive/My Drive/MANDIBLE/models/unet.keras\n",
            "50/50 [==============================] - 70s 1s/step - loss: 0.0123 - accuracy: 0.9961 - val_loss: 0.0350 - val_accuracy: 0.9892 - lr: 1.0000e-04\n",
            "Epoch 22/25\n",
            "50/50 [==============================] - ETA: 0s - loss: 0.0115 - accuracy: 0.9963\n",
            "Epoch 22: val_loss improved from 0.03496 to 0.03400, saving model to /content/drive/My Drive/MANDIBLE/models/unet.keras\n",
            "50/50 [==============================] - 71s 1s/step - loss: 0.0115 - accuracy: 0.9963 - val_loss: 0.0340 - val_accuracy: 0.9899 - lr: 1.0000e-04\n",
            "Epoch 23/25\n",
            "50/50 [==============================] - ETA: 0s - loss: 0.0114 - accuracy: 0.9963\n",
            "Epoch 23: val_loss improved from 0.03400 to 0.03352, saving model to /content/drive/My Drive/MANDIBLE/models/unet.keras\n",
            "50/50 [==============================] - 71s 1s/step - loss: 0.0114 - accuracy: 0.9963 - val_loss: 0.0335 - val_accuracy: 0.9900 - lr: 1.0000e-04\n",
            "Epoch 24/25\n",
            "50/50 [==============================] - ETA: 0s - loss: 0.0109 - accuracy: 0.9964\n",
            "Epoch 24: val_loss did not improve from 0.03352\n",
            "50/50 [==============================] - 64s 1s/step - loss: 0.0109 - accuracy: 0.9964 - val_loss: 0.0343 - val_accuracy: 0.9897 - lr: 1.0000e-04\n",
            "Epoch 25/25\n",
            "50/50 [==============================] - ETA: 0s - loss: 0.0104 - accuracy: 0.9966\n",
            "Epoch 25: val_loss improved from 0.03352 to 0.03283, saving model to /content/drive/My Drive/MANDIBLE/models/unet.keras\n",
            "50/50 [==============================] - 72s 1s/step - loss: 0.0104 - accuracy: 0.9966 - val_loss: 0.0328 - val_accuracy: 0.9903 - lr: 1.0000e-04\n",
            "Training time: 1890.41 seconds\n"
          ]
        }
      ],
      "source": [
        "import time\n",
        "from keras.callbacks import ModelCheckpoint, ReduceLROnPlateau, EarlyStopping\n",
        "\n",
        "# Compile the model\n",
        "opt = tf.keras.optimizers.Adam(lr)\n",
        "model.compile(loss=\"binary_crossentropy\", optimizer=opt, metrics=[\"accuracy\"])\n",
        "\n",
        "# Calculate steps per epoch and validation steps\n",
        "stepsPerEpoch = len(trainimageNP) // batchSize\n",
        "validationSteps = len(validimageNP) // batchSize\n",
        "\n",
        "# Define callbacks\n",
        "callbacks = [\n",
        "    ModelCheckpoint(drive_path, verbose=1, save_best_only=True),\n",
        "    ReduceLROnPlateau(monitor=\"val_loss\", patience=5, factor=0.1, verbose=1, min_lr=1e-7),\n",
        "    EarlyStopping(monitor=\"val_loss\", patience=5, verbose=1, mode=\"min\")\n",
        "]\n",
        "\n",
        "# Record the start time\n",
        "start_time = time.time()\n",
        "\n",
        "# Train the model\n",
        "history = model.fit(trainimageNP, trainmaskNP,\n",
        "                    batch_size=batchSize,\n",
        "                    epochs=epochs,\n",
        "                    verbose=1,\n",
        "                    validation_data=(validimageNP, validmaskNP),\n",
        "                    validation_steps=validationSteps,\n",
        "                    steps_per_epoch=stepsPerEpoch,\n",
        "                    shuffle=True,\n",
        "                    callbacks=callbacks\n",
        "                    )\n",
        "\n",
        "# Record the end time\n",
        "end_time = time.time()\n",
        "\n",
        "# Calculate the training duration\n",
        "training_time = end_time - start_time\n",
        "\n",
        "print(f\"Training time: {training_time:.2f} seconds\")"
      ]
    },
    {
      "cell_type": "markdown",
      "metadata": {
        "id": "BUE0RwJJAsYp"
      },
      "source": [
        "## Performance Visualization"
      ]
    },
    {
      "cell_type": "code",
      "execution_count": null,
      "metadata": {
        "colab": {
          "base_uri": "https://localhost:8080/",
          "height": 428
        },
        "id": "-28VThoAcRVh",
        "outputId": "a81d2022-f601-4d1f-fe33-53e34fa5e932"
      },
      "outputs": [
        {
          "data": {
            "image/png": "[encoded data removed]",
            "text/plain": [
              "<Figure size 1200x400 with 2 Axes>"
            ]
          },
          "metadata": {},
          "output_type": "display_data"
        }
      ],
      "source": [
        "import matplotlib.pyplot as plt\n",
        "\n",
        "# Plot training & validation accuracy values\n",
        "plt.figure(figsize=(12, 4))\n",
        "\n",
        "# Determine the number of epochs\n",
        "epochs = len(history.history['accuracy'])\n",
        "interval = 5\n",
        "\n",
        "plt.subplot(1, 2, 1)\n",
        "plt.plot(range(1, epochs + 1), history.history['accuracy'])\n",
        "plt.plot(range(1, epochs + 1), history.history['val_accuracy'])\n",
        "plt.title('Model accuracy')\n",
        "plt.ylabel('Accuracy')\n",
        "plt.xlabel('Epoch')\n",
        "plt.legend(['Train', 'Validation'], loc='upper left')\n",
        "plt.xticks(range(1, epochs + 1, interval))  # Set x-ticks with interval\n",
        "\n",
        "plt.subplot(1, 2, 2)\n",
        "plt.plot(range(1, epochs + 1), history.history['loss'])\n",
        "plt.plot(range(1, epochs + 1), history.history['val_loss'])\n",
        "plt.title('Model loss')\n",
        "plt.ylabel('Loss')\n",
        "plt.xlabel('Epoch')\n",
        "plt.legend(['Train', 'Validation'], loc='upper left')\n",
        "plt.xticks(range(1, epochs + 1, interval))  # Set x-ticks with interval\n",
        "\n",
        "# Add an overall title\n",
        "plt.suptitle('UNet Model Performance', fontsize=16)\n",
        "\n",
        "plt.show()"
      ]
    },
    {
      "cell_type": "markdown",
      "metadata": {
        "id": "2xlzUOxoAu9I"
      },
      "source": [
        "## Evaluating on Test Set"
      ]
    },
    {
      "cell_type": "code",
      "execution_count": null,
      "metadata": {
        "colab": {
          "base_uri": "https://localhost:8080/"
        },
        "id": "8NFTRfWABArn",
        "outputId": "68f861e2-72ec-4fbc-cbb0-50fe10719bf3"
      },
      "outputs": [
        {
          "name": "stdout",
          "output_type": "stream",
          "text": [
            "8/8 [==============================] - 10s 1s/step - loss: 0.0390 - accuracy: 0.9889\n",
            "Test Loss: 0.03895827755331993\n",
            "Test Accuracy: 0.988854169845581\n"
          ]
        }
      ],
      "source": [
        "from tensorflow.keras.models import load_model\n",
        "\n",
        "best_model = load_model(drive_path)\n",
        "\n",
        "test_loss, test_accuracy = best_model.evaluate(testimageNP, testmaskNP, verbose=1)\n",
        "\n",
        "print(f'Test Loss: {test_loss}')\n",
        "print(f'Test Accuracy: {test_accuracy}')"
      ]
    }
  ],
  "metadata": {
    "accelerator": "GPU",
    "colab": {
      "gpuType": "T4",
      "provenance": []
    },
    "kernelspec": {
      "display_name": "Python 3",
      "name": "python3"
    },
    "language_info": {
      "codemirror_mode": {
        "name": "ipython",
        "version": 3
      },
      "file_extension": ".py",
      "mimetype": "text/x-python",
      "name": "python",
      "nbconvert_exporter": "python",
      "pygments_lexer": "ipython3",
      "version": "3.12.2"
    }
  },
  "nbformat": 4,
  "nbformat_minor": 0
}
