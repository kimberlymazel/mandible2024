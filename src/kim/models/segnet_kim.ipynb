{
  "cells": [
    {
      "cell_type": "markdown",
      "metadata": {
        "id": "7ygvtud_YmEF"
      },
      "source": [
        "# SegNet CNN Model"
      ]
    },
    {
      "cell_type": "markdown",
      "metadata": {
        "id": "9_kuJaOyY5OW"
      },
      "source": [
        "## Model Building"
      ]
    },
    {
      "cell_type": "code",
      "execution_count": null,
      "metadata": {
        "id": "at6IKqntY7Q3"
      },
      "outputs": [],
      "source": [
        "import tensorflow as tf\n",
        "from tensorflow.keras.layers import Input, Conv2D, MaxPooling2D, UpSampling2D\n",
        "from tensorflow.keras.applications import VGG16"
      ]
    },
    {
      "cell_type": "code",
      "execution_count": null,
      "metadata": {
        "id": "Q8mZqYBXfuLs"
      },
      "outputs": [],
      "source": [
        "def Segnet(input_shape, num_classes):\n",
        "    input_img = Input(shape=input_shape)\n",
        "\n",
        "    # Encoder\n",
        "    x = Conv2D(64, (3, 3), activation='relu', padding='same', name='block1_conv1')(input_img)\n",
        "    x = Conv2D(64, (3, 3), activation='relu', padding='same', name='block1_conv2')(x)\n",
        "    x = MaxPooling2D((2, 2), strides=(2, 2), name='block1_pool')(x)\n",
        "\n",
        "    x = Conv2D(128, (3, 3), activation='relu', padding='same', name='block2_conv1')(x)\n",
        "    x = Conv2D(128, (3, 3), activation='relu', padding='same', name='block2_conv2')(x)\n",
        "    x = MaxPooling2D((2, 2), strides=(2, 2), name='block2_pool')(x)\n",
        "\n",
        "    x = Conv2D(256, (3, 3), activation='relu', padding='same', name='block3_conv1')(x)\n",
        "    x = Conv2D(256, (3, 3), activation='relu', padding='same', name='block3_conv2')(x)\n",
        "    x = Conv2D(256, (3, 3), activation='relu', padding='same', name='block3_conv3')(x)\n",
        "    x = MaxPooling2D((2, 2), strides=(2, 2), name='block3_pool')(x)\n",
        "\n",
        "    x = Conv2D(512, (3, 3), activation='relu', padding='same', name='block4_conv1')(x)\n",
        "    x = Conv2D(512, (3, 3), activation='relu', padding='same', name='block4_conv2')(x)\n",
        "    x = Conv2D(512, (3, 3), activation='relu', padding='same', name='block4_conv3')(x)\n",
        "    x = MaxPooling2D((2, 2), strides=(2, 2), name='block4_pool')(x)\n",
        "\n",
        "    x = Conv2D(512, (3, 3), activation='relu', padding='same', name='block5_conv1')(x)\n",
        "    x = Conv2D(512, (3, 3), activation='relu', padding='same', name='block5_conv2')(x)\n",
        "    x = Conv2D(512, (3, 3), activation='relu', padding='same', name='block5_conv3')(x)\n",
        "    x = MaxPooling2D((2, 2), strides=(2, 2), name='block5_pool')(x)\n",
        "\n",
        "    # Decoder\n",
        "    x = Conv2D(512, (3, 3), activation='relu', padding='same')(x)\n",
        "    x = Conv2D(512, (3, 3), activation='relu', padding='same')(x)\n",
        "    x = Conv2D(512, (3, 3), activation='relu', padding='same')(x)\n",
        "    x = UpSampling2D((2, 2))(x)\n",
        "\n",
        "    x = Conv2D(512, (3, 3), activation='relu', padding='same')(x)\n",
        "    x = Conv2D(512, (3, 3), activation='relu', padding='same')(x)\n",
        "    x = Conv2D(512, (3, 3), activation='relu', padding='same')(x)\n",
        "    x = UpSampling2D((2, 2))(x)\n",
        "\n",
        "    x = Conv2D(256, (3, 3), activation='relu', padding='same')(x)\n",
        "    x = Conv2D(256, (3, 3), activation='relu', padding='same')(x)\n",
        "    x = Conv2D(256, (3, 3), activation='relu', padding='same')(x)\n",
        "    x = UpSampling2D((2, 2))(x)\n",
        "\n",
        "    x = Conv2D(128, (3, 3), activation='relu', padding='same')(x)\n",
        "    x = Conv2D(128, (3, 3), activation='relu', padding='same')(x)\n",
        "    x = UpSampling2D((2, 2))(x)\n",
        "\n",
        "    x = Conv2D(64, (3, 3), activation='relu', padding='same')(x)\n",
        "    x = Conv2D(64, (3, 3), activation='relu', padding='same')(x)\n",
        "    x = UpSampling2D((2, 2))(x)\n",
        "\n",
        "    decoded = Conv2D(num_classes, (3, 3), activation='sigmoid', padding='same')(x)\n",
        "\n",
        "    model = Model(input_img, decoded)\n",
        "\n",
        "    return model"
      ]
    },
    {
      "cell_type": "code",
      "execution_count": null,
      "metadata": {
        "id": "9pJsiz5IaANp"
      },
      "outputs": [],
      "source": [
        "inputshape = (288, 128, 3)\n",
        "numclasses = 1"
      ]
    },
    {
      "cell_type": "code",
      "execution_count": null,
      "metadata": {
        "colab": {
          "base_uri": "https://localhost:8080/"
        },
        "id": "_j-wM2NsaCPS",
        "outputId": "55549460-7a2e-4f5a-ce1e-98d85cf072a0"
      },
      "outputs": [
        {
          "name": "stdout",
          "output_type": "stream",
          "text": [
            "Model: \"model\"\n",
            "_________________________________________________________________\n",
            " Layer (type)                Output Shape              Param #   \n",
            "=================================================================\n",
            " input_2 (InputLayer)        [(None, 288, 128, 3)]     0         \n",
            "                                                                 \n",
            " block1_conv1 (Conv2D)       (None, 288, 128, 64)      1792      \n",
            "                                                                 \n",
            " block1_conv2 (Conv2D)       (None, 288, 128, 64)      36928     \n",
            "                                                                 \n",
            " block1_pool (MaxPooling2D)  (None, 144, 64, 64)       0         \n",
            "                                                                 \n",
            " block2_conv1 (Conv2D)       (None, 144, 64, 128)      73856     \n",
            "                                                                 \n",
            " block2_conv2 (Conv2D)       (None, 144, 64, 128)      147584    \n",
            "                                                                 \n",
            " block2_pool (MaxPooling2D)  (None, 72, 32, 128)       0         \n",
            "                                                                 \n",
            " block3_conv1 (Conv2D)       (None, 72, 32, 256)       295168    \n",
            "                                                                 \n",
            " block3_conv2 (Conv2D)       (None, 72, 32, 256)       590080    \n",
            "                                                                 \n",
            " block3_conv3 (Conv2D)       (None, 72, 32, 256)       590080    \n",
            "                                                                 \n",
            " block3_pool (MaxPooling2D)  (None, 36, 16, 256)       0         \n",
            "                                                                 \n",
            " block4_conv1 (Conv2D)       (None, 36, 16, 512)       1180160   \n",
            "                                                                 \n",
            " block4_conv2 (Conv2D)       (None, 36, 16, 512)       2359808   \n",
            "                                                                 \n",
            " block4_conv3 (Conv2D)       (None, 36, 16, 512)       2359808   \n",
            "                                                                 \n",
            " block4_pool (MaxPooling2D)  (None, 18, 8, 512)        0         \n",
            "                                                                 \n",
            " block5_conv1 (Conv2D)       (None, 18, 8, 512)        2359808   \n",
            "                                                                 \n",
            " block5_conv2 (Conv2D)       (None, 18, 8, 512)        2359808   \n",
            "                                                                 \n",
            " block5_conv3 (Conv2D)       (None, 18, 8, 512)        2359808   \n",
            "                                                                 \n",
            " block5_pool (MaxPooling2D)  (None, 9, 4, 512)         0         \n",
            "                                                                 \n",
            " conv2d (Conv2D)             (None, 9, 4, 512)         2359808   \n",
            "                                                                 \n",
            " conv2d_1 (Conv2D)           (None, 9, 4, 512)         2359808   \n",
            "                                                                 \n",
            " conv2d_2 (Conv2D)           (None, 9, 4, 512)         2359808   \n",
            "                                                                 \n",
            " up_sampling2d (UpSampling2  (None, 18, 8, 512)        0         \n",
            " D)                                                              \n",
            "                                                                 \n",
            " conv2d_3 (Conv2D)           (None, 18, 8, 512)        2359808   \n",
            "                                                                 \n",
            " conv2d_4 (Conv2D)           (None, 18, 8, 512)        2359808   \n",
            "                                                                 \n",
            " conv2d_5 (Conv2D)           (None, 18, 8, 512)        2359808   \n",
            "                                                                 \n",
            " up_sampling2d_1 (UpSamplin  (None, 36, 16, 512)       0         \n",
            " g2D)                                                            \n",
            "                                                                 \n",
            " conv2d_6 (Conv2D)           (None, 36, 16, 256)       1179904   \n",
            "                                                                 \n",
            " conv2d_7 (Conv2D)           (None, 36, 16, 256)       590080    \n",
            "                                                                 \n",
            " conv2d_8 (Conv2D)           (None, 36, 16, 256)       590080    \n",
            "                                                                 \n",
            " up_sampling2d_2 (UpSamplin  (None, 72, 32, 256)       0         \n",
            " g2D)                                                            \n",
            "                                                                 \n",
            " conv2d_9 (Conv2D)           (None, 72, 32, 128)       295040    \n",
            "                                                                 \n",
            " conv2d_10 (Conv2D)          (None, 72, 32, 128)       147584    \n",
            "                                                                 \n",
            " up_sampling2d_3 (UpSamplin  (None, 144, 64, 128)      0         \n",
            " g2D)                                                            \n",
            "                                                                 \n",
            " conv2d_11 (Conv2D)          (None, 144, 64, 64)       73792     \n",
            "                                                                 \n",
            " conv2d_12 (Conv2D)          (None, 144, 64, 64)       36928     \n",
            "                                                                 \n",
            " up_sampling2d_4 (UpSamplin  (None, 288, 128, 64)      0         \n",
            " g2D)                                                            \n",
            "                                                                 \n",
            " conv2d_13 (Conv2D)          (None, 288, 128, 1)       577       \n",
            "                                                                 \n",
            "=================================================================\n",
            "Total params: 31787521 (121.26 MB)\n",
            "Trainable params: 31787521 (121.26 MB)\n",
            "Non-trainable params: 0 (0.00 Byte)\n",
            "_________________________________________________________________\n"
          ]
        }
      ],
      "source": [
        "model = Segnet(inputshape, numclasses)\n",
        "model.summary()"
      ]
    },
    {
      "cell_type": "markdown",
      "metadata": {
        "id": "ABHUpnQIaNm8"
      },
      "source": [
        "## Getting Train-Valid-Test Data"
      ]
    },
    {
      "cell_type": "code",
      "execution_count": null,
      "metadata": {
        "colab": {
          "base_uri": "https://localhost:8080/"
        },
        "id": "DgD-rfuNaPQ9",
        "outputId": "ac845dfe-c3a5-4c4e-a79e-08398a35c901"
      },
      "outputs": [
        {
          "name": "stdout",
          "output_type": "stream",
          "text": [
            "Mounted at /content/drive\n"
          ]
        }
      ],
      "source": [
        "from google.colab import drive\n",
        "\n",
        "drive.mount('/content/drive')"
      ]
    },
    {
      "cell_type": "code",
      "execution_count": null,
      "metadata": {
        "id": "K6rc74qQaQH8"
      },
      "outputs": [],
      "source": [
        "import numpy as np\n",
        "\n",
        "# TRAIN\n",
        "trainimageNP = np.load(\"/content/drive/My Drive/MANDIBLE/train_img.npy\")\n",
        "trainmaskNP = np.load(\"/content/drive/My Drive/MANDIBLE/train_mask.npy\")\n",
        "\n",
        "# VALID\n",
        "validimageNP = np.load(\"/content/drive/My Drive/MANDIBLE/valid_img.npy\")\n",
        "validmaskNP = np.load(\"/content/drive/My Drive/MANDIBLE/valid_mask.npy\")\n",
        "\n",
        "# TEST\n",
        "testimageNP = np.load(\"/content/drive/My Drive/MANDIBLE/test_img.npy\")\n",
        "testmaskNP = np.load(\"/content/drive/My Drive/MANDIBLE/test_mask.npy\")"
      ]
    },
    {
      "cell_type": "code",
      "execution_count": null,
      "metadata": {
        "colab": {
          "base_uri": "https://localhost:8080/"
        },
        "id": "9yQ5vfOxaRVY",
        "outputId": "2b5f2623-19de-485c-aa9d-d0e0181f48d9"
      },
      "outputs": [
        {
          "name": "stdout",
          "output_type": "stream",
          "text": [
            "(1626, 300, 130, 3)\n",
            "(1626, 300, 130)\n",
            "(465, 300, 130, 3)\n",
            "(465, 300, 130)\n",
            "(233, 300, 130, 3)\n",
            "(233, 300, 130)\n"
          ]
        }
      ],
      "source": [
        "print(trainimageNP.shape)\n",
        "print(trainmaskNP.shape)\n",
        "print(validimageNP.shape)\n",
        "print(validmaskNP.shape)\n",
        "print(testimageNP.shape)\n",
        "print(testmaskNP.shape)"
      ]
    },
    {
      "cell_type": "code",
      "execution_count": null,
      "metadata": {
        "colab": {
          "base_uri": "https://localhost:8080/"
        },
        "id": "2tmgI29BhHWS",
        "outputId": "a43f4427-01d8-457f-f842-ea0afc2b5d07"
      },
      "outputs": [
        {
          "name": "stdout",
          "output_type": "stream",
          "text": [
            "(1626, 288, 128, 3)\n",
            "(1626, 288, 128)\n",
            "(465, 288, 128, 3)\n",
            "(465, 288, 128)\n",
            "(233, 288, 128, 3)\n",
            "(233, 288, 128)\n"
          ]
        }
      ],
      "source": [
        "# Reshape images\n",
        "trainimageNP = trainimageNP[:, :288, :128, :]\n",
        "validimageNP = validimageNP[:, :288, :128, :]\n",
        "testimageNP = testimageNP[:, :288, :128, :]\n",
        "\n",
        "# Reshape masks\n",
        "trainmaskNP = trainmaskNP[:, :288, :128]\n",
        "validmaskNP = validmaskNP[:, :288, :128]\n",
        "testmaskNP = testmaskNP[:, :288, :128]\n",
        "\n",
        "print(trainimageNP.shape)\n",
        "print(trainmaskNP.shape)\n",
        "print(validimageNP.shape)\n",
        "print(validmaskNP.shape)\n",
        "print(testimageNP.shape)\n",
        "print(testmaskNP.shape)"
      ]
    },
    {
      "cell_type": "markdown",
      "metadata": {
        "id": "jVvoFGbDaTmh"
      },
      "source": [
        "## Epoch Training"
      ]
    },
    {
      "cell_type": "code",
      "execution_count": null,
      "metadata": {
        "id": "aoldddtHaVk5"
      },
      "outputs": [],
      "source": [
        "lr = 1e-4\n",
        "batchSize = 32\n",
        "epochs = 25"
      ]
    },
    {
      "cell_type": "code",
      "execution_count": null,
      "metadata": {
        "id": "pcrDuMyraWOj"
      },
      "outputs": [],
      "source": [
        "drive_path = '/content/drive/My Drive/MANDIBLE/models/segnet.keras'"
      ]
    },
    {
      "cell_type": "code",
      "execution_count": null,
      "metadata": {
        "colab": {
          "base_uri": "https://localhost:8080/"
        },
        "id": "9OsUsYJkaZrh",
        "outputId": "928c1f8b-0e40-4b38-ac23-a91d41bf39e4"
      },
      "outputs": [
        {
          "name": "stdout",
          "output_type": "stream",
          "text": [
            "Epoch 1/25\n",
            "50/50 [==============================] - ETA: 0s - loss: 0.5140 - accuracy: 0.7280\n",
            "Epoch 1: val_loss improved from inf to 0.33168, saving model to /content/drive/My Drive/MANDIBLE/models/segnet.keras\n",
            "50/50 [==============================] - 85s 964ms/step - loss: 0.5140 - accuracy: 0.7280 - val_loss: 0.3317 - val_accuracy: 0.8610 - lr: 1.0000e-04\n",
            "Epoch 2/25\n",
            "50/50 [==============================] - ETA: 0s - loss: 0.2793 - accuracy: 0.8786\n",
            "Epoch 2: val_loss improved from 0.33168 to 0.27872, saving model to /content/drive/My Drive/MANDIBLE/models/segnet.keras\n",
            "50/50 [==============================] - 49s 537ms/step - loss: 0.2793 - accuracy: 0.8786 - val_loss: 0.2787 - val_accuracy: 0.8824 - lr: 1.0000e-04\n",
            "Epoch 3/25\n",
            "50/50 [==============================] - ETA: 0s - loss: 0.2610 - accuracy: 0.8855\n",
            "Epoch 3: val_loss improved from 0.27872 to 0.25577, saving model to /content/drive/My Drive/MANDIBLE/models/segnet.keras\n",
            "50/50 [==============================] - 28s 556ms/step - loss: 0.2610 - accuracy: 0.8855 - val_loss: 0.2558 - val_accuracy: 0.8851 - lr: 1.0000e-04\n",
            "Epoch 4/25\n",
            "50/50 [==============================] - ETA: 0s - loss: 0.2487 - accuracy: 0.8899\n",
            "Epoch 4: val_loss improved from 0.25577 to 0.24225, saving model to /content/drive/My Drive/MANDIBLE/models/segnet.keras\n",
            "50/50 [==============================] - 27s 537ms/step - loss: 0.2487 - accuracy: 0.8899 - val_loss: 0.2422 - val_accuracy: 0.8925 - lr: 1.0000e-04\n",
            "Epoch 5/25\n",
            "50/50 [==============================] - ETA: 0s - loss: 0.2343 - accuracy: 0.8953\n",
            "Epoch 5: val_loss improved from 0.24225 to 0.21363, saving model to /content/drive/My Drive/MANDIBLE/models/segnet.keras\n",
            "50/50 [==============================] - 27s 551ms/step - loss: 0.2343 - accuracy: 0.8953 - val_loss: 0.2136 - val_accuracy: 0.9041 - lr: 1.0000e-04\n",
            "Epoch 6/25\n",
            "50/50 [==============================] - ETA: 0s - loss: 0.2078 - accuracy: 0.9094\n",
            "Epoch 6: val_loss improved from 0.21363 to 0.18397, saving model to /content/drive/My Drive/MANDIBLE/models/segnet.keras\n",
            "50/50 [==============================] - 27s 546ms/step - loss: 0.2078 - accuracy: 0.9094 - val_loss: 0.1840 - val_accuracy: 0.9209 - lr: 1.0000e-04\n",
            "Epoch 7/25\n",
            "50/50 [==============================] - ETA: 0s - loss: 0.1777 - accuracy: 0.9244\n",
            "Epoch 7: val_loss improved from 0.18397 to 0.17129, saving model to /content/drive/My Drive/MANDIBLE/models/segnet.keras\n",
            "50/50 [==============================] - 28s 557ms/step - loss: 0.1777 - accuracy: 0.9244 - val_loss: 0.1713 - val_accuracy: 0.9294 - lr: 1.0000e-04\n",
            "Epoch 8/25\n",
            "50/50 [==============================] - ETA: 0s - loss: 0.1651 - accuracy: 0.9295\n",
            "Epoch 8: val_loss improved from 0.17129 to 0.15033, saving model to /content/drive/My Drive/MANDIBLE/models/segnet.keras\n",
            "50/50 [==============================] - 28s 565ms/step - loss: 0.1651 - accuracy: 0.9295 - val_loss: 0.1503 - val_accuracy: 0.9354 - lr: 1.0000e-04\n",
            "Epoch 9/25\n",
            "50/50 [==============================] - ETA: 0s - loss: 0.1505 - accuracy: 0.9355\n",
            "Epoch 9: val_loss improved from 0.15033 to 0.14117, saving model to /content/drive/My Drive/MANDIBLE/models/segnet.keras\n",
            "50/50 [==============================] - 28s 561ms/step - loss: 0.1505 - accuracy: 0.9355 - val_loss: 0.1412 - val_accuracy: 0.9394 - lr: 1.0000e-04\n",
            "Epoch 10/25\n",
            "50/50 [==============================] - ETA: 0s - loss: 0.1380 - accuracy: 0.9403\n",
            "Epoch 10: val_loss improved from 0.14117 to 0.13154, saving model to /content/drive/My Drive/MANDIBLE/models/segnet.keras\n",
            "50/50 [==============================] - 28s 556ms/step - loss: 0.1380 - accuracy: 0.9403 - val_loss: 0.1315 - val_accuracy: 0.9434 - lr: 1.0000e-04\n",
            "Epoch 11/25\n",
            "50/50 [==============================] - ETA: 0s - loss: 0.1254 - accuracy: 0.9455\n",
            "Epoch 11: val_loss improved from 0.13154 to 0.12253, saving model to /content/drive/My Drive/MANDIBLE/models/segnet.keras\n",
            "50/50 [==============================] - 28s 557ms/step - loss: 0.1254 - accuracy: 0.9455 - val_loss: 0.1225 - val_accuracy: 0.9471 - lr: 1.0000e-04\n",
            "Epoch 12/25\n",
            "50/50 [==============================] - ETA: 0s - loss: 0.1177 - accuracy: 0.9488\n",
            "Epoch 12: val_loss improved from 0.12253 to 0.11951, saving model to /content/drive/My Drive/MANDIBLE/models/segnet.keras\n",
            "50/50 [==============================] - 28s 558ms/step - loss: 0.1177 - accuracy: 0.9488 - val_loss: 0.1195 - val_accuracy: 0.9487 - lr: 1.0000e-04\n",
            "Epoch 13/25\n",
            "50/50 [==============================] - ETA: 0s - loss: 0.1098 - accuracy: 0.9523\n",
            "Epoch 13: val_loss improved from 0.11951 to 0.10713, saving model to /content/drive/My Drive/MANDIBLE/models/segnet.keras\n",
            "50/50 [==============================] - 28s 556ms/step - loss: 0.1098 - accuracy: 0.9523 - val_loss: 0.1071 - val_accuracy: 0.9538 - lr: 1.0000e-04\n",
            "Epoch 14/25\n",
            "50/50 [==============================] - ETA: 0s - loss: 0.0999 - accuracy: 0.9568\n",
            "Epoch 14: val_loss did not improve from 0.10713\n",
            "50/50 [==============================] - 25s 507ms/step - loss: 0.0999 - accuracy: 0.9568 - val_loss: 0.1082 - val_accuracy: 0.9534 - lr: 1.0000e-04\n",
            "Epoch 15/25\n",
            "50/50 [==============================] - ETA: 0s - loss: 0.0927 - accuracy: 0.9600\n",
            "Epoch 15: val_loss improved from 0.10713 to 0.09168, saving model to /content/drive/My Drive/MANDIBLE/models/segnet.keras\n",
            "50/50 [==============================] - 27s 547ms/step - loss: 0.0927 - accuracy: 0.9600 - val_loss: 0.0917 - val_accuracy: 0.9607 - lr: 1.0000e-04\n",
            "Epoch 16/25\n",
            "50/50 [==============================] - ETA: 0s - loss: 0.0824 - accuracy: 0.9646\n",
            "Epoch 16: val_loss improved from 0.09168 to 0.08288, saving model to /content/drive/My Drive/MANDIBLE/models/segnet.keras\n",
            "50/50 [==============================] - 28s 561ms/step - loss: 0.0824 - accuracy: 0.9646 - val_loss: 0.0829 - val_accuracy: 0.9648 - lr: 1.0000e-04\n",
            "Epoch 17/25\n",
            "50/50 [==============================] - ETA: 0s - loss: 0.0749 - accuracy: 0.9679\n",
            "Epoch 17: val_loss did not improve from 0.08288\n",
            "50/50 [==============================] - 26s 518ms/step - loss: 0.0749 - accuracy: 0.9679 - val_loss: 0.0849 - val_accuracy: 0.9646 - lr: 1.0000e-04\n",
            "Epoch 18/25\n",
            "50/50 [==============================] - ETA: 0s - loss: 0.0683 - accuracy: 0.9707\n",
            "Epoch 18: val_loss improved from 0.08288 to 0.07440, saving model to /content/drive/My Drive/MANDIBLE/models/segnet.keras\n",
            "50/50 [==============================] - 29s 588ms/step - loss: 0.0683 - accuracy: 0.9707 - val_loss: 0.0744 - val_accuracy: 0.9687 - lr: 1.0000e-04\n",
            "Epoch 19/25\n",
            "50/50 [==============================] - ETA: 0s - loss: 0.0621 - accuracy: 0.9735\n",
            "Epoch 19: val_loss improved from 0.07440 to 0.06936, saving model to /content/drive/My Drive/MANDIBLE/models/segnet.keras\n",
            "50/50 [==============================] - 28s 559ms/step - loss: 0.0621 - accuracy: 0.9735 - val_loss: 0.0694 - val_accuracy: 0.9712 - lr: 1.0000e-04\n",
            "Epoch 20/25\n",
            "50/50 [==============================] - ETA: 0s - loss: 0.0577 - accuracy: 0.9753\n",
            "Epoch 20: val_loss did not improve from 0.06936\n",
            "50/50 [==============================] - 26s 519ms/step - loss: 0.0577 - accuracy: 0.9753 - val_loss: 0.0704 - val_accuracy: 0.9708 - lr: 1.0000e-04\n",
            "Epoch 21/25\n",
            "50/50 [==============================] - ETA: 0s - loss: 0.0526 - accuracy: 0.9776\n",
            "Epoch 21: val_loss improved from 0.06936 to 0.06138, saving model to /content/drive/My Drive/MANDIBLE/models/segnet.keras\n",
            "50/50 [==============================] - 30s 603ms/step - loss: 0.0526 - accuracy: 0.9776 - val_loss: 0.0614 - val_accuracy: 0.9753 - lr: 1.0000e-04\n",
            "Epoch 22/25\n",
            "50/50 [==============================] - ETA: 0s - loss: 0.0492 - accuracy: 0.9790\n",
            "Epoch 22: val_loss did not improve from 0.06138\n",
            "50/50 [==============================] - 25s 505ms/step - loss: 0.0492 - accuracy: 0.9790 - val_loss: 0.0616 - val_accuracy: 0.9755 - lr: 1.0000e-04\n",
            "Epoch 23/25\n",
            "50/50 [==============================] - ETA: 0s - loss: 0.0451 - accuracy: 0.9808\n",
            "Epoch 23: val_loss improved from 0.06138 to 0.06129, saving model to /content/drive/My Drive/MANDIBLE/models/segnet.keras\n",
            "50/50 [==============================] - 30s 603ms/step - loss: 0.0451 - accuracy: 0.9808 - val_loss: 0.0613 - val_accuracy: 0.9761 - lr: 1.0000e-04\n",
            "Epoch 24/25\n",
            "50/50 [==============================] - ETA: 0s - loss: 0.0425 - accuracy: 0.9819\n",
            "Epoch 24: val_loss improved from 0.06129 to 0.05896, saving model to /content/drive/My Drive/MANDIBLE/models/segnet.keras\n",
            "50/50 [==============================] - 28s 560ms/step - loss: 0.0425 - accuracy: 0.9819 - val_loss: 0.0590 - val_accuracy: 0.9773 - lr: 1.0000e-04\n",
            "Epoch 25/25\n",
            "50/50 [==============================] - ETA: 0s - loss: 0.0390 - accuracy: 0.9835\n",
            "Epoch 25: val_loss improved from 0.05896 to 0.05656, saving model to /content/drive/My Drive/MANDIBLE/models/segnet.keras\n",
            "50/50 [==============================] - 28s 560ms/step - loss: 0.0390 - accuracy: 0.9835 - val_loss: 0.0566 - val_accuracy: 0.9792 - lr: 1.0000e-04\n",
            "Training time: 807.54 seconds\n"
          ]
        }
      ],
      "source": [
        "import time\n",
        "from keras.callbacks import ModelCheckpoint, ReduceLROnPlateau, EarlyStopping\n",
        "\n",
        "# Compile the model\n",
        "opt = tf.keras.optimizers.Adam(lr)\n",
        "model.compile(loss=\"binary_crossentropy\", optimizer=opt, metrics=[\"accuracy\"])\n",
        "\n",
        "# Calculate steps per epoch and validation steps\n",
        "stepsPerEpoch = len(trainimageNP) // batchSize\n",
        "validationSteps = len(validimageNP) // batchSize\n",
        "\n",
        "# Define callbacks\n",
        "callbacks = [\n",
        "    ModelCheckpoint(drive_path, verbose=1, save_best_only=True),\n",
        "    ReduceLROnPlateau(monitor=\"val_loss\", patience=5, factor=0.1, verbose=1, min_lr=1e-7),\n",
        "    EarlyStopping(monitor=\"val_loss\", patience=5, verbose=1, mode=\"min\")\n",
        "]\n",
        "\n",
        "# Record the start time\n",
        "start_time = time.time()\n",
        "\n",
        "# Train the model\n",
        "history = model.fit(trainimageNP, trainmaskNP,\n",
        "                    batch_size=batchSize,\n",
        "                    epochs=epochs,\n",
        "                    verbose=1,\n",
        "                    validation_data=(validimageNP, validmaskNP),\n",
        "                    validation_steps=validationSteps,\n",
        "                    steps_per_epoch=stepsPerEpoch,\n",
        "                    shuffle=True,\n",
        "                    callbacks=callbacks\n",
        "                    )\n",
        "\n",
        "# Record the end time\n",
        "end_time = time.time()\n",
        "\n",
        "# Calculate the training duration\n",
        "training_time = end_time - start_time\n",
        "\n",
        "print(f\"Training time: {training_time:.2f} seconds\")"
      ]
    },
    {
      "cell_type": "markdown",
      "metadata": {
        "id": "uM1tnFaxaeqq"
      },
      "source": [
        "## Performance Visualization"
      ]
    },
    {
      "cell_type": "code",
      "execution_count": null,
      "metadata": {
        "colab": {
          "base_uri": "https://localhost:8080/",
          "height": 428
        },
        "id": "ms3mPNpiaZal",
        "outputId": "43cdc7ce-e754-4766-cb57-df0fee7c2791"
      },
      "outputs": [
        {
          "data": {
            "image/png": "[encoded data removed]",
            "text/plain": [
              "<Figure size 1200x400 with 2 Axes>"
            ]
          },
          "metadata": {},
          "output_type": "display_data"
        }
      ],
      "source": [
        "import matplotlib.pyplot as plt\n",
        "\n",
        "# Plot training & validation accuracy values\n",
        "plt.figure(figsize=(12, 4))\n",
        "\n",
        "# Determine the number of epochs\n",
        "epochs = len(history.history['accuracy'])\n",
        "interval = 5\n",
        "\n",
        "plt.subplot(1, 2, 1)\n",
        "plt.plot(range(1, epochs + 1), history.history['accuracy'])\n",
        "plt.plot(range(1, epochs + 1), history.history['val_accuracy'])\n",
        "plt.title('Model accuracy')\n",
        "plt.ylabel('Accuracy')\n",
        "plt.xlabel('Epoch')\n",
        "plt.legend(['Train', 'Validation'], loc='upper left')\n",
        "plt.xticks(range(1, epochs + 1, interval))  # Set x-ticks with interval\n",
        "\n",
        "plt.subplot(1, 2, 2)\n",
        "plt.plot(range(1, epochs + 1), history.history['loss'])\n",
        "plt.plot(range(1, epochs + 1), history.history['val_loss'])\n",
        "plt.title('Model loss')\n",
        "plt.ylabel('Loss')\n",
        "plt.xlabel('Epoch')\n",
        "plt.legend(['Train', 'Validation'], loc='upper left')\n",
        "plt.xticks(range(1, epochs + 1, interval))  # Set x-ticks with interval\n",
        "\n",
        "# Add an overall title\n",
        "plt.suptitle('SegNet Model Performance', fontsize=16)\n",
        "\n",
        "plt.show()"
      ]
    },
    {
      "cell_type": "markdown",
      "metadata": {
        "id": "o9f6cLNZahUy"
      },
      "source": [
        "## Evaluating on Test Set"
      ]
    },
    {
      "cell_type": "code",
      "execution_count": null,
      "metadata": {
        "colab": {
          "base_uri": "https://localhost:8080/"
        },
        "id": "Y1KDRBw_ai-J",
        "outputId": "c7421f7f-c3a5-49f3-cfd9-45dbe9f5a3a1"
      },
      "outputs": [
        {
          "name": "stdout",
          "output_type": "stream",
          "text": [
            "8/8 [==============================] - 5s 576ms/step - loss: 0.0655 - accuracy: 0.9769\n",
            "Test Loss: 0.06553410738706589\n",
            "Test Accuracy: 0.9769303798675537\n"
          ]
        }
      ],
      "source": [
        "from tensorflow.keras.models import load_model\n",
        "\n",
        "best_model = load_model(drive_path)\n",
        "\n",
        "test_loss, test_accuracy = best_model.evaluate(testimageNP, testmaskNP, verbose=1)\n",
        "\n",
        "print(f'Test Loss: {test_loss}')\n",
        "print(f'Test Accuracy: {test_accuracy}')"
      ]
    }
  ],
  "metadata": {
    "accelerator": "GPU",
    "colab": {
      "gpuType": "T4",
      "provenance": []
    },
    "kernelspec": {
      "display_name": "Python 3",
      "name": "python3"
    },
    "language_info": {
      "name": "python"
    }
  },
  "nbformat": 4,
  "nbformat_minor": 0
}
