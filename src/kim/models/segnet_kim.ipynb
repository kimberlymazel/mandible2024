{
  "nbformat": 4,
  "nbformat_minor": 0,
  "metadata": {
    "colab": {
      "provenance": [],
      "gpuType": "T4"
    },
    "kernelspec": {
      "name": "python3",
      "display_name": "Python 3"
    },
    "language_info": {
      "name": "python"
    },
    "accelerator": "GPU"
  },
  "cells": [
    {
      "cell_type": "markdown",
      "source": [
        "# SegNet CNN Model"
      ],
      "metadata": {
        "id": "7ygvtud_YmEF"
      }
    },
    {
      "cell_type": "markdown",
      "source": [
        "## Model Building"
      ],
      "metadata": {
        "id": "9_kuJaOyY5OW"
      }
    },
    {
      "cell_type": "code",
      "source": [
        "import tensorflow as tf\n",
        "from tensorflow.keras.layers import Input, Conv2D, MaxPooling2D, UpSampling2D\n",
        "from tensorflow.keras.models import Model\n",
        "from tensorflow.keras.applications import VGG16"
      ],
      "metadata": {
        "id": "at6IKqntY7Q3"
      },
      "execution_count": null,
      "outputs": []
    },
    {
      "cell_type": "code",
      "source": [
        "def Segnet(input_shape, num_classes):\n",
        "    input_img = Input(shape=input_shape)\n",
        "\n",
        "    # Encoder\n",
        "    x = Conv2D(64, (3, 3), activation='relu', padding='same', name='block1_conv1')(input_img)\n",
        "    x = Conv2D(64, (3, 3), activation='relu', padding='same', name='block1_conv2')(x)\n",
        "    x = MaxPooling2D((2, 2), strides=(2, 2), name='block1_pool')(x)\n",
        "\n",
        "    x = Conv2D(128, (3, 3), activation='relu', padding='same', name='block2_conv1')(x)\n",
        "    x = Conv2D(128, (3, 3), activation='relu', padding='same', name='block2_conv2')(x)\n",
        "    x = MaxPooling2D((2, 2), strides=(2, 2), name='block2_pool')(x)\n",
        "\n",
        "    x = Conv2D(256, (3, 3), activation='relu', padding='same', name='block3_conv1')(x)\n",
        "    x = Conv2D(256, (3, 3), activation='relu', padding='same', name='block3_conv2')(x)\n",
        "    x = Conv2D(256, (3, 3), activation='relu', padding='same', name='block3_conv3')(x)\n",
        "    x = MaxPooling2D((2, 2), strides=(2, 2), name='block3_pool')(x)\n",
        "\n",
        "    x = Conv2D(512, (3, 3), activation='relu', padding='same', name='block4_conv1')(x)\n",
        "    x = Conv2D(512, (3, 3), activation='relu', padding='same', name='block4_conv2')(x)\n",
        "    x = Conv2D(512, (3, 3), activation='relu', padding='same', name='block4_conv3')(x)\n",
        "    x = MaxPooling2D((2, 2), strides=(2, 2), name='block4_pool')(x)\n",
        "\n",
        "    x = Conv2D(512, (3, 3), activation='relu', padding='same', name='block5_conv1')(x)\n",
        "    x = Conv2D(512, (3, 3), activation='relu', padding='same', name='block5_conv2')(x)\n",
        "    x = Conv2D(512, (3, 3), activation='relu', padding='same', name='block5_conv3')(x)\n",
        "    x = MaxPooling2D((2, 2), strides=(2, 2), name='block5_pool')(x)\n",
        "\n",
        "    # Decoder\n",
        "    x = Conv2D(512, (3, 3), activation='relu', padding='same')(x)\n",
        "    x = Conv2D(512, (3, 3), activation='relu', padding='same')(x)\n",
        "    x = Conv2D(512, (3, 3), activation='relu', padding='same')(x)\n",
        "    x = UpSampling2D((2, 2))(x)\n",
        "\n",
        "    x = Conv2D(512, (3, 3), activation='relu', padding='same')(x)\n",
        "    x = Conv2D(512, (3, 3), activation='relu', padding='same')(x)\n",
        "    x = Conv2D(512, (3, 3), activation='relu', padding='same')(x)\n",
        "    x = UpSampling2D((2, 2))(x)\n",
        "\n",
        "    x = Conv2D(256, (3, 3), activation='relu', padding='same')(x)\n",
        "    x = Conv2D(256, (3, 3), activation='relu', padding='same')(x)\n",
        "    x = Conv2D(256, (3, 3), activation='relu', padding='same')(x)\n",
        "    x = UpSampling2D((2, 2))(x)\n",
        "\n",
        "    x = Conv2D(128, (3, 3), activation='relu', padding='same')(x)\n",
        "    x = Conv2D(128, (3, 3), activation='relu', padding='same')(x)\n",
        "    x = UpSampling2D((2, 2))(x)\n",
        "\n",
        "    x = Conv2D(64, (3, 3), activation='relu', padding='same')(x)\n",
        "    x = Conv2D(64, (3, 3), activation='relu', padding='same')(x)\n",
        "    x = UpSampling2D((2, 2))(x)\n",
        "\n",
        "    decoded = Conv2D(num_classes, (3, 3), activation='sigmoid', padding='same')(x)\n",
        "\n",
        "    model = Model(input_img, decoded)\n",
        "\n",
        "    return model"
      ],
      "metadata": {
        "id": "Q8mZqYBXfuLs"
      },
      "execution_count": null,
      "outputs": []
    },
    {
      "cell_type": "code",
      "source": [
        "inputshape = (128, 128, 3)\n",
        "numclasses = 1"
      ],
      "metadata": {
        "id": "9pJsiz5IaANp"
      },
      "execution_count": null,
      "outputs": []
    },
    {
      "cell_type": "code",
      "source": [
        "model = Segnet(inputshape, numclasses)\n",
        "model.summary()"
      ],
      "metadata": {
        "colab": {
          "base_uri": "https://localhost:8080/"
        },
        "id": "_j-wM2NsaCPS",
        "outputId": "6e02b9be-6ff1-40db-9688-670aa35f0b0c"
      },
      "execution_count": null,
      "outputs": [
        {
          "output_type": "stream",
          "name": "stdout",
          "text": [
            "Model: \"model\"\n",
            "_________________________________________________________________\n",
            " Layer (type)                Output Shape              Param #   \n",
            "=================================================================\n",
            " input_1 (InputLayer)        [(None, 128, 128, 3)]     0         \n",
            "                                                                 \n",
            " block1_conv1 (Conv2D)       (None, 128, 128, 64)      1792      \n",
            "                                                                 \n",
            " block1_conv2 (Conv2D)       (None, 128, 128, 64)      36928     \n",
            "                                                                 \n",
            " block1_pool (MaxPooling2D)  (None, 64, 64, 64)        0         \n",
            "                                                                 \n",
            " block2_conv1 (Conv2D)       (None, 64, 64, 128)       73856     \n",
            "                                                                 \n",
            " block2_conv2 (Conv2D)       (None, 64, 64, 128)       147584    \n",
            "                                                                 \n",
            " block2_pool (MaxPooling2D)  (None, 32, 32, 128)       0         \n",
            "                                                                 \n",
            " block3_conv1 (Conv2D)       (None, 32, 32, 256)       295168    \n",
            "                                                                 \n",
            " block3_conv2 (Conv2D)       (None, 32, 32, 256)       590080    \n",
            "                                                                 \n",
            " block3_conv3 (Conv2D)       (None, 32, 32, 256)       590080    \n",
            "                                                                 \n",
            " block3_pool (MaxPooling2D)  (None, 16, 16, 256)       0         \n",
            "                                                                 \n",
            " block4_conv1 (Conv2D)       (None, 16, 16, 512)       1180160   \n",
            "                                                                 \n",
            " block4_conv2 (Conv2D)       (None, 16, 16, 512)       2359808   \n",
            "                                                                 \n",
            " block4_conv3 (Conv2D)       (None, 16, 16, 512)       2359808   \n",
            "                                                                 \n",
            " block4_pool (MaxPooling2D)  (None, 8, 8, 512)         0         \n",
            "                                                                 \n",
            " block5_conv1 (Conv2D)       (None, 8, 8, 512)         2359808   \n",
            "                                                                 \n",
            " block5_conv2 (Conv2D)       (None, 8, 8, 512)         2359808   \n",
            "                                                                 \n",
            " block5_conv3 (Conv2D)       (None, 8, 8, 512)         2359808   \n",
            "                                                                 \n",
            " block5_pool (MaxPooling2D)  (None, 4, 4, 512)         0         \n",
            "                                                                 \n",
            " conv2d (Conv2D)             (None, 4, 4, 512)         2359808   \n",
            "                                                                 \n",
            " conv2d_1 (Conv2D)           (None, 4, 4, 512)         2359808   \n",
            "                                                                 \n",
            " conv2d_2 (Conv2D)           (None, 4, 4, 512)         2359808   \n",
            "                                                                 \n",
            " up_sampling2d (UpSampling2  (None, 8, 8, 512)         0         \n",
            " D)                                                              \n",
            "                                                                 \n",
            " conv2d_3 (Conv2D)           (None, 8, 8, 512)         2359808   \n",
            "                                                                 \n",
            " conv2d_4 (Conv2D)           (None, 8, 8, 512)         2359808   \n",
            "                                                                 \n",
            " conv2d_5 (Conv2D)           (None, 8, 8, 512)         2359808   \n",
            "                                                                 \n",
            " up_sampling2d_1 (UpSamplin  (None, 16, 16, 512)       0         \n",
            " g2D)                                                            \n",
            "                                                                 \n",
            " conv2d_6 (Conv2D)           (None, 16, 16, 256)       1179904   \n",
            "                                                                 \n",
            " conv2d_7 (Conv2D)           (None, 16, 16, 256)       590080    \n",
            "                                                                 \n",
            " conv2d_8 (Conv2D)           (None, 16, 16, 256)       590080    \n",
            "                                                                 \n",
            " up_sampling2d_2 (UpSamplin  (None, 32, 32, 256)       0         \n",
            " g2D)                                                            \n",
            "                                                                 \n",
            " conv2d_9 (Conv2D)           (None, 32, 32, 128)       295040    \n",
            "                                                                 \n",
            " conv2d_10 (Conv2D)          (None, 32, 32, 128)       147584    \n",
            "                                                                 \n",
            " up_sampling2d_3 (UpSamplin  (None, 64, 64, 128)       0         \n",
            " g2D)                                                            \n",
            "                                                                 \n",
            " conv2d_11 (Conv2D)          (None, 64, 64, 64)        73792     \n",
            "                                                                 \n",
            " conv2d_12 (Conv2D)          (None, 64, 64, 64)        36928     \n",
            "                                                                 \n",
            " up_sampling2d_4 (UpSamplin  (None, 128, 128, 64)      0         \n",
            " g2D)                                                            \n",
            "                                                                 \n",
            " conv2d_13 (Conv2D)          (None, 128, 128, 1)       577       \n",
            "                                                                 \n",
            "=================================================================\n",
            "Total params: 31787521 (121.26 MB)\n",
            "Trainable params: 31787521 (121.26 MB)\n",
            "Non-trainable params: 0 (0.00 Byte)\n",
            "_________________________________________________________________\n"
          ]
        }
      ]
    },
    {
      "cell_type": "markdown",
      "source": [
        "## Getting Train-Valid-Test Data"
      ],
      "metadata": {
        "id": "ABHUpnQIaNm8"
      }
    },
    {
      "cell_type": "code",
      "source": [
        "from google.colab import drive\n",
        "\n",
        "drive.mount('/content/drive')"
      ],
      "metadata": {
        "id": "DgD-rfuNaPQ9",
        "colab": {
          "base_uri": "https://localhost:8080/"
        },
        "outputId": "4709534e-6f89-400e-c1d2-12027ead75c8"
      },
      "execution_count": null,
      "outputs": [
        {
          "output_type": "stream",
          "name": "stdout",
          "text": [
            "Mounted at /content/drive\n"
          ]
        }
      ]
    },
    {
      "cell_type": "code",
      "source": [
        "import numpy as np\n",
        "\n",
        "# TRAIN\n",
        "trainimageNP = np.load(\"/content/drive/My Drive/MANDIBLE/train_img.npy\")\n",
        "trainmaskNP = np.load(\"/content/drive/My Drive/MANDIBLE/train_mask.npy\")\n",
        "\n",
        "# VALID\n",
        "validimageNP = np.load(\"/content/drive/My Drive/MANDIBLE/valid_img.npy\")\n",
        "validmaskNP = np.load(\"/content/drive/My Drive/MANDIBLE/valid_mask.npy\")\n",
        "\n",
        "# TEST\n",
        "testimageNP = np.load(\"/content/drive/My Drive/MANDIBLE/test_img.npy\")\n",
        "testmaskNP = np.load(\"/content/drive/My Drive/MANDIBLE/test_mask.npy\")"
      ],
      "metadata": {
        "id": "K6rc74qQaQH8"
      },
      "execution_count": null,
      "outputs": []
    },
    {
      "cell_type": "code",
      "source": [
        "print(trainimageNP.shape)\n",
        "print(trainmaskNP.shape)\n",
        "print(validimageNP.shape)\n",
        "print(validmaskNP.shape)\n",
        "print(testimageNP.shape)\n",
        "print(testmaskNP.shape)"
      ],
      "metadata": {
        "id": "9yQ5vfOxaRVY",
        "colab": {
          "base_uri": "https://localhost:8080/"
        },
        "outputId": "89652630-6eb0-40cd-9754-55f8913fcd48"
      },
      "execution_count": null,
      "outputs": [
        {
          "output_type": "stream",
          "name": "stdout",
          "text": [
            "(1626, 128, 128, 3)\n",
            "(1626, 128, 128)\n",
            "(465, 128, 128, 3)\n",
            "(465, 128, 128)\n",
            "(233, 128, 128, 3)\n",
            "(233, 128, 128)\n"
          ]
        }
      ]
    },
    {
      "cell_type": "markdown",
      "source": [
        "## Epoch Training"
      ],
      "metadata": {
        "id": "jVvoFGbDaTmh"
      }
    },
    {
      "cell_type": "code",
      "source": [
        "lr = 1e-4\n",
        "batchSize = 32\n",
        "epochs = 25"
      ],
      "metadata": {
        "id": "aoldddtHaVk5"
      },
      "execution_count": null,
      "outputs": []
    },
    {
      "cell_type": "code",
      "source": [
        "drive_path = '/content/drive/My Drive/MANDIBLE/models/segnet.keras'"
      ],
      "metadata": {
        "id": "pcrDuMyraWOj"
      },
      "execution_count": null,
      "outputs": []
    },
    {
      "cell_type": "code",
      "source": [
        "import time\n",
        "from keras.callbacks import ModelCheckpoint, ReduceLROnPlateau, EarlyStopping\n",
        "\n",
        "# Compile the model\n",
        "opt = tf.keras.optimizers.Adam(lr)\n",
        "model.compile(loss=\"binary_crossentropy\", optimizer=opt, metrics=[\"accuracy\"])\n",
        "\n",
        "# Calculate steps per epoch and validation steps\n",
        "stepsPerEpoch = len(trainimageNP) // batchSize\n",
        "validationSteps = len(validimageNP) // batchSize\n",
        "\n",
        "# Define callbacks\n",
        "callbacks = [\n",
        "    ModelCheckpoint(drive_path, verbose=1, save_best_only=True),\n",
        "    ReduceLROnPlateau(monitor=\"val_loss\", patience=5, factor=0.1, verbose=1, min_lr=1e-7),\n",
        "    EarlyStopping(monitor=\"val_loss\", patience=5, verbose=1, mode=\"min\")\n",
        "]\n",
        "\n",
        "# Record the start time\n",
        "start_time = time.time()\n",
        "\n",
        "# Train the model\n",
        "history = model.fit(trainimageNP, trainmaskNP,\n",
        "                    batch_size=batchSize,\n",
        "                    epochs=epochs,\n",
        "                    verbose=1,\n",
        "                    validation_data=(validimageNP, validmaskNP),\n",
        "                    validation_steps=validationSteps,\n",
        "                    steps_per_epoch=stepsPerEpoch,\n",
        "                    shuffle=True,\n",
        "                    callbacks=callbacks\n",
        "                    )\n",
        "\n",
        "# Record the end time\n",
        "end_time = time.time()\n",
        "\n",
        "# Calculate the training duration\n",
        "training_time = end_time - start_time\n",
        "\n",
        "print(f\"Training time: {training_time:.2f} seconds\")"
      ],
      "metadata": {
        "id": "9OsUsYJkaZrh",
        "colab": {
          "base_uri": "https://localhost:8080/"
        },
        "outputId": "a8258442-0f50-498b-de2b-6cf4ff1db757"
      },
      "execution_count": null,
      "outputs": [
        {
          "output_type": "stream",
          "name": "stdout",
          "text": [
            "Epoch 1/25\n",
            "50/50 [==============================] - ETA: 0s - loss: 0.4318 - accuracy: 0.8288\n",
            "Epoch 1: val_loss improved from inf to 0.18251, saving model to /content/drive/My Drive/MANDIBLE/models/segnet.keras\n",
            "50/50 [==============================] - 51s 440ms/step - loss: 0.4318 - accuracy: 0.8288 - val_loss: 0.1825 - val_accuracy: 0.9252 - lr: 1.0000e-04\n",
            "Epoch 2/25\n",
            "50/50 [==============================] - ETA: 0s - loss: 0.1749 - accuracy: 0.9272\n",
            "Epoch 2: val_loss improved from 0.18251 to 0.11748, saving model to /content/drive/My Drive/MANDIBLE/models/segnet.keras\n",
            "50/50 [==============================] - 26s 287ms/step - loss: 0.1749 - accuracy: 0.9272 - val_loss: 0.1175 - val_accuracy: 0.9504 - lr: 1.0000e-04\n",
            "Epoch 3/25\n",
            "50/50 [==============================] - ETA: 0s - loss: 0.1146 - accuracy: 0.9514\n",
            "Epoch 3: val_loss improved from 0.11748 to 0.10298, saving model to /content/drive/My Drive/MANDIBLE/models/segnet.keras\n",
            "50/50 [==============================] - 15s 292ms/step - loss: 0.1146 - accuracy: 0.9514 - val_loss: 0.1030 - val_accuracy: 0.9567 - lr: 1.0000e-04\n",
            "Epoch 4/25\n",
            "50/50 [==============================] - ETA: 0s - loss: 0.1029 - accuracy: 0.9567\n",
            "Epoch 4: val_loss improved from 0.10298 to 0.09643, saving model to /content/drive/My Drive/MANDIBLE/models/segnet.keras\n",
            "50/50 [==============================] - 15s 293ms/step - loss: 0.1029 - accuracy: 0.9567 - val_loss: 0.0964 - val_accuracy: 0.9589 - lr: 1.0000e-04\n",
            "Epoch 5/25\n",
            "50/50 [==============================] - ETA: 0s - loss: 0.0963 - accuracy: 0.9596\n",
            "Epoch 5: val_loss improved from 0.09643 to 0.09209, saving model to /content/drive/My Drive/MANDIBLE/models/segnet.keras\n",
            "50/50 [==============================] - 14s 288ms/step - loss: 0.0963 - accuracy: 0.9596 - val_loss: 0.0921 - val_accuracy: 0.9608 - lr: 1.0000e-04\n",
            "Epoch 6/25\n",
            "50/50 [==============================] - ETA: 0s - loss: 0.0933 - accuracy: 0.9607\n",
            "Epoch 6: val_loss improved from 0.09209 to 0.08615, saving model to /content/drive/My Drive/MANDIBLE/models/segnet.keras\n",
            "50/50 [==============================] - 15s 293ms/step - loss: 0.0933 - accuracy: 0.9607 - val_loss: 0.0861 - val_accuracy: 0.9637 - lr: 1.0000e-04\n",
            "Epoch 7/25\n",
            "50/50 [==============================] - ETA: 0s - loss: 0.0899 - accuracy: 0.9619\n",
            "Epoch 7: val_loss improved from 0.08615 to 0.08519, saving model to /content/drive/My Drive/MANDIBLE/models/segnet.keras\n",
            "50/50 [==============================] - 14s 283ms/step - loss: 0.0899 - accuracy: 0.9619 - val_loss: 0.0852 - val_accuracy: 0.9642 - lr: 1.0000e-04\n",
            "Epoch 8/25\n",
            "50/50 [==============================] - ETA: 0s - loss: 0.0842 - accuracy: 0.9643\n",
            "Epoch 8: val_loss improved from 0.08519 to 0.08223, saving model to /content/drive/My Drive/MANDIBLE/models/segnet.keras\n",
            "50/50 [==============================] - 14s 282ms/step - loss: 0.0842 - accuracy: 0.9643 - val_loss: 0.0822 - val_accuracy: 0.9652 - lr: 1.0000e-04\n",
            "Epoch 9/25\n",
            "50/50 [==============================] - ETA: 0s - loss: 0.0845 - accuracy: 0.9638\n",
            "Epoch 9: val_loss did not improve from 0.08223\n",
            "50/50 [==============================] - 12s 243ms/step - loss: 0.0845 - accuracy: 0.9638 - val_loss: 0.0835 - val_accuracy: 0.9642 - lr: 1.0000e-04\n",
            "Epoch 10/25\n",
            "50/50 [==============================] - ETA: 0s - loss: 0.0805 - accuracy: 0.9653\n",
            "Epoch 10: val_loss improved from 0.08223 to 0.07836, saving model to /content/drive/My Drive/MANDIBLE/models/segnet.keras\n",
            "50/50 [==============================] - 14s 290ms/step - loss: 0.0805 - accuracy: 0.9653 - val_loss: 0.0784 - val_accuracy: 0.9661 - lr: 1.0000e-04\n",
            "Epoch 11/25\n",
            "50/50 [==============================] - ETA: 0s - loss: 0.0803 - accuracy: 0.9654\n",
            "Epoch 11: val_loss improved from 0.07836 to 0.07583, saving model to /content/drive/My Drive/MANDIBLE/models/segnet.keras\n",
            "50/50 [==============================] - 15s 294ms/step - loss: 0.0803 - accuracy: 0.9654 - val_loss: 0.0758 - val_accuracy: 0.9676 - lr: 1.0000e-04\n",
            "Epoch 12/25\n",
            "50/50 [==============================] - ETA: 0s - loss: 0.0756 - accuracy: 0.9676\n",
            "Epoch 12: val_loss improved from 0.07583 to 0.07553, saving model to /content/drive/My Drive/MANDIBLE/models/segnet.keras\n",
            "50/50 [==============================] - 14s 285ms/step - loss: 0.0756 - accuracy: 0.9676 - val_loss: 0.0755 - val_accuracy: 0.9676 - lr: 1.0000e-04\n",
            "Epoch 13/25\n",
            "50/50 [==============================] - ETA: 0s - loss: 0.0747 - accuracy: 0.9677\n",
            "Epoch 13: val_loss improved from 0.07553 to 0.07209, saving model to /content/drive/My Drive/MANDIBLE/models/segnet.keras\n",
            "50/50 [==============================] - 15s 291ms/step - loss: 0.0747 - accuracy: 0.9677 - val_loss: 0.0721 - val_accuracy: 0.9690 - lr: 1.0000e-04\n",
            "Epoch 14/25\n",
            "50/50 [==============================] - ETA: 0s - loss: 0.0718 - accuracy: 0.9687\n",
            "Epoch 14: val_loss did not improve from 0.07209\n",
            "50/50 [==============================] - 12s 243ms/step - loss: 0.0718 - accuracy: 0.9687 - val_loss: 0.0735 - val_accuracy: 0.9677 - lr: 1.0000e-04\n",
            "Epoch 15/25\n",
            "50/50 [==============================] - ETA: 0s - loss: 0.0711 - accuracy: 0.9690\n",
            "Epoch 15: val_loss improved from 0.07209 to 0.06817, saving model to /content/drive/My Drive/MANDIBLE/models/segnet.keras\n",
            "50/50 [==============================] - 15s 293ms/step - loss: 0.0711 - accuracy: 0.9690 - val_loss: 0.0682 - val_accuracy: 0.9701 - lr: 1.0000e-04\n",
            "Epoch 16/25\n",
            "50/50 [==============================] - ETA: 0s - loss: 0.0683 - accuracy: 0.9701\n",
            "Epoch 16: val_loss improved from 0.06817 to 0.06767, saving model to /content/drive/My Drive/MANDIBLE/models/segnet.keras\n",
            "50/50 [==============================] - 17s 333ms/step - loss: 0.0683 - accuracy: 0.9701 - val_loss: 0.0677 - val_accuracy: 0.9706 - lr: 1.0000e-04\n",
            "Epoch 17/25\n",
            "50/50 [==============================] - ETA: 0s - loss: 0.0669 - accuracy: 0.9707\n",
            "Epoch 17: val_loss improved from 0.06767 to 0.06506, saving model to /content/drive/My Drive/MANDIBLE/models/segnet.keras\n",
            "50/50 [==============================] - 15s 291ms/step - loss: 0.0669 - accuracy: 0.9707 - val_loss: 0.0651 - val_accuracy: 0.9715 - lr: 1.0000e-04\n",
            "Epoch 18/25\n",
            "50/50 [==============================] - ETA: 0s - loss: 0.0662 - accuracy: 0.9711\n",
            "Epoch 18: val_loss improved from 0.06506 to 0.06399, saving model to /content/drive/My Drive/MANDIBLE/models/segnet.keras\n",
            "50/50 [==============================] - 15s 293ms/step - loss: 0.0662 - accuracy: 0.9711 - val_loss: 0.0640 - val_accuracy: 0.9719 - lr: 1.0000e-04\n",
            "Epoch 19/25\n",
            "50/50 [==============================] - ETA: 0s - loss: 0.0645 - accuracy: 0.9718\n",
            "Epoch 19: val_loss improved from 0.06399 to 0.06180, saving model to /content/drive/My Drive/MANDIBLE/models/segnet.keras\n",
            "50/50 [==============================] - 18s 366ms/step - loss: 0.0645 - accuracy: 0.9718 - val_loss: 0.0618 - val_accuracy: 0.9729 - lr: 1.0000e-04\n",
            "Epoch 20/25\n",
            "50/50 [==============================] - ETA: 0s - loss: 0.0627 - accuracy: 0.9725\n",
            "Epoch 20: val_loss improved from 0.06180 to 0.06176, saving model to /content/drive/My Drive/MANDIBLE/models/segnet.keras\n",
            "50/50 [==============================] - 15s 296ms/step - loss: 0.0627 - accuracy: 0.9725 - val_loss: 0.0618 - val_accuracy: 0.9728 - lr: 1.0000e-04\n",
            "Epoch 21/25\n",
            "50/50 [==============================] - ETA: 0s - loss: 0.0627 - accuracy: 0.9724\n",
            "Epoch 21: val_loss improved from 0.06176 to 0.06047, saving model to /content/drive/My Drive/MANDIBLE/models/segnet.keras\n",
            "50/50 [==============================] - 14s 288ms/step - loss: 0.0627 - accuracy: 0.9724 - val_loss: 0.0605 - val_accuracy: 0.9732 - lr: 1.0000e-04\n",
            "Epoch 22/25\n",
            "50/50 [==============================] - ETA: 0s - loss: 0.0596 - accuracy: 0.9738\n",
            "Epoch 22: val_loss improved from 0.06047 to 0.05823, saving model to /content/drive/My Drive/MANDIBLE/models/segnet.keras\n",
            "50/50 [==============================] - 15s 297ms/step - loss: 0.0596 - accuracy: 0.9738 - val_loss: 0.0582 - val_accuracy: 0.9744 - lr: 1.0000e-04\n",
            "Epoch 23/25\n",
            "50/50 [==============================] - ETA: 0s - loss: 0.0567 - accuracy: 0.9751\n",
            "Epoch 23: val_loss improved from 0.05823 to 0.05668, saving model to /content/drive/My Drive/MANDIBLE/models/segnet.keras\n",
            "50/50 [==============================] - 18s 357ms/step - loss: 0.0567 - accuracy: 0.9751 - val_loss: 0.0567 - val_accuracy: 0.9748 - lr: 1.0000e-04\n",
            "Epoch 24/25\n",
            "50/50 [==============================] - ETA: 0s - loss: 0.0559 - accuracy: 0.9755\n",
            "Epoch 24: val_loss did not improve from 0.05668\n",
            "50/50 [==============================] - 12s 243ms/step - loss: 0.0559 - accuracy: 0.9755 - val_loss: 0.0578 - val_accuracy: 0.9748 - lr: 1.0000e-04\n",
            "Epoch 25/25\n",
            "50/50 [==============================] - ETA: 0s - loss: 0.0555 - accuracy: 0.9755\n",
            "Epoch 25: val_loss did not improve from 0.05668\n",
            "50/50 [==============================] - 12s 250ms/step - loss: 0.0555 - accuracy: 0.9755 - val_loss: 0.0589 - val_accuracy: 0.9742 - lr: 1.0000e-04\n",
            "Training time: 448.72 seconds\n"
          ]
        }
      ]
    },
    {
      "cell_type": "markdown",
      "source": [
        "## Performance Visualization"
      ],
      "metadata": {
        "id": "uM1tnFaxaeqq"
      }
    },
    {
      "cell_type": "code",
      "source": [
        "import matplotlib.pyplot as plt\n",
        "\n",
        "# Plot training & validation accuracy values\n",
        "plt.figure(figsize=(12, 4))\n",
        "\n",
        "# Determine the number of epochs\n",
        "epochs = len(history.history['accuracy'])\n",
        "interval = 5\n",
        "\n",
        "plt.subplot(1, 2, 1)\n",
        "plt.plot(range(1, epochs + 1), history.history['accuracy'])\n",
        "plt.plot(range(1, epochs + 1), history.history['val_accuracy'])\n",
        "plt.title('Model accuracy')\n",
        "plt.ylabel('Accuracy')\n",
        "plt.xlabel('Epoch')\n",
        "plt.legend(['Train', 'Validation'], loc='upper left')\n",
        "plt.xticks(range(1, epochs + 1, interval))  # Set x-ticks with interval\n",
        "\n",
        "plt.subplot(1, 2, 2)\n",
        "plt.plot(range(1, epochs + 1), history.history['loss'])\n",
        "plt.plot(range(1, epochs + 1), history.history['val_loss'])\n",
        "plt.title('Model loss')\n",
        "plt.ylabel('Loss')\n",
        "plt.xlabel('Epoch')\n",
        "plt.legend(['Train', 'Validation'], loc='upper left')\n",
        "plt.xticks(range(1, epochs + 1, interval))  # Set x-ticks with interval\n",
        "\n",
        "# Add an overall title\n",
        "plt.suptitle('SegNet Model Performance', fontsize=16)\n",
        "\n",
        "plt.show()"
      ],
      "metadata": {
        "id": "ms3mPNpiaZal",
        "colab": {
          "base_uri": "https://localhost:8080/",
          "height": 428
        },
        "outputId": "54838792-ae9c-459f-94d5-9061d632c469"
      },
      "execution_count": null,
      "outputs": [
        {
          "output_type": "display_data",
          "data": {
            "text/plain": [
              "<Figure size 1200x400 with 2 Axes>"
            ],
            "image/png": "[encoded data removed]"
          },
          "metadata": {}
        }
      ]
    },
    {
      "cell_type": "markdown",
      "source": [
        "## Evaluating on Test Set"
      ],
      "metadata": {
        "id": "o9f6cLNZahUy"
      }
    },
    {
      "cell_type": "code",
      "source": [
        "from tensorflow.keras.models import load_model\n",
        "\n",
        "best_model = load_model(drive_path)\n",
        "\n",
        "test_loss, test_accuracy = best_model.evaluate(testimageNP, testmaskNP, verbose=1)\n",
        "\n",
        "print(f'Test Loss: {test_loss}')\n",
        "print(f'Test Accuracy: {test_accuracy}')"
      ],
      "metadata": {
        "id": "Y1KDRBw_ai-J",
        "colab": {
          "base_uri": "https://localhost:8080/"
        },
        "outputId": "111b9228-0d61-4534-ed9e-210a37c76c73"
      },
      "execution_count": null,
      "outputs": [
        {
          "output_type": "stream",
          "name": "stdout",
          "text": [
            "8/8 [==============================] - 3s 369ms/step - loss: 0.0595 - accuracy: 0.9739\n",
            "Test Loss: 0.059541553258895874\n",
            "Test Accuracy: 0.9738549590110779\n"
          ]
        }
      ]
    }
  ]
}