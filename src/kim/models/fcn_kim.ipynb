{
  "cells": [
    {
      "cell_type": "markdown",
      "metadata": {
        "id": "9c8c0yyVAhKf"
      },
      "source": [
        "# FCN Model"
      ]
    },
    {
      "cell_type": "markdown",
      "metadata": {
        "id": "e4ASHa7tAmQ1"
      },
      "source": [
        "## Model Building"
      ]
    },
    {
      "cell_type": "code",
      "execution_count": 22,
      "metadata": {
        "id": "f6f293MBOr0j"
      },
      "outputs": [],
      "source": [
        "import tensorflow as tf\n",
        "from tensorflow.keras import layers, models"
      ]
    },
    {
      "cell_type": "code",
      "execution_count": 49,
      "metadata": {
        "id": "Q_Db_OUPOr0k"
      },
      "outputs": [],
      "source": [
        "def build_fcn(input_shape, num_classes):\n",
        "    inputs = layers.Input(shape=input_shape)\n",
        "\n",
        "    # Encoder\n",
        "    x1 = layers.Conv2D(64, (3, 3), padding='same', activation='relu')(inputs)\n",
        "    x1 = layers.Conv2D(64, (3, 3), padding='same', activation='relu')(x1)\n",
        "    x1 = layers.MaxPooling2D((2, 2))(x1)\n",
        "\n",
        "    x2 = layers.Conv2D(128, (3, 3), padding='same', activation='relu')(x1)\n",
        "    x2 = layers.Conv2D(128, (3, 3), padding='same', activation='relu')(x2)\n",
        "    x2 = layers.MaxPooling2D((2, 2))(x2)\n",
        "\n",
        "    x3 = layers.Conv2D(256, (3, 3), padding='same', activation='relu')(x2)\n",
        "    x3 = layers.Conv2D(256, (3, 3), padding='same', activation='relu')(x3)\n",
        "    x3 = layers.MaxPooling2D((2, 2))(x3)\n",
        "\n",
        "    x4 = layers.Conv2D(512, (3, 3), padding='same', activation='relu')(x3)\n",
        "    x4 = layers.Conv2D(512, (3, 3), padding='same', activation='relu')(x4)\n",
        "    x4 = layers.MaxPooling2D((2, 2))(x4)\n",
        "\n",
        "    x5 = layers.Conv2D(512, (3, 3), padding='same', activation='relu')(x4)\n",
        "    x5 = layers.Conv2D(512, (3, 3), padding='same', activation='relu')(x5)\n",
        "    x5 = layers.MaxPooling2D((2, 2))(x5)\n",
        "\n",
        "    # Decoder\n",
        "    x6 = layers.Conv2DTranspose(512, (3, 3), strides=(2, 2), padding='same', activation='relu')(x5)\n",
        "    x6 = layers.Conv2D(512, (3, 3), padding='same', activation='relu')(x6)\n",
        "\n",
        "    x7 = layers.Conv2DTranspose(512, (3, 3), strides=(2, 2), padding='same', activation='relu')(x6)\n",
        "    x7 = layers.Conv2D(512, (3, 3), padding='same', activation='relu')(x7)\n",
        "\n",
        "    x8 = layers.Conv2DTranspose(256, (3, 3), strides=(2, 2), padding='same', activation='relu')(x7)\n",
        "    x8 = layers.Conv2D(256, (3, 3), padding='same', activation='relu')(x8)\n",
        "\n",
        "    x9 = layers.Conv2DTranspose(128, (3, 3), strides=(2, 2), padding='same', activation='relu')(x8)\n",
        "    x9 = layers.Conv2D(128, (3, 3), padding='same', activation='relu')(x9)\n",
        "\n",
        "    x10 = layers.Conv2DTranspose(64, (3, 3), strides=(2, 2), padding='same', activation='relu')(x9)\n",
        "    x10 = layers.Conv2D(64, (3, 3), padding='same', activation='relu')(x10)\n",
        "\n",
        "    # Output layer\n",
        "    outputs = layers.Conv2D(num_classes, (1, 1), activation='sigmoid')(x10)  # Sigmoid for binary classification\n",
        "\n",
        "    model = models.Model(inputs, outputs)\n",
        "\n",
        "    return model"
      ]
    },
    {
      "cell_type": "code",
      "execution_count": 50,
      "metadata": {
        "colab": {
          "base_uri": "https://localhost:8080/"
        },
        "id": "BzGhyCMhOr0k",
        "outputId": "f53112db-e0ac-4577-ad61-4678ffb83b37"
      },
      "outputs": [
        {
          "output_type": "stream",
          "name": "stdout",
          "text": [
            "Model: \"model_6\"\n",
            "_________________________________________________________________\n",
            " Layer (type)                Output Shape              Param #   \n",
            "=================================================================\n",
            " input_15 (InputLayer)       [(None, 288, 128, 3)]     0         \n",
            "                                                                 \n",
            " conv2d_104 (Conv2D)         (None, 288, 128, 64)      1792      \n",
            "                                                                 \n",
            " conv2d_105 (Conv2D)         (None, 288, 128, 64)      36928     \n",
            "                                                                 \n",
            " max_pooling2d_47 (MaxPooli  (None, 144, 64, 64)       0         \n",
            " ng2D)                                                           \n",
            "                                                                 \n",
            " conv2d_106 (Conv2D)         (None, 144, 64, 128)      73856     \n",
            "                                                                 \n",
            " conv2d_107 (Conv2D)         (None, 144, 64, 128)      147584    \n",
            "                                                                 \n",
            " max_pooling2d_48 (MaxPooli  (None, 72, 32, 128)       0         \n",
            " ng2D)                                                           \n",
            "                                                                 \n",
            " conv2d_108 (Conv2D)         (None, 72, 32, 256)       295168    \n",
            "                                                                 \n",
            " conv2d_109 (Conv2D)         (None, 72, 32, 256)       590080    \n",
            "                                                                 \n",
            " max_pooling2d_49 (MaxPooli  (None, 36, 16, 256)       0         \n",
            " ng2D)                                                           \n",
            "                                                                 \n",
            " conv2d_110 (Conv2D)         (None, 36, 16, 512)       1180160   \n",
            "                                                                 \n",
            " conv2d_111 (Conv2D)         (None, 36, 16, 512)       2359808   \n",
            "                                                                 \n",
            " max_pooling2d_50 (MaxPooli  (None, 18, 8, 512)        0         \n",
            " ng2D)                                                           \n",
            "                                                                 \n",
            " conv2d_112 (Conv2D)         (None, 18, 8, 512)        2359808   \n",
            "                                                                 \n",
            " conv2d_113 (Conv2D)         (None, 18, 8, 512)        2359808   \n",
            "                                                                 \n",
            " max_pooling2d_51 (MaxPooli  (None, 9, 4, 512)         0         \n",
            " ng2D)                                                           \n",
            "                                                                 \n",
            " conv2d_transpose_23 (Conv2  (None, 18, 8, 512)        2359808   \n",
            " DTranspose)                                                     \n",
            "                                                                 \n",
            " conv2d_114 (Conv2D)         (None, 18, 8, 512)        2359808   \n",
            "                                                                 \n",
            " conv2d_transpose_24 (Conv2  (None, 36, 16, 512)       2359808   \n",
            " DTranspose)                                                     \n",
            "                                                                 \n",
            " conv2d_115 (Conv2D)         (None, 36, 16, 512)       2359808   \n",
            "                                                                 \n",
            " conv2d_transpose_25 (Conv2  (None, 72, 32, 256)       1179904   \n",
            " DTranspose)                                                     \n",
            "                                                                 \n",
            " conv2d_116 (Conv2D)         (None, 72, 32, 256)       590080    \n",
            "                                                                 \n",
            " conv2d_transpose_26 (Conv2  (None, 144, 64, 128)      295040    \n",
            " DTranspose)                                                     \n",
            "                                                                 \n",
            " conv2d_117 (Conv2D)         (None, 144, 64, 128)      147584    \n",
            "                                                                 \n",
            " conv2d_transpose_27 (Conv2  (None, 288, 128, 64)      73792     \n",
            " DTranspose)                                                     \n",
            "                                                                 \n",
            " conv2d_118 (Conv2D)         (None, 288, 128, 64)      36928     \n",
            "                                                                 \n",
            " conv2d_119 (Conv2D)         (None, 288, 128, 1)       65        \n",
            "                                                                 \n",
            "=================================================================\n",
            "Total params: 21167617 (80.75 MB)\n",
            "Trainable params: 21167617 (80.75 MB)\n",
            "Non-trainable params: 0 (0.00 Byte)\n",
            "_________________________________________________________________\n",
            "None\n"
          ]
        }
      ],
      "source": [
        "model = build_fcn(input_shape=(288, 128, 3), num_classes=1)\n",
        "print(model.summary())"
      ]
    },
    {
      "cell_type": "markdown",
      "metadata": {
        "id": "v2OYzopXAq4o"
      },
      "source": [
        "## Getting Train-Valid-Test Data"
      ]
    },
    {
      "cell_type": "code",
      "execution_count": 25,
      "metadata": {
        "colab": {
          "base_uri": "https://localhost:8080/"
        },
        "id": "qZjyKvfha63x",
        "outputId": "25cc772a-18d8-490c-c801-abe105e2fcff"
      },
      "outputs": [
        {
          "output_type": "stream",
          "name": "stdout",
          "text": [
            "Mounted at /content/drive\n"
          ]
        }
      ],
      "source": [
        "from google.colab import drive\n",
        "\n",
        "drive.mount('/content/drive')"
      ]
    },
    {
      "cell_type": "code",
      "execution_count": 44,
      "metadata": {
        "id": "Okh0TMrCOr0l"
      },
      "outputs": [],
      "source": [
        "import numpy as np\n",
        "\n",
        "# TRAIN\n",
        "trainimageNP = np.load(\"/content/drive/My Drive/MANDIBLE/train_img.npy\")\n",
        "trainmaskNP = np.load(\"/content/drive/My Drive/MANDIBLE/train_mask.npy\")\n",
        "\n",
        "# VALID\n",
        "validimageNP = np.load(\"/content/drive/My Drive/MANDIBLE/valid_img.npy\")\n",
        "validmaskNP = np.load(\"/content/drive/My Drive/MANDIBLE/valid_mask.npy\")\n",
        "\n",
        "# TEST\n",
        "testimageNP = np.load(\"/content/drive/My Drive/MANDIBLE/test_img.npy\")\n",
        "testmaskNP = np.load(\"/content/drive/My Drive/MANDIBLE/test_mask.npy\")"
      ]
    },
    {
      "cell_type": "code",
      "execution_count": 45,
      "metadata": {
        "colab": {
          "base_uri": "https://localhost:8080/"
        },
        "id": "e1F4uNW4Or0l",
        "outputId": "00935cf9-420b-4502-95b6-0045ffb6579e"
      },
      "outputs": [
        {
          "output_type": "stream",
          "name": "stdout",
          "text": [
            "(1626, 300, 130, 3)\n",
            "(1626, 300, 130)\n",
            "(465, 300, 130, 3)\n",
            "(465, 300, 130)\n",
            "(233, 300, 130, 3)\n",
            "(233, 300, 130)\n"
          ]
        }
      ],
      "source": [
        "print(trainimageNP.shape)\n",
        "print(trainmaskNP.shape)\n",
        "print(validimageNP.shape)\n",
        "print(validmaskNP.shape)\n",
        "print(testimageNP.shape)\n",
        "print(testmaskNP.shape)"
      ]
    },
    {
      "cell_type": "code",
      "source": [
        "# Reshape images\n",
        "trainimageNP = trainimageNP[:, :288, :128, :]\n",
        "validimageNP = validimageNP[:, :288, :128, :]\n",
        "testimageNP = testimageNP[:, :288, :128, :]\n",
        "\n",
        "# Reshape masks\n",
        "trainmaskNP = trainmaskNP[:, :288, :128]\n",
        "validmaskNP = validmaskNP[:, :288, :128]\n",
        "testmaskNP = testmaskNP[:, :288, :128]\n",
        "\n",
        "print(trainimageNP.shape)\n",
        "print(trainmaskNP.shape)\n",
        "print(validimageNP.shape)\n",
        "print(validmaskNP.shape)\n",
        "print(testimageNP.shape)\n",
        "print(testmaskNP.shape)"
      ],
      "metadata": {
        "colab": {
          "base_uri": "https://localhost:8080/"
        },
        "id": "3hn8sP1YB-ra",
        "outputId": "70de0442-cc41-46be-c77c-90fa4cfdcb48"
      },
      "execution_count": 47,
      "outputs": [
        {
          "output_type": "stream",
          "name": "stdout",
          "text": [
            "(1626, 288, 128, 3)\n",
            "(1626, 288, 128)\n",
            "(465, 288, 128, 3)\n",
            "(465, 288, 128)\n",
            "(233, 288, 128, 3)\n",
            "(233, 288, 128)\n"
          ]
        }
      ]
    },
    {
      "cell_type": "markdown",
      "metadata": {
        "id": "_Kdr09oOAyTz"
      },
      "source": [
        "## Epoch Training"
      ]
    },
    {
      "cell_type": "code",
      "execution_count": 28,
      "metadata": {
        "id": "q640yOtXOr0l"
      },
      "outputs": [],
      "source": [
        "lr = 1e-4\n",
        "batchSize = 32\n",
        "epochs = 25"
      ]
    },
    {
      "cell_type": "code",
      "execution_count": 29,
      "metadata": {
        "id": "j2_wjOlNdeE1"
      },
      "outputs": [],
      "source": [
        "drive_path = '/content/drive/My Drive/MANDIBLE/models/fcn.keras'"
      ]
    },
    {
      "cell_type": "code",
      "execution_count": 51,
      "metadata": {
        "colab": {
          "base_uri": "https://localhost:8080/"
        },
        "id": "4fsQI-TpOr0l",
        "outputId": "fbf4e0ff-d206-4041-aae4-eaefcc117f84"
      },
      "outputs": [
        {
          "output_type": "stream",
          "name": "stdout",
          "text": [
            "Epoch 1/25\n",
            "50/50 [==============================] - ETA: 0s - loss: 0.6746 - accuracy: 0.6275\n",
            "Epoch 1: val_loss improved from inf to 0.66811, saving model to /content/drive/My Drive/MANDIBLE/models/fcn.keras\n",
            "50/50 [==============================] - 74s 802ms/step - loss: 0.6746 - accuracy: 0.6275 - val_loss: 0.6681 - val_accuracy: 0.6254 - lr: 1.0000e-04\n",
            "Epoch 2/25\n",
            "50/50 [==============================] - ETA: 0s - loss: 0.5520 - accuracy: 0.6290\n",
            "Epoch 2: val_loss improved from 0.66811 to 0.46097, saving model to /content/drive/My Drive/MANDIBLE/models/fcn.keras\n",
            "50/50 [==============================] - 55s 743ms/step - loss: 0.5520 - accuracy: 0.6290 - val_loss: 0.4610 - val_accuracy: 0.6254 - lr: 1.0000e-04\n",
            "Epoch 3/25\n",
            "50/50 [==============================] - ETA: 0s - loss: 0.3757 - accuracy: 0.8108\n",
            "Epoch 3: val_loss improved from 0.46097 to 0.26681, saving model to /content/drive/My Drive/MANDIBLE/models/fcn.keras\n",
            "50/50 [==============================] - 37s 738ms/step - loss: 0.3757 - accuracy: 0.8108 - val_loss: 0.2668 - val_accuracy: 0.8882 - lr: 1.0000e-04\n",
            "Epoch 4/25\n",
            "50/50 [==============================] - ETA: 0s - loss: 0.2406 - accuracy: 0.8989\n",
            "Epoch 4: val_loss improved from 0.26681 to 0.20166, saving model to /content/drive/My Drive/MANDIBLE/models/fcn.keras\n",
            "50/50 [==============================] - 39s 777ms/step - loss: 0.2406 - accuracy: 0.8989 - val_loss: 0.2017 - val_accuracy: 0.9150 - lr: 1.0000e-04\n",
            "Epoch 5/25\n",
            "50/50 [==============================] - ETA: 0s - loss: 0.1882 - accuracy: 0.9213\n",
            "Epoch 5: val_loss improved from 0.20166 to 0.18804, saving model to /content/drive/My Drive/MANDIBLE/models/fcn.keras\n",
            "50/50 [==============================] - 39s 782ms/step - loss: 0.1882 - accuracy: 0.9213 - val_loss: 0.1880 - val_accuracy: 0.9241 - lr: 1.0000e-04\n",
            "Epoch 6/25\n",
            "50/50 [==============================] - ETA: 0s - loss: 0.1623 - accuracy: 0.9322\n",
            "Epoch 6: val_loss improved from 0.18804 to 0.14951, saving model to /content/drive/My Drive/MANDIBLE/models/fcn.keras\n",
            "50/50 [==============================] - 42s 852ms/step - loss: 0.1623 - accuracy: 0.9322 - val_loss: 0.1495 - val_accuracy: 0.9367 - lr: 1.0000e-04\n",
            "Epoch 7/25\n",
            "50/50 [==============================] - ETA: 0s - loss: 0.1449 - accuracy: 0.9384\n",
            "Epoch 7: val_loss improved from 0.14951 to 0.14430, saving model to /content/drive/My Drive/MANDIBLE/models/fcn.keras\n",
            "50/50 [==============================] - 39s 784ms/step - loss: 0.1449 - accuracy: 0.9384 - val_loss: 0.1443 - val_accuracy: 0.9379 - lr: 1.0000e-04\n",
            "Epoch 8/25\n",
            "50/50 [==============================] - ETA: 0s - loss: 0.1320 - accuracy: 0.9438\n",
            "Epoch 8: val_loss improved from 0.14430 to 0.12818, saving model to /content/drive/My Drive/MANDIBLE/models/fcn.keras\n",
            "50/50 [==============================] - 37s 747ms/step - loss: 0.1320 - accuracy: 0.9438 - val_loss: 0.1282 - val_accuracy: 0.9451 - lr: 1.0000e-04\n",
            "Epoch 9/25\n",
            "50/50 [==============================] - ETA: 0s - loss: 0.1196 - accuracy: 0.9491\n",
            "Epoch 9: val_loss improved from 0.12818 to 0.11585, saving model to /content/drive/My Drive/MANDIBLE/models/fcn.keras\n",
            "50/50 [==============================] - 37s 746ms/step - loss: 0.1196 - accuracy: 0.9491 - val_loss: 0.1158 - val_accuracy: 0.9505 - lr: 1.0000e-04\n",
            "Epoch 10/25\n",
            "50/50 [==============================] - ETA: 0s - loss: 0.1063 - accuracy: 0.9546\n",
            "Epoch 10: val_loss improved from 0.11585 to 0.10523, saving model to /content/drive/My Drive/MANDIBLE/models/fcn.keras\n",
            "50/50 [==============================] - 39s 782ms/step - loss: 0.1063 - accuracy: 0.9546 - val_loss: 0.1052 - val_accuracy: 0.9552 - lr: 1.0000e-04\n",
            "Epoch 11/25\n",
            "50/50 [==============================] - ETA: 0s - loss: 0.0985 - accuracy: 0.9581\n",
            "Epoch 11: val_loss improved from 0.10523 to 0.09869, saving model to /content/drive/My Drive/MANDIBLE/models/fcn.keras\n",
            "50/50 [==============================] - 37s 748ms/step - loss: 0.0985 - accuracy: 0.9581 - val_loss: 0.0987 - val_accuracy: 0.9583 - lr: 1.0000e-04\n",
            "Epoch 12/25\n",
            "50/50 [==============================] - ETA: 0s - loss: 0.0865 - accuracy: 0.9634\n",
            "Epoch 12: val_loss improved from 0.09869 to 0.08909, saving model to /content/drive/My Drive/MANDIBLE/models/fcn.keras\n",
            "50/50 [==============================] - 46s 916ms/step - loss: 0.0865 - accuracy: 0.9634 - val_loss: 0.0891 - val_accuracy: 0.9626 - lr: 1.0000e-04\n",
            "Epoch 13/25\n",
            "50/50 [==============================] - ETA: 0s - loss: 0.0757 - accuracy: 0.9680\n",
            "Epoch 13: val_loss improved from 0.08909 to 0.07777, saving model to /content/drive/My Drive/MANDIBLE/models/fcn.keras\n",
            "50/50 [==============================] - 47s 954ms/step - loss: 0.0757 - accuracy: 0.9680 - val_loss: 0.0778 - val_accuracy: 0.9680 - lr: 1.0000e-04\n",
            "Epoch 14/25\n",
            "50/50 [==============================] - ETA: 0s - loss: 0.0647 - accuracy: 0.9728\n",
            "Epoch 14: val_loss improved from 0.07777 to 0.06845, saving model to /content/drive/My Drive/MANDIBLE/models/fcn.keras\n",
            "50/50 [==============================] - 51s 1s/step - loss: 0.0647 - accuracy: 0.9728 - val_loss: 0.0684 - val_accuracy: 0.9722 - lr: 1.0000e-04\n",
            "Epoch 15/25\n",
            "50/50 [==============================] - ETA: 0s - loss: 0.0570 - accuracy: 0.9762\n",
            "Epoch 15: val_loss improved from 0.06845 to 0.06387, saving model to /content/drive/My Drive/MANDIBLE/models/fcn.keras\n",
            "50/50 [==============================] - 47s 939ms/step - loss: 0.0570 - accuracy: 0.9762 - val_loss: 0.0639 - val_accuracy: 0.9750 - lr: 1.0000e-04\n",
            "Epoch 16/25\n",
            "50/50 [==============================] - ETA: 0s - loss: 0.0510 - accuracy: 0.9789\n",
            "Epoch 16: val_loss did not improve from 0.06387\n",
            "50/50 [==============================] - 36s 714ms/step - loss: 0.0510 - accuracy: 0.9789 - val_loss: 0.0742 - val_accuracy: 0.9704 - lr: 1.0000e-04\n",
            "Epoch 17/25\n",
            "50/50 [==============================] - ETA: 0s - loss: 0.0469 - accuracy: 0.9805\n",
            "Epoch 17: val_loss improved from 0.06387 to 0.05651, saving model to /content/drive/My Drive/MANDIBLE/models/fcn.keras\n",
            "50/50 [==============================] - 48s 964ms/step - loss: 0.0469 - accuracy: 0.9805 - val_loss: 0.0565 - val_accuracy: 0.9786 - lr: 1.0000e-04\n",
            "Epoch 18/25\n",
            "50/50 [==============================] - ETA: 0s - loss: 0.0407 - accuracy: 0.9833\n",
            "Epoch 18: val_loss improved from 0.05651 to 0.05556, saving model to /content/drive/My Drive/MANDIBLE/models/fcn.keras\n",
            "50/50 [==============================] - 50s 1s/step - loss: 0.0407 - accuracy: 0.9833 - val_loss: 0.0556 - val_accuracy: 0.9796 - lr: 1.0000e-04\n",
            "Epoch 19/25\n",
            "50/50 [==============================] - ETA: 0s - loss: 0.0366 - accuracy: 0.9851\n",
            "Epoch 19: val_loss improved from 0.05556 to 0.05414, saving model to /content/drive/My Drive/MANDIBLE/models/fcn.keras\n",
            "50/50 [==============================] - 45s 907ms/step - loss: 0.0366 - accuracy: 0.9851 - val_loss: 0.0541 - val_accuracy: 0.9810 - lr: 1.0000e-04\n",
            "Epoch 20/25\n",
            "50/50 [==============================] - ETA: 0s - loss: 0.0338 - accuracy: 0.9863\n",
            "Epoch 20: val_loss improved from 0.05414 to 0.05351, saving model to /content/drive/My Drive/MANDIBLE/models/fcn.keras\n",
            "50/50 [==============================] - 47s 951ms/step - loss: 0.0338 - accuracy: 0.9863 - val_loss: 0.0535 - val_accuracy: 0.9812 - lr: 1.0000e-04\n",
            "Epoch 21/25\n",
            "50/50 [==============================] - ETA: 0s - loss: 0.0324 - accuracy: 0.9867\n",
            "Epoch 21: val_loss improved from 0.05351 to 0.05262, saving model to /content/drive/My Drive/MANDIBLE/models/fcn.keras\n",
            "50/50 [==============================] - 53s 1s/step - loss: 0.0324 - accuracy: 0.9867 - val_loss: 0.0526 - val_accuracy: 0.9819 - lr: 1.0000e-04\n",
            "Epoch 22/25\n",
            "50/50 [==============================] - ETA: 0s - loss: 0.0296 - accuracy: 0.9880\n",
            "Epoch 22: val_loss improved from 0.05262 to 0.05076, saving model to /content/drive/My Drive/MANDIBLE/models/fcn.keras\n",
            "50/50 [==============================] - 59s 1s/step - loss: 0.0296 - accuracy: 0.9880 - val_loss: 0.0508 - val_accuracy: 0.9828 - lr: 1.0000e-04\n",
            "Epoch 23/25\n",
            "50/50 [==============================] - ETA: 0s - loss: 0.0270 - accuracy: 0.9891\n",
            "Epoch 23: val_loss did not improve from 0.05076\n",
            "50/50 [==============================] - 36s 728ms/step - loss: 0.0270 - accuracy: 0.9891 - val_loss: 0.0509 - val_accuracy: 0.9837 - lr: 1.0000e-04\n",
            "Epoch 24/25\n",
            "50/50 [==============================] - ETA: 0s - loss: 0.0266 - accuracy: 0.9892\n",
            "Epoch 24: val_loss did not improve from 0.05076\n",
            "50/50 [==============================] - 38s 752ms/step - loss: 0.0266 - accuracy: 0.9892 - val_loss: 0.0509 - val_accuracy: 0.9829 - lr: 1.0000e-04\n",
            "Epoch 25/25\n",
            "50/50 [==============================] - ETA: 0s - loss: 0.0247 - accuracy: 0.9899\n",
            "Epoch 25: val_loss did not improve from 0.05076\n",
            "50/50 [==============================] - 35s 701ms/step - loss: 0.0247 - accuracy: 0.9899 - val_loss: 0.0515 - val_accuracy: 0.9841 - lr: 1.0000e-04\n",
            "Training time: 1166.89 seconds\n"
          ]
        }
      ],
      "source": [
        "import time\n",
        "from keras.callbacks import ModelCheckpoint, ReduceLROnPlateau, EarlyStopping\n",
        "\n",
        "# Compile the model\n",
        "opt = tf.keras.optimizers.Adam(lr)\n",
        "model.compile(loss=\"binary_crossentropy\", optimizer=opt, metrics=[\"accuracy\"])\n",
        "\n",
        "# Calculate steps per epoch and validation steps\n",
        "stepsPerEpoch = len(trainimageNP) // batchSize\n",
        "validationSteps = len(validimageNP) // batchSize\n",
        "\n",
        "# Define callbacks\n",
        "callbacks = [\n",
        "    ModelCheckpoint(drive_path, verbose=1, save_best_only=True),\n",
        "    ReduceLROnPlateau(monitor=\"val_loss\", patience=5, factor=0.1, verbose=1, min_lr=1e-7),\n",
        "    EarlyStopping(monitor=\"val_loss\", patience=5, verbose=1, mode=\"min\")\n",
        "]\n",
        "\n",
        "# Record the start time\n",
        "start_time = time.time()\n",
        "\n",
        "# Train the model\n",
        "history = model.fit(trainimageNP, trainmaskNP,\n",
        "                    batch_size=batchSize,\n",
        "                    epochs=epochs,\n",
        "                    verbose=1,\n",
        "                    validation_data=(validimageNP, validmaskNP),\n",
        "                    validation_steps=validationSteps,\n",
        "                    steps_per_epoch=stepsPerEpoch,\n",
        "                    shuffle=True,\n",
        "                    callbacks=callbacks\n",
        "                    )\n",
        "\n",
        "# Record the end time\n",
        "end_time = time.time()\n",
        "\n",
        "# Calculate the training duration\n",
        "training_time = end_time - start_time\n",
        "\n",
        "print(f\"Training time: {training_time:.2f} seconds\")"
      ]
    },
    {
      "cell_type": "markdown",
      "metadata": {
        "id": "BUE0RwJJAsYp"
      },
      "source": [
        "## Performance Visualization"
      ]
    },
    {
      "cell_type": "code",
      "execution_count": 52,
      "metadata": {
        "colab": {
          "base_uri": "https://localhost:8080/",
          "height": 428
        },
        "id": "-28VThoAcRVh",
        "outputId": "cd467e5f-057d-4a8f-be0a-ea6c17a84217"
      },
      "outputs": [
        {
          "output_type": "display_data",
          "data": {
            "text/plain": [
              "<Figure size 1200x400 with 2 Axes>"
            ],
            "image/png": "[encoded data removed]"
          },
          "metadata": {}
        }
      ],
      "source": [
        "import matplotlib.pyplot as plt\n",
        "\n",
        "# Plot training & validation accuracy values\n",
        "plt.figure(figsize=(12, 4))\n",
        "\n",
        "# Determine the number of epochs\n",
        "epochs = len(history.history['accuracy'])\n",
        "interval = 5\n",
        "\n",
        "plt.subplot(1, 2, 1)\n",
        "plt.plot(range(1, epochs + 1), history.history['accuracy'])\n",
        "plt.plot(range(1, epochs + 1), history.history['val_accuracy'])\n",
        "plt.title('Model accuracy')\n",
        "plt.ylabel('Accuracy')\n",
        "plt.xlabel('Epoch')\n",
        "plt.legend(['Train', 'Validation'], loc='upper left')\n",
        "plt.xticks(range(1, epochs + 1, interval))  # Set x-ticks with interval\n",
        "\n",
        "plt.subplot(1, 2, 2)\n",
        "plt.plot(range(1, epochs + 1), history.history['loss'])\n",
        "plt.plot(range(1, epochs + 1), history.history['val_loss'])\n",
        "plt.title('Model loss')\n",
        "plt.ylabel('Loss')\n",
        "plt.xlabel('Epoch')\n",
        "plt.legend(['Train', 'Validation'], loc='upper left')\n",
        "plt.xticks(range(1, epochs + 1, interval))  # Set x-ticks with interval\n",
        "\n",
        "# Add an overall title\n",
        "plt.suptitle('FCN Model Performance', fontsize=16)\n",
        "\n",
        "plt.show()"
      ]
    },
    {
      "cell_type": "markdown",
      "metadata": {
        "id": "2xlzUOxoAu9I"
      },
      "source": [
        "## Evaluating on Test Set"
      ]
    },
    {
      "cell_type": "code",
      "execution_count": 53,
      "metadata": {
        "colab": {
          "base_uri": "https://localhost:8080/"
        },
        "id": "8NFTRfWABArn",
        "outputId": "f242ea8f-708c-4cf1-8472-9bda7f5c70cb"
      },
      "outputs": [
        {
          "output_type": "stream",
          "name": "stdout",
          "text": [
            "8/8 [==============================] - 5s 583ms/step - loss: 0.0639 - accuracy: 0.9802\n",
            "Test Loss: 0.06392708420753479\n",
            "Test Accuracy: 0.9801892042160034\n"
          ]
        }
      ],
      "source": [
        "from tensorflow.keras.models import load_model\n",
        "\n",
        "best_model = load_model(drive_path)\n",
        "\n",
        "test_loss, test_accuracy = best_model.evaluate(testimageNP, testmaskNP, verbose=1)\n",
        "\n",
        "print(f'Test Loss: {test_loss}')\n",
        "print(f'Test Accuracy: {test_accuracy}')"
      ]
    }
  ],
  "metadata": {
    "accelerator": "GPU",
    "colab": {
      "gpuType": "T4",
      "provenance": []
    },
    "kernelspec": {
      "display_name": "Python 3",
      "name": "python3"
    },
    "language_info": {
      "codemirror_mode": {
        "name": "ipython",
        "version": 3
      },
      "file_extension": ".py",
      "mimetype": "text/x-python",
      "name": "python",
      "nbconvert_exporter": "python",
      "pygments_lexer": "ipython3",
      "version": "3.12.2"
    }
  },
  "nbformat": 4,
  "nbformat_minor": 0
}