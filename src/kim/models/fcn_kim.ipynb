{
  "cells": [
    {
      "cell_type": "markdown",
      "metadata": {
        "id": "9c8c0yyVAhKf"
      },
      "source": [
        "# FCN Model"
      ]
    },
    {
      "cell_type": "markdown",
      "metadata": {
        "id": "e4ASHa7tAmQ1"
      },
      "source": [
        "## Model Building"
      ]
    },
    {
      "cell_type": "code",
      "execution_count": null,
      "metadata": {
        "id": "f6f293MBOr0j"
      },
      "outputs": [],
      "source": [
        "import tensorflow as tf\n",
        "from tensorflow.keras import layers, models"
      ]
    },
    {
      "cell_type": "code",
      "execution_count": null,
      "metadata": {
        "id": "Q_Db_OUPOr0k"
      },
      "outputs": [],
      "source": [
        "def build_fcn(input_shape, num_classes):\n",
        "    inputs = layers.Input(shape=input_shape)\n",
        "\n",
        "    # Encoder\n",
        "    x1 = layers.Conv2D(64, (3, 3), padding='same', activation='relu')(inputs)\n",
        "    x1 = layers.Conv2D(64, (3, 3), padding='same', activation='relu')(x1)\n",
        "    x1 = layers.MaxPooling2D((2, 2))(x1)\n",
        "\n",
        "    x2 = layers.Conv2D(128, (3, 3), padding='same', activation='relu')(x1)\n",
        "    x2 = layers.Conv2D(128, (3, 3), padding='same', activation='relu')(x2)\n",
        "    x2 = layers.MaxPooling2D((2, 2))(x2)\n",
        "\n",
        "    x3 = layers.Conv2D(256, (3, 3), padding='same', activation='relu')(x2)\n",
        "    x3 = layers.Conv2D(256, (3, 3), padding='same', activation='relu')(x3)\n",
        "    x3 = layers.MaxPooling2D((2, 2))(x3)\n",
        "\n",
        "    x4 = layers.Conv2D(512, (3, 3), padding='same', activation='relu')(x3)\n",
        "    x4 = layers.Conv2D(512, (3, 3), padding='same', activation='relu')(x4)\n",
        "    x4 = layers.MaxPooling2D((2, 2))(x4)\n",
        "\n",
        "    x5 = layers.Conv2D(512, (3, 3), padding='same', activation='relu')(x4)\n",
        "    x5 = layers.Conv2D(512, (3, 3), padding='same', activation='relu')(x5)\n",
        "    x5 = layers.MaxPooling2D((2, 2))(x5)\n",
        "\n",
        "    # Decoder\n",
        "    x6 = layers.Conv2DTranspose(512, (3, 3), strides=(2, 2), padding='same', activation='relu')(x5)\n",
        "    x6 = layers.Conv2D(512, (3, 3), padding='same', activation='relu')(x6)\n",
        "\n",
        "    x7 = layers.Conv2DTranspose(512, (3, 3), strides=(2, 2), padding='same', activation='relu')(x6)\n",
        "    x7 = layers.Conv2D(512, (3, 3), padding='same', activation='relu')(x7)\n",
        "\n",
        "    x8 = layers.Conv2DTranspose(256, (3, 3), strides=(2, 2), padding='same', activation='relu')(x7)\n",
        "    x8 = layers.Conv2D(256, (3, 3), padding='same', activation='relu')(x8)\n",
        "\n",
        "    x9 = layers.Conv2DTranspose(128, (3, 3), strides=(2, 2), padding='same', activation='relu')(x8)\n",
        "    x9 = layers.Conv2D(128, (3, 3), padding='same', activation='relu')(x9)\n",
        "\n",
        "    x10 = layers.Conv2DTranspose(64, (3, 3), strides=(2, 2), padding='same', activation='relu')(x9)\n",
        "    x10 = layers.Conv2D(64, (3, 3), padding='same', activation='relu')(x10)\n",
        "\n",
        "    # Output layer\n",
        "    outputs = layers.Conv2D(num_classes, (1, 1), activation='sigmoid')(x10)  # Sigmoid for binary classification\n",
        "\n",
        "    model = models.Model(inputs, outputs)\n",
        "\n",
        "    return model"
      ]
    },
    {
      "cell_type": "code",
      "execution_count": null,
      "metadata": {
        "colab": {
          "base_uri": "https://localhost:8080/"
        },
        "id": "BzGhyCMhOr0k",
        "outputId": "62020da2-956b-4ad8-d36e-094424daad0a"
      },
      "outputs": [
        {
          "output_type": "stream",
          "name": "stdout",
          "text": [
            "Model: \"model\"\n",
            "_________________________________________________________________\n",
            " Layer (type)                Output Shape              Param #   \n",
            "=================================================================\n",
            " input_1 (InputLayer)        [(None, 128, 128, 3)]     0         \n",
            "                                                                 \n",
            " conv2d (Conv2D)             (None, 128, 128, 64)      1792      \n",
            "                                                                 \n",
            " conv2d_1 (Conv2D)           (None, 128, 128, 64)      36928     \n",
            "                                                                 \n",
            " max_pooling2d (MaxPooling2  (None, 64, 64, 64)        0         \n",
            " D)                                                              \n",
            "                                                                 \n",
            " conv2d_2 (Conv2D)           (None, 64, 64, 128)       73856     \n",
            "                                                                 \n",
            " conv2d_3 (Conv2D)           (None, 64, 64, 128)       147584    \n",
            "                                                                 \n",
            " max_pooling2d_1 (MaxPoolin  (None, 32, 32, 128)       0         \n",
            " g2D)                                                            \n",
            "                                                                 \n",
            " conv2d_4 (Conv2D)           (None, 32, 32, 256)       295168    \n",
            "                                                                 \n",
            " conv2d_5 (Conv2D)           (None, 32, 32, 256)       590080    \n",
            "                                                                 \n",
            " max_pooling2d_2 (MaxPoolin  (None, 16, 16, 256)       0         \n",
            " g2D)                                                            \n",
            "                                                                 \n",
            " conv2d_6 (Conv2D)           (None, 16, 16, 512)       1180160   \n",
            "                                                                 \n",
            " conv2d_7 (Conv2D)           (None, 16, 16, 512)       2359808   \n",
            "                                                                 \n",
            " max_pooling2d_3 (MaxPoolin  (None, 8, 8, 512)         0         \n",
            " g2D)                                                            \n",
            "                                                                 \n",
            " conv2d_8 (Conv2D)           (None, 8, 8, 512)         2359808   \n",
            "                                                                 \n",
            " conv2d_9 (Conv2D)           (None, 8, 8, 512)         2359808   \n",
            "                                                                 \n",
            " max_pooling2d_4 (MaxPoolin  (None, 4, 4, 512)         0         \n",
            " g2D)                                                            \n",
            "                                                                 \n",
            " conv2d_transpose (Conv2DTr  (None, 8, 8, 512)         2359808   \n",
            " anspose)                                                        \n",
            "                                                                 \n",
            " conv2d_10 (Conv2D)          (None, 8, 8, 512)         2359808   \n",
            "                                                                 \n",
            " conv2d_transpose_1 (Conv2D  (None, 16, 16, 512)       2359808   \n",
            " Transpose)                                                      \n",
            "                                                                 \n",
            " conv2d_11 (Conv2D)          (None, 16, 16, 512)       2359808   \n",
            "                                                                 \n",
            " conv2d_transpose_2 (Conv2D  (None, 32, 32, 256)       1179904   \n",
            " Transpose)                                                      \n",
            "                                                                 \n",
            " conv2d_12 (Conv2D)          (None, 32, 32, 256)       590080    \n",
            "                                                                 \n",
            " conv2d_transpose_3 (Conv2D  (None, 64, 64, 128)       295040    \n",
            " Transpose)                                                      \n",
            "                                                                 \n",
            " conv2d_13 (Conv2D)          (None, 64, 64, 128)       147584    \n",
            "                                                                 \n",
            " conv2d_transpose_4 (Conv2D  (None, 128, 128, 64)      73792     \n",
            " Transpose)                                                      \n",
            "                                                                 \n",
            " conv2d_14 (Conv2D)          (None, 128, 128, 64)      36928     \n",
            "                                                                 \n",
            " conv2d_15 (Conv2D)          (None, 128, 128, 1)       65        \n",
            "                                                                 \n",
            "=================================================================\n",
            "Total params: 21167617 (80.75 MB)\n",
            "Trainable params: 21167617 (80.75 MB)\n",
            "Non-trainable params: 0 (0.00 Byte)\n",
            "_________________________________________________________________\n",
            "None\n"
          ]
        }
      ],
      "source": [
        "model = build_fcn(input_shape=(128, 128, 3), num_classes=1)\n",
        "print(model.summary())"
      ]
    },
    {
      "cell_type": "markdown",
      "metadata": {
        "id": "v2OYzopXAq4o"
      },
      "source": [
        "## Getting Train-Valid-Test Data"
      ]
    },
    {
      "cell_type": "code",
      "execution_count": null,
      "metadata": {
        "colab": {
          "base_uri": "https://localhost:8080/"
        },
        "id": "qZjyKvfha63x",
        "outputId": "b954bc3d-8aca-4af1-8169-ba7c564c7afa"
      },
      "outputs": [
        {
          "output_type": "stream",
          "name": "stdout",
          "text": [
            "Mounted at /content/drive\n"
          ]
        }
      ],
      "source": [
        "from google.colab import drive\n",
        "\n",
        "drive.mount('/content/drive')"
      ]
    },
    {
      "cell_type": "code",
      "execution_count": null,
      "metadata": {
        "id": "Okh0TMrCOr0l"
      },
      "outputs": [],
      "source": [
        "import numpy as np\n",
        "\n",
        "# TRAIN\n",
        "trainimageNP = np.load(\"/content/drive/My Drive/MANDIBLE/train_img.npy\")\n",
        "trainmaskNP = np.load(\"/content/drive/My Drive/MANDIBLE/train_mask.npy\")\n",
        "\n",
        "# VALID\n",
        "validimageNP = np.load(\"/content/drive/My Drive/MANDIBLE/valid_img.npy\")\n",
        "validmaskNP = np.load(\"/content/drive/My Drive/MANDIBLE/valid_mask.npy\")\n",
        "\n",
        "# TEST\n",
        "testimageNP = np.load(\"/content/drive/My Drive/MANDIBLE/test_img.npy\")\n",
        "testmaskNP = np.load(\"/content/drive/My Drive/MANDIBLE/test_mask.npy\")"
      ]
    },
    {
      "cell_type": "code",
      "execution_count": null,
      "metadata": {
        "colab": {
          "base_uri": "https://localhost:8080/"
        },
        "id": "e1F4uNW4Or0l",
        "outputId": "ae3e3e84-bd56-4963-d38f-5533bb8bf91f"
      },
      "outputs": [
        {
          "output_type": "stream",
          "name": "stdout",
          "text": [
            "(1626, 128, 128, 3)\n",
            "(1626, 128, 128)\n",
            "(465, 128, 128, 3)\n",
            "(465, 128, 128)\n",
            "(233, 128, 128, 3)\n",
            "(233, 128, 128)\n"
          ]
        }
      ],
      "source": [
        "print(trainimageNP.shape)\n",
        "print(trainmaskNP.shape)\n",
        "print(validimageNP.shape)\n",
        "print(validmaskNP.shape)\n",
        "print(testimageNP.shape)\n",
        "print(testmaskNP.shape)"
      ]
    },
    {
      "cell_type": "markdown",
      "metadata": {
        "id": "_Kdr09oOAyTz"
      },
      "source": [
        "## Epoch Training"
      ]
    },
    {
      "cell_type": "code",
      "execution_count": null,
      "metadata": {
        "id": "q640yOtXOr0l"
      },
      "outputs": [],
      "source": [
        "lr = 1e-4\n",
        "batchSize = 32\n",
        "epochs = 25"
      ]
    },
    {
      "cell_type": "code",
      "execution_count": null,
      "metadata": {
        "id": "j2_wjOlNdeE1"
      },
      "outputs": [],
      "source": [
        "drive_path = '/content/drive/My Drive/MANDIBLE/models/fcn.keras'"
      ]
    },
    {
      "cell_type": "code",
      "execution_count": null,
      "metadata": {
        "colab": {
          "base_uri": "https://localhost:8080/"
        },
        "id": "4fsQI-TpOr0l",
        "outputId": "a84e8fb4-ad2a-4104-b56f-6f62a664adf8"
      },
      "outputs": [
        {
          "output_type": "stream",
          "name": "stdout",
          "text": [
            "Epoch 1/25\n",
            "50/50 [==============================] - ETA: 0s - loss: 0.5944 - accuracy: 0.8351\n",
            "Epoch 1: val_loss improved from inf to 0.32693, saving model to /content/drive/My Drive/MANDIBLE/models/fcn.keras\n",
            "50/50 [==============================] - 72s 965ms/step - loss: 0.5944 - accuracy: 0.8351 - val_loss: 0.3269 - val_accuracy: 0.8353 - lr: 1.0000e-04\n",
            "Epoch 2/25\n",
            "50/50 [==============================] - ETA: 0s - loss: 0.2115 - accuracy: 0.8431\n",
            "Epoch 2: val_loss improved from 0.32693 to 0.17391, saving model to /content/drive/My Drive/MANDIBLE/models/fcn.keras\n",
            "50/50 [==============================] - 29s 355ms/step - loss: 0.2115 - accuracy: 0.8431 - val_loss: 0.1739 - val_accuracy: 0.9435 - lr: 1.0000e-04\n",
            "Epoch 3/25\n",
            "50/50 [==============================] - ETA: 0s - loss: 0.1339 - accuracy: 0.9488\n",
            "Epoch 3: val_loss improved from 0.17391 to 0.10802, saving model to /content/drive/My Drive/MANDIBLE/models/fcn.keras\n",
            "50/50 [==============================] - 18s 363ms/step - loss: 0.1339 - accuracy: 0.9488 - val_loss: 0.1080 - val_accuracy: 0.9552 - lr: 1.0000e-04\n",
            "Epoch 4/25\n",
            "50/50 [==============================] - ETA: 0s - loss: 0.1037 - accuracy: 0.9566\n",
            "Epoch 4: val_loss improved from 0.10802 to 0.10259, saving model to /content/drive/My Drive/MANDIBLE/models/fcn.keras\n",
            "50/50 [==============================] - 17s 333ms/step - loss: 0.1037 - accuracy: 0.9566 - val_loss: 0.1026 - val_accuracy: 0.9576 - lr: 1.0000e-04\n",
            "Epoch 5/25\n",
            "50/50 [==============================] - ETA: 0s - loss: 0.0951 - accuracy: 0.9602\n",
            "Epoch 5: val_loss improved from 0.10259 to 0.09051, saving model to /content/drive/My Drive/MANDIBLE/models/fcn.keras\n",
            "50/50 [==============================] - 16s 327ms/step - loss: 0.0951 - accuracy: 0.9602 - val_loss: 0.0905 - val_accuracy: 0.9618 - lr: 1.0000e-04\n",
            "Epoch 6/25\n",
            "50/50 [==============================] - ETA: 0s - loss: 0.0910 - accuracy: 0.9618\n",
            "Epoch 6: val_loss improved from 0.09051 to 0.08708, saving model to /content/drive/My Drive/MANDIBLE/models/fcn.keras\n",
            "50/50 [==============================] - 17s 334ms/step - loss: 0.0910 - accuracy: 0.9618 - val_loss: 0.0871 - val_accuracy: 0.9631 - lr: 1.0000e-04\n",
            "Epoch 7/25\n",
            "50/50 [==============================] - ETA: 0s - loss: 0.0881 - accuracy: 0.9631\n",
            "Epoch 7: val_loss improved from 0.08708 to 0.08425, saving model to /content/drive/My Drive/MANDIBLE/models/fcn.keras\n",
            "50/50 [==============================] - 18s 358ms/step - loss: 0.0881 - accuracy: 0.9631 - val_loss: 0.0843 - val_accuracy: 0.9646 - lr: 1.0000e-04\n",
            "Epoch 8/25\n",
            "50/50 [==============================] - ETA: 0s - loss: 0.0834 - accuracy: 0.9649\n",
            "Epoch 8: val_loss improved from 0.08425 to 0.08143, saving model to /content/drive/My Drive/MANDIBLE/models/fcn.keras\n",
            "50/50 [==============================] - 17s 331ms/step - loss: 0.0834 - accuracy: 0.9649 - val_loss: 0.0814 - val_accuracy: 0.9656 - lr: 1.0000e-04\n",
            "Epoch 9/25\n",
            "50/50 [==============================] - ETA: 0s - loss: 0.0821 - accuracy: 0.9654\n",
            "Epoch 9: val_loss improved from 0.08143 to 0.08113, saving model to /content/drive/My Drive/MANDIBLE/models/fcn.keras\n",
            "50/50 [==============================] - 18s 363ms/step - loss: 0.0821 - accuracy: 0.9654 - val_loss: 0.0811 - val_accuracy: 0.9653 - lr: 1.0000e-04\n",
            "Epoch 10/25\n",
            "50/50 [==============================] - ETA: 0s - loss: 0.0790 - accuracy: 0.9665\n",
            "Epoch 10: val_loss improved from 0.08113 to 0.07542, saving model to /content/drive/My Drive/MANDIBLE/models/fcn.keras\n",
            "50/50 [==============================] - 18s 358ms/step - loss: 0.0790 - accuracy: 0.9665 - val_loss: 0.0754 - val_accuracy: 0.9677 - lr: 1.0000e-04\n",
            "Epoch 11/25\n",
            "50/50 [==============================] - ETA: 0s - loss: 0.0735 - accuracy: 0.9688\n",
            "Epoch 11: val_loss improved from 0.07542 to 0.07283, saving model to /content/drive/My Drive/MANDIBLE/models/fcn.keras\n",
            "50/50 [==============================] - 17s 332ms/step - loss: 0.0735 - accuracy: 0.9688 - val_loss: 0.0728 - val_accuracy: 0.9690 - lr: 1.0000e-04\n",
            "Epoch 12/25\n",
            "50/50 [==============================] - ETA: 0s - loss: 0.0697 - accuracy: 0.9703\n",
            "Epoch 12: val_loss improved from 0.07283 to 0.06975, saving model to /content/drive/My Drive/MANDIBLE/models/fcn.keras\n",
            "50/50 [==============================] - 17s 333ms/step - loss: 0.0697 - accuracy: 0.9703 - val_loss: 0.0698 - val_accuracy: 0.9703 - lr: 1.0000e-04\n",
            "Epoch 13/25\n",
            "50/50 [==============================] - ETA: 0s - loss: 0.0674 - accuracy: 0.9712\n",
            "Epoch 13: val_loss improved from 0.06975 to 0.06699, saving model to /content/drive/My Drive/MANDIBLE/models/fcn.keras\n",
            "50/50 [==============================] - 18s 360ms/step - loss: 0.0674 - accuracy: 0.9712 - val_loss: 0.0670 - val_accuracy: 0.9716 - lr: 1.0000e-04\n",
            "Epoch 14/25\n",
            "50/50 [==============================] - ETA: 0s - loss: 0.0626 - accuracy: 0.9731\n",
            "Epoch 14: val_loss improved from 0.06699 to 0.06087, saving model to /content/drive/My Drive/MANDIBLE/models/fcn.keras\n",
            "50/50 [==============================] - 18s 356ms/step - loss: 0.0626 - accuracy: 0.9731 - val_loss: 0.0609 - val_accuracy: 0.9739 - lr: 1.0000e-04\n",
            "Epoch 15/25\n",
            "50/50 [==============================] - ETA: 0s - loss: 0.0610 - accuracy: 0.9738\n",
            "Epoch 15: val_loss did not improve from 0.06087\n",
            "50/50 [==============================] - 17s 330ms/step - loss: 0.0610 - accuracy: 0.9738 - val_loss: 0.0619 - val_accuracy: 0.9733 - lr: 1.0000e-04\n",
            "Epoch 16/25\n",
            "50/50 [==============================] - ETA: 0s - loss: 0.0583 - accuracy: 0.9749\n",
            "Epoch 16: val_loss improved from 0.06087 to 0.05639, saving model to /content/drive/My Drive/MANDIBLE/models/fcn.keras\n",
            "50/50 [==============================] - 18s 357ms/step - loss: 0.0583 - accuracy: 0.9749 - val_loss: 0.0564 - val_accuracy: 0.9758 - lr: 1.0000e-04\n",
            "Epoch 17/25\n",
            "50/50 [==============================] - ETA: 0s - loss: 0.0560 - accuracy: 0.9758\n",
            "Epoch 17: val_loss did not improve from 0.05639\n",
            "50/50 [==============================] - 15s 305ms/step - loss: 0.0560 - accuracy: 0.9758 - val_loss: 0.0568 - val_accuracy: 0.9759 - lr: 1.0000e-04\n",
            "Epoch 18/25\n",
            "50/50 [==============================] - ETA: 0s - loss: 0.0545 - accuracy: 0.9766\n",
            "Epoch 18: val_loss improved from 0.05639 to 0.05254, saving model to /content/drive/My Drive/MANDIBLE/models/fcn.keras\n",
            "50/50 [==============================] - 16s 331ms/step - loss: 0.0545 - accuracy: 0.9766 - val_loss: 0.0525 - val_accuracy: 0.9774 - lr: 1.0000e-04\n",
            "Epoch 19/25\n",
            "50/50 [==============================] - ETA: 0s - loss: 0.0503 - accuracy: 0.9783\n",
            "Epoch 19: val_loss improved from 0.05254 to 0.04985, saving model to /content/drive/My Drive/MANDIBLE/models/fcn.keras\n",
            "50/50 [==============================] - 18s 364ms/step - loss: 0.0503 - accuracy: 0.9783 - val_loss: 0.0499 - val_accuracy: 0.9787 - lr: 1.0000e-04\n",
            "Epoch 20/25\n",
            "50/50 [==============================] - ETA: 0s - loss: 0.0492 - accuracy: 0.9788\n",
            "Epoch 20: val_loss did not improve from 0.04985\n",
            "50/50 [==============================] - 15s 306ms/step - loss: 0.0492 - accuracy: 0.9788 - val_loss: 0.0505 - val_accuracy: 0.9784 - lr: 1.0000e-04\n",
            "Epoch 21/25\n",
            "50/50 [==============================] - ETA: 0s - loss: 0.0470 - accuracy: 0.9798\n",
            "Epoch 21: val_loss improved from 0.04985 to 0.04720, saving model to /content/drive/My Drive/MANDIBLE/models/fcn.keras\n",
            "50/50 [==============================] - 18s 357ms/step - loss: 0.0470 - accuracy: 0.9798 - val_loss: 0.0472 - val_accuracy: 0.9800 - lr: 1.0000e-04\n",
            "Epoch 22/25\n",
            "50/50 [==============================] - ETA: 0s - loss: 0.0447 - accuracy: 0.9808\n",
            "Epoch 22: val_loss improved from 0.04720 to 0.04651, saving model to /content/drive/My Drive/MANDIBLE/models/fcn.keras\n",
            "50/50 [==============================] - 17s 335ms/step - loss: 0.0447 - accuracy: 0.9808 - val_loss: 0.0465 - val_accuracy: 0.9801 - lr: 1.0000e-04\n",
            "Epoch 23/25\n",
            "50/50 [==============================] - ETA: 0s - loss: 0.0427 - accuracy: 0.9817\n",
            "Epoch 23: val_loss improved from 0.04651 to 0.04467, saving model to /content/drive/My Drive/MANDIBLE/models/fcn.keras\n",
            "50/50 [==============================] - 16s 330ms/step - loss: 0.0427 - accuracy: 0.9817 - val_loss: 0.0447 - val_accuracy: 0.9813 - lr: 1.0000e-04\n",
            "Epoch 24/25\n",
            "50/50 [==============================] - ETA: 0s - loss: 0.0418 - accuracy: 0.9821\n",
            "Epoch 24: val_loss improved from 0.04467 to 0.04165, saving model to /content/drive/My Drive/MANDIBLE/models/fcn.keras\n",
            "50/50 [==============================] - 16s 330ms/step - loss: 0.0418 - accuracy: 0.9821 - val_loss: 0.0416 - val_accuracy: 0.9825 - lr: 1.0000e-04\n",
            "Epoch 25/25\n",
            "50/50 [==============================] - ETA: 0s - loss: 0.0395 - accuracy: 0.9831\n",
            "Epoch 25: val_loss improved from 0.04165 to 0.04082, saving model to /content/drive/My Drive/MANDIBLE/models/fcn.keras\n",
            "50/50 [==============================] - 18s 356ms/step - loss: 0.0395 - accuracy: 0.9831 - val_loss: 0.0408 - val_accuracy: 0.9829 - lr: 1.0000e-04\n",
            "Training time: 494.18 seconds\n"
          ]
        }
      ],
      "source": [
        "import time\n",
        "from keras.callbacks import ModelCheckpoint, ReduceLROnPlateau, EarlyStopping\n",
        "\n",
        "# Compile the model\n",
        "opt = tf.keras.optimizers.Adam(lr)\n",
        "model.compile(loss=\"binary_crossentropy\", optimizer=opt, metrics=[\"accuracy\"])\n",
        "\n",
        "# Calculate steps per epoch and validation steps\n",
        "stepsPerEpoch = len(trainimageNP) // batchSize\n",
        "validationSteps = len(validimageNP) // batchSize\n",
        "\n",
        "# Define callbacks\n",
        "callbacks = [\n",
        "    ModelCheckpoint(drive_path, verbose=1, save_best_only=True),\n",
        "    ReduceLROnPlateau(monitor=\"val_loss\", patience=5, factor=0.1, verbose=1, min_lr=1e-7),\n",
        "    EarlyStopping(monitor=\"val_loss\", patience=5, verbose=1, mode=\"min\")\n",
        "]\n",
        "\n",
        "# Record the start time\n",
        "start_time = time.time()\n",
        "\n",
        "# Train the model\n",
        "history = model.fit(trainimageNP, trainmaskNP,\n",
        "                    batch_size=batchSize,\n",
        "                    epochs=epochs,\n",
        "                    verbose=1,\n",
        "                    validation_data=(validimageNP, validmaskNP),\n",
        "                    validation_steps=validationSteps,\n",
        "                    steps_per_epoch=stepsPerEpoch,\n",
        "                    shuffle=True,\n",
        "                    callbacks=callbacks\n",
        "                    )\n",
        "\n",
        "# Record the end time\n",
        "end_time = time.time()\n",
        "\n",
        "# Calculate the training duration\n",
        "training_time = end_time - start_time\n",
        "\n",
        "print(f\"Training time: {training_time:.2f} seconds\")"
      ]
    },
    {
      "cell_type": "markdown",
      "metadata": {
        "id": "BUE0RwJJAsYp"
      },
      "source": [
        "## Performance Visualization"
      ]
    },
    {
      "cell_type": "code",
      "execution_count": null,
      "metadata": {
        "colab": {
          "base_uri": "https://localhost:8080/",
          "height": 428
        },
        "id": "-28VThoAcRVh",
        "outputId": "fec9c6db-2285-4f80-ecb2-963649c851af"
      },
      "outputs": [
        {
          "output_type": "display_data",
          "data": {
            "text/plain": [
              "<Figure size 1200x400 with 2 Axes>"
            ],
            "image/png": "[encoded data removed]"
          },
          "metadata": {}
        }
      ],
      "source": [
        "import matplotlib.pyplot as plt\n",
        "\n",
        "# Plot training & validation accuracy values\n",
        "plt.figure(figsize=(12, 4))\n",
        "\n",
        "# Determine the number of epochs\n",
        "epochs = len(history.history['accuracy'])\n",
        "interval = 5\n",
        "\n",
        "plt.subplot(1, 2, 1)\n",
        "plt.plot(range(1, epochs + 1), history.history['accuracy'])\n",
        "plt.plot(range(1, epochs + 1), history.history['val_accuracy'])\n",
        "plt.title('Model accuracy')\n",
        "plt.ylabel('Accuracy')\n",
        "plt.xlabel('Epoch')\n",
        "plt.legend(['Train', 'Validation'], loc='upper left')\n",
        "plt.xticks(range(1, epochs + 1, interval))  # Set x-ticks with interval\n",
        "\n",
        "plt.subplot(1, 2, 2)\n",
        "plt.plot(range(1, epochs + 1), history.history['loss'])\n",
        "plt.plot(range(1, epochs + 1), history.history['val_loss'])\n",
        "plt.title('Model loss')\n",
        "plt.ylabel('Loss')\n",
        "plt.xlabel('Epoch')\n",
        "plt.legend(['Train', 'Validation'], loc='upper left')\n",
        "plt.xticks(range(1, epochs + 1, interval))  # Set x-ticks with interval\n",
        "\n",
        "# Add an overall title\n",
        "plt.suptitle('FCN Model Performance', fontsize=16)\n",
        "\n",
        "plt.show()"
      ]
    },
    {
      "cell_type": "markdown",
      "metadata": {
        "id": "2xlzUOxoAu9I"
      },
      "source": [
        "## Evaluating on Test Set"
      ]
    },
    {
      "cell_type": "code",
      "execution_count": null,
      "metadata": {
        "colab": {
          "base_uri": "https://localhost:8080/"
        },
        "id": "8NFTRfWABArn",
        "outputId": "34e0f243-64a5-4e8d-e2c1-19b5f3ebe9fa"
      },
      "outputs": [
        {
          "output_type": "stream",
          "name": "stdout",
          "text": [
            "8/8 [==============================] - 4s 510ms/step - loss: 0.0437 - accuracy: 0.9820\n",
            "Test Loss: 0.04374276101589203\n",
            "Test Accuracy: 0.9819663166999817\n"
          ]
        }
      ],
      "source": [
        "from tensorflow.keras.models import load_model\n",
        "\n",
        "best_model = load_model(drive_path)\n",
        "\n",
        "test_loss, test_accuracy = best_model.evaluate(testimageNP, testmaskNP, verbose=1)\n",
        "\n",
        "print(f'Test Loss: {test_loss}')\n",
        "print(f'Test Accuracy: {test_accuracy}')"
      ]
    }
  ],
  "metadata": {
    "accelerator": "GPU",
    "colab": {
      "gpuType": "T4",
      "provenance": []
    },
    "kernelspec": {
      "display_name": "Python 3",
      "name": "python3"
    },
    "language_info": {
      "codemirror_mode": {
        "name": "ipython",
        "version": 3
      },
      "file_extension": ".py",
      "mimetype": "text/x-python",
      "name": "python",
      "nbconvert_exporter": "python",
      "pygments_lexer": "ipython3",
      "version": "3.12.2"
    }
  },
  "nbformat": 4,
  "nbformat_minor": 0
}