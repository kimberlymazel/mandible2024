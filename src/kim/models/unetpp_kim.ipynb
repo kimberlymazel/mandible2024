{
  "cells": [
    {
      "cell_type": "markdown",
      "metadata": {
        "id": "9c8c0yyVAhKf"
      },
      "source": [
        "# U-Net CNN Model"
      ]
    },
    {
      "cell_type": "markdown",
      "metadata": {
        "id": "e4ASHa7tAmQ1"
      },
      "source": [
        "## Model Building"
      ]
    },
    {
      "cell_type": "code",
      "execution_count": null,
      "metadata": {
        "id": "f6f293MBOr0j"
      },
      "outputs": [],
      "source": [
        "import tensorflow as tf"
      ]
    },
    {
      "cell_type": "code",
      "execution_count": null,
      "metadata": {
        "id": "aRdZpuQ-Or0k"
      },
      "outputs": [],
      "source": [
        "# Defining the Convolutional Block\n",
        "def conv_block(inputs, num_filters):\n",
        "    # Applying the sequence of Convolutional, Batch Normalization\n",
        "    # and Activation Layers to the input tensor\n",
        "    x = tf.keras.Sequential([\n",
        "        # Convolutional Layer\n",
        "        tf.keras.layers.Conv2D(num_filters, 3, padding='same'),\n",
        "        # Batch Normalization Layer\n",
        "        tf.keras.layers.BatchNormalization(),\n",
        "        # Activation Layer\n",
        "        tf.keras.layers.Activation('relu'),\n",
        "        # Convolutional Layer\n",
        "        tf.keras.layers.Conv2D(num_filters, 3, padding='same'),\n",
        "        # Batch Normalization Layer\n",
        "        tf.keras.layers.BatchNormalization(),\n",
        "        # Activation Layer\n",
        "        tf.keras.layers.Activation('relu')\n",
        "    ])(inputs)\n",
        "\n",
        "    # Returning the output of the Convolutional Block\n",
        "    return x"
      ]
    },
    {
      "cell_type": "code",
      "execution_count": null,
      "metadata": {
        "id": "Q_Db_OUPOr0k"
      },
      "outputs": [],
      "source": [
        "# Defining the Unet++ Model\n",
        "def unet_pp(input_shape=(256, 256, 3), num_classes=1, deep_supervision=True):\n",
        "    inputs = tf.keras.layers.Input(shape=input_shape)\n",
        "\n",
        "    # Encoding Path\n",
        "    x_00 = conv_block(inputs, 64)\n",
        "    x_10 = conv_block(tf.keras.layers.MaxPooling2D()(x_00), 128)\n",
        "    x_20 = conv_block(tf.keras.layers.MaxPooling2D()(x_10), 256)\n",
        "    x_30 = conv_block(tf.keras.layers.MaxPooling2D()(x_20), 512)\n",
        "    x_40 = conv_block(tf.keras.layers.MaxPooling2D()(x_30), 1024)\n",
        "\n",
        "    # Nested Decoding Path\n",
        "    x_01 = conv_block(tf.keras.layers.concatenate(\n",
        "        [x_00, tf.keras.layers.UpSampling2D()(x_10)]), 64)\n",
        "    x_11 = conv_block(tf.keras.layers.concatenate(\n",
        "        [x_10, tf.keras.layers.UpSampling2D()(x_20)]), 128)\n",
        "    x_21 = conv_block(tf.keras.layers.concatenate(\n",
        "        [x_20, tf.keras.layers.UpSampling2D()(x_30)]), 256)\n",
        "    x_31 = conv_block(tf.keras.layers.concatenate(\n",
        "        [x_30, tf.keras.layers.UpSampling2D()(x_40)]), 512)\n",
        "\n",
        "    x_02 = conv_block(tf.keras.layers.concatenate(\n",
        "        [x_00, x_01, tf.keras.layers.UpSampling2D()(x_11)]), 64)\n",
        "    x_12 = conv_block(tf.keras.layers.concatenate(\n",
        "        [x_10, x_11, tf.keras.layers.UpSampling2D()(x_21)]), 128)\n",
        "    x_22 = conv_block(tf.keras.layers.concatenate(\n",
        "        [x_20, x_21, tf.keras.layers.UpSampling2D()(x_31)]), 256)\n",
        "\n",
        "    x_03 = conv_block(tf.keras.layers.concatenate(\n",
        "        [x_00, x_01, x_02, tf.keras.layers.UpSampling2D()(x_12)]), 64)\n",
        "    x_13 = conv_block(tf.keras.layers.concatenate(\n",
        "        [x_10, x_11, x_12, tf.keras.layers.UpSampling2D()(x_22)]), 128)\n",
        "\n",
        "    x_04 = conv_block(tf.keras.layers.concatenate(\n",
        "        [x_00, x_01, x_02, x_03, tf.keras.layers.UpSampling2D()(x_13)]), 64)\n",
        "\n",
        "    # Deep Supervision Path\n",
        "    # If deep supervision is enabled, then the model will output the segmentation maps\n",
        "    # at each stage of the decoding path\n",
        "    if deep_supervision:\n",
        "        outputs = [\n",
        "            tf.keras.layers.Conv2D(num_classes, 1, activation='sigmoid')(x_01),\n",
        "            tf.keras.layers.Conv2D(num_classes, 1, activation='sigmoid')(x_02),\n",
        "            tf.keras.layers.Conv2D(num_classes, 1, activation='sigmoid')(x_03),\n",
        "            tf.keras.layers.Conv2D(num_classes, 1, activation='sigmoid')(x_04)\n",
        "        ]\n",
        "    else:\n",
        "        outputs = tf.keras.layers.Conv2D(num_classes, 1, activation='sigmoid')(x_04)\n",
        "\n",
        "    model = tf.keras.Model(inputs=inputs, outputs=outputs)\n",
        "    return model"
      ]
    },
    {
      "cell_type": "code",
      "execution_count": null,
      "metadata": {
        "colab": {
          "base_uri": "https://localhost:8080/"
        },
        "id": "BzGhyCMhOr0k",
        "outputId": "c60b6a6f-d1c9-40d8-e753-d00073f21fa6"
      },
      "outputs": [
        {
          "name": "stdout",
          "output_type": "stream",
          "text": [
            "Model: \"model_1\"\n",
            "__________________________________________________________________________________________________\n",
            " Layer (type)                Output Shape                 Param #   Connected to                  \n",
            "==================================================================================================\n",
            " input_4 (InputLayer)        [(None, 128, 128, 3)]        0         []                            \n",
            "                                                                                                  \n",
            " sequential_45 (Sequential)  (None, 128, 128, 64)         39232     ['input_4[0][0]']             \n",
            "                                                                                                  \n",
            " max_pooling2d_12 (MaxPooli  (None, 64, 64, 64)           0         ['sequential_45[0][0]']       \n",
            " ng2D)                                                                                            \n",
            "                                                                                                  \n",
            " sequential_46 (Sequential)  (None, 64, 64, 128)          222464    ['max_pooling2d_12[0][0]']    \n",
            "                                                                                                  \n",
            " max_pooling2d_13 (MaxPooli  (None, 32, 32, 128)          0         ['sequential_46[0][0]']       \n",
            " ng2D)                                                                                            \n",
            "                                                                                                  \n",
            " sequential_47 (Sequential)  (None, 32, 32, 256)          887296    ['max_pooling2d_13[0][0]']    \n",
            "                                                                                                  \n",
            " max_pooling2d_14 (MaxPooli  (None, 16, 16, 256)          0         ['sequential_47[0][0]']       \n",
            " ng2D)                                                                                            \n",
            "                                                                                                  \n",
            " sequential_48 (Sequential)  (None, 16, 16, 512)          3544064   ['max_pooling2d_14[0][0]']    \n",
            "                                                                                                  \n",
            " max_pooling2d_15 (MaxPooli  (None, 8, 8, 512)            0         ['sequential_48[0][0]']       \n",
            " ng2D)                                                                                            \n",
            "                                                                                                  \n",
            " sequential_49 (Sequential)  (None, 8, 8, 1024)           1416601   ['max_pooling2d_15[0][0]']    \n",
            "                                                          6                                       \n",
            "                                                                                                  \n",
            " up_sampling2d_33 (UpSampli  (None, 16, 16, 1024)         0         ['sequential_49[0][0]']       \n",
            " ng2D)                                                                                            \n",
            "                                                                                                  \n",
            " up_sampling2d_32 (UpSampli  (None, 32, 32, 512)          0         ['sequential_48[0][0]']       \n",
            " ng2D)                                                                                            \n",
            "                                                                                                  \n",
            " concatenate_35 (Concatenat  (None, 16, 16, 1536)         0         ['sequential_48[0][0]',       \n",
            " e)                                                                  'up_sampling2d_33[0][0]']    \n",
            "                                                                                                  \n",
            " up_sampling2d_31 (UpSampli  (None, 64, 64, 256)          0         ['sequential_47[0][0]']       \n",
            " ng2D)                                                                                            \n",
            "                                                                                                  \n",
            " concatenate_34 (Concatenat  (None, 32, 32, 768)          0         ['sequential_47[0][0]',       \n",
            " e)                                                                  'up_sampling2d_32[0][0]']    \n",
            "                                                                                                  \n",
            " sequential_53 (Sequential)  (None, 16, 16, 512)          9442304   ['concatenate_35[0][0]']      \n",
            "                                                                                                  \n",
            " up_sampling2d_30 (UpSampli  (None, 128, 128, 128)        0         ['sequential_46[0][0]']       \n",
            " ng2D)                                                                                            \n",
            "                                                                                                  \n",
            " concatenate_33 (Concatenat  (None, 64, 64, 384)          0         ['sequential_46[0][0]',       \n",
            " e)                                                                  'up_sampling2d_31[0][0]']    \n",
            "                                                                                                  \n",
            " sequential_52 (Sequential)  (None, 32, 32, 256)          2361856   ['concatenate_34[0][0]']      \n",
            "                                                                                                  \n",
            " up_sampling2d_36 (UpSampli  (None, 32, 32, 512)          0         ['sequential_53[0][0]']       \n",
            " ng2D)                                                                                            \n",
            "                                                                                                  \n",
            " concatenate_32 (Concatenat  (None, 128, 128, 192)        0         ['sequential_45[0][0]',       \n",
            " e)                                                                  'up_sampling2d_30[0][0]']    \n",
            "                                                                                                  \n",
            " sequential_51 (Sequential)  (None, 64, 64, 128)          591104    ['concatenate_33[0][0]']      \n",
            "                                                                                                  \n",
            " up_sampling2d_35 (UpSampli  (None, 64, 64, 256)          0         ['sequential_52[0][0]']       \n",
            " ng2D)                                                                                            \n",
            "                                                                                                  \n",
            " concatenate_38 (Concatenat  (None, 32, 32, 1024)         0         ['sequential_47[0][0]',       \n",
            " e)                                                                  'sequential_52[0][0]',       \n",
            "                                                                     'up_sampling2d_36[0][0]']    \n",
            "                                                                                                  \n",
            " sequential_50 (Sequential)  (None, 128, 128, 64)         148096    ['concatenate_32[0][0]']      \n",
            "                                                                                                  \n",
            " up_sampling2d_34 (UpSampli  (None, 128, 128, 128)        0         ['sequential_51[0][0]']       \n",
            " ng2D)                                                                                            \n",
            "                                                                                                  \n",
            " concatenate_37 (Concatenat  (None, 64, 64, 512)          0         ['sequential_46[0][0]',       \n",
            " e)                                                                  'sequential_51[0][0]',       \n",
            "                                                                     'up_sampling2d_35[0][0]']    \n",
            "                                                                                                  \n",
            " sequential_56 (Sequential)  (None, 32, 32, 256)          2951680   ['concatenate_38[0][0]']      \n",
            "                                                                                                  \n",
            " concatenate_36 (Concatenat  (None, 128, 128, 256)        0         ['sequential_45[0][0]',       \n",
            " e)                                                                  'sequential_50[0][0]',       \n",
            "                                                                     'up_sampling2d_34[0][0]']    \n",
            "                                                                                                  \n",
            " sequential_55 (Sequential)  (None, 64, 64, 128)          738560    ['concatenate_37[0][0]']      \n",
            "                                                                                                  \n",
            " up_sampling2d_38 (UpSampli  (None, 64, 64, 256)          0         ['sequential_56[0][0]']       \n",
            " ng2D)                                                                                            \n",
            "                                                                                                  \n",
            " sequential_54 (Sequential)  (None, 128, 128, 64)         184960    ['concatenate_36[0][0]']      \n",
            "                                                                                                  \n",
            " up_sampling2d_37 (UpSampli  (None, 128, 128, 128)        0         ['sequential_55[0][0]']       \n",
            " ng2D)                                                                                            \n",
            "                                                                                                  \n",
            " concatenate_40 (Concatenat  (None, 64, 64, 640)          0         ['sequential_46[0][0]',       \n",
            " e)                                                                  'sequential_51[0][0]',       \n",
            "                                                                     'sequential_55[0][0]',       \n",
            "                                                                     'up_sampling2d_38[0][0]']    \n",
            "                                                                                                  \n",
            " concatenate_39 (Concatenat  (None, 128, 128, 320)        0         ['sequential_45[0][0]',       \n",
            " e)                                                                  'sequential_50[0][0]',       \n",
            "                                                                     'sequential_54[0][0]',       \n",
            "                                                                     'up_sampling2d_37[0][0]']    \n",
            "                                                                                                  \n",
            " sequential_58 (Sequential)  (None, 64, 64, 128)          886016    ['concatenate_40[0][0]']      \n",
            "                                                                                                  \n",
            " sequential_57 (Sequential)  (None, 128, 128, 64)         221824    ['concatenate_39[0][0]']      \n",
            "                                                                                                  \n",
            " up_sampling2d_39 (UpSampli  (None, 128, 128, 128)        0         ['sequential_58[0][0]']       \n",
            " ng2D)                                                                                            \n",
            "                                                                                                  \n",
            " concatenate_41 (Concatenat  (None, 128, 128, 384)        0         ['sequential_45[0][0]',       \n",
            " e)                                                                  'sequential_50[0][0]',       \n",
            "                                                                     'sequential_54[0][0]',       \n",
            "                                                                     'sequential_57[0][0]',       \n",
            "                                                                     'up_sampling2d_39[0][0]']    \n",
            "                                                                                                  \n",
            " sequential_59 (Sequential)  (None, 128, 128, 64)         258688    ['concatenate_41[0][0]']      \n",
            "                                                                                                  \n",
            " conv2d_132 (Conv2D)         (None, 128, 128, 1)          65        ['sequential_59[0][0]']       \n",
            "                                                                                                  \n",
            "==================================================================================================\n",
            "Total params: 36644225 (139.79 MB)\n",
            "Trainable params: 36629633 (139.73 MB)\n",
            "Non-trainable params: 14592 (57.00 KB)\n",
            "__________________________________________________________________________________________________\n",
            "None\n"
          ]
        }
      ],
      "source": [
        "input_shape = (128, 128, 3)\n",
        "model = unet_pp(input_shape, num_classes=1, deep_supervision=False)\n",
        "print(model.summary())"
      ]
    },
    {
      "cell_type": "markdown",
      "metadata": {
        "id": "v2OYzopXAq4o"
      },
      "source": [
        "## Getting Train-Valid-Test Data"
      ]
    },
    {
      "cell_type": "code",
      "execution_count": null,
      "metadata": {
        "colab": {
          "base_uri": "https://localhost:8080/"
        },
        "id": "qZjyKvfha63x",
        "outputId": "669b7574-0e57-41cd-ffb2-bf1f44f67931"
      },
      "outputs": [
        {
          "name": "stdout",
          "output_type": "stream",
          "text": [
            "Drive already mounted at /content/drive; to attempt to forcibly remount, call drive.mount(\"/content/drive\", force_remount=True).\n"
          ]
        }
      ],
      "source": [
        "from google.colab import drive\n",
        "\n",
        "drive.mount('/content/drive')"
      ]
    },
    {
      "cell_type": "code",
      "execution_count": null,
      "metadata": {
        "id": "Okh0TMrCOr0l"
      },
      "outputs": [],
      "source": [
        "import numpy as np\n",
        "\n",
        "# TRAIN\n",
        "trainimageNP = np.load(\"/content/drive/My Drive/MANDIBLE/train_img.npy\")\n",
        "trainmaskNP = np.load(\"/content/drive/My Drive/MANDIBLE/train_mask.npy\")\n",
        "\n",
        "# VALID\n",
        "validimageNP = np.load(\"/content/drive/My Drive/MANDIBLE/valid_img.npy\")\n",
        "validmaskNP = np.load(\"/content/drive/My Drive/MANDIBLE/valid_mask.npy\")\n",
        "\n",
        "# TEST\n",
        "testimageNP = np.load(\"/content/drive/My Drive/MANDIBLE/test_img.npy\")\n",
        "testmaskNP = np.load(\"/content/drive/My Drive/MANDIBLE/test_mask.npy\")"
      ]
    },
    {
      "cell_type": "code",
      "execution_count": null,
      "metadata": {
        "colab": {
          "base_uri": "https://localhost:8080/"
        },
        "id": "e1F4uNW4Or0l",
        "outputId": "ab4f182a-5912-442e-aab3-29c4b9d3bac2"
      },
      "outputs": [
        {
          "name": "stdout",
          "output_type": "stream",
          "text": [
            "(1626, 128, 128, 3)\n",
            "(1626, 128, 128, 1)\n",
            "(465, 128, 128, 3)\n",
            "(465, 128, 128, 1)\n",
            "(233, 128, 128, 3)\n",
            "(233, 128, 128, 1)\n"
          ]
        }
      ],
      "source": [
        "trainmaskNP = trainmaskNP.reshape((-1, 128, 128, 1))\n",
        "validmaskNP = validmaskNP.reshape((-1, 128, 128, 1))\n",
        "testmaskNP = testmaskNP.reshape((-1, 128, 128, 1))\n",
        "\n",
        "print(trainimageNP.shape)\n",
        "print(trainmaskNP.shape)\n",
        "print(validimageNP.shape)\n",
        "print(validmaskNP.shape)\n",
        "print(testimageNP.shape)\n",
        "print(testmaskNP.shape)"
      ]
    },
    {
      "cell_type": "markdown",
      "metadata": {
        "id": "_Kdr09oOAyTz"
      },
      "source": [
        "## Epoch Training"
      ]
    },
    {
      "cell_type": "code",
      "execution_count": null,
      "metadata": {
        "id": "q640yOtXOr0l"
      },
      "outputs": [],
      "source": [
        "lr = 1e-4\n",
        "batchSize = 32\n",
        "epochs = 25"
      ]
    },
    {
      "cell_type": "code",
      "execution_count": null,
      "metadata": {
        "id": "j2_wjOlNdeE1"
      },
      "outputs": [],
      "source": [
        "drive_path = '/content/drive/My Drive/MANDIBLE/models/unetpp.keras'"
      ]
    },
    {
      "cell_type": "code",
      "execution_count": null,
      "metadata": {
        "colab": {
          "base_uri": "https://localhost:8080/"
        },
        "id": "4fsQI-TpOr0l",
        "outputId": "b7ea1bfb-de6e-4842-ebba-725d79be1c52"
      },
      "outputs": [
        {
          "name": "stdout",
          "output_type": "stream",
          "text": [
            "Epoch 1/25\n",
            "50/50 [==============================] - ETA: 0s - loss: 0.1953 - accuracy: 0.9483\n",
            "Epoch 1: val_loss improved from inf to 0.49575, saving model to /content/drive/My Drive/MANDIBLE/models/unetpp.keras\n",
            "50/50 [==============================] - 84s 1s/step - loss: 0.1953 - accuracy: 0.9483 - val_loss: 0.4957 - val_accuracy: 0.8353 - lr: 1.0000e-04\n",
            "Epoch 2/25\n",
            "50/50 [==============================] - ETA: 0s - loss: 0.0973 - accuracy: 0.9796\n",
            "Epoch 2: val_loss improved from 0.49575 to 0.44190, saving model to /content/drive/My Drive/MANDIBLE/models/unetpp.keras\n",
            "50/50 [==============================] - 68s 1s/step - loss: 0.0973 - accuracy: 0.9796 - val_loss: 0.4419 - val_accuracy: 0.8353 - lr: 1.0000e-04\n",
            "Epoch 3/25\n",
            "50/50 [==============================] - ETA: 0s - loss: 0.0776 - accuracy: 0.9854\n",
            "Epoch 3: val_loss improved from 0.44190 to 0.43434, saving model to /content/drive/My Drive/MANDIBLE/models/unetpp.keras\n",
            "50/50 [==============================] - 67s 1s/step - loss: 0.0776 - accuracy: 0.9854 - val_loss: 0.4343 - val_accuracy: 0.8219 - lr: 1.0000e-04\n",
            "Epoch 4/25\n",
            "50/50 [==============================] - ETA: 0s - loss: 0.0651 - accuracy: 0.9890\n",
            "Epoch 4: val_loss did not improve from 0.43434\n",
            "50/50 [==============================] - 64s 1s/step - loss: 0.0651 - accuracy: 0.9890 - val_loss: 0.4630 - val_accuracy: 0.8338 - lr: 1.0000e-04\n",
            "Epoch 5/25\n",
            "50/50 [==============================] - ETA: 0s - loss: 0.0567 - accuracy: 0.9912\n",
            "Epoch 5: val_loss improved from 0.43434 to 0.41871, saving model to /content/drive/My Drive/MANDIBLE/models/unetpp.keras\n",
            "50/50 [==============================] - 67s 1s/step - loss: 0.0567 - accuracy: 0.9912 - val_loss: 0.4187 - val_accuracy: 0.8509 - lr: 1.0000e-04\n",
            "Epoch 6/25\n",
            "50/50 [==============================] - ETA: 0s - loss: 0.0500 - accuracy: 0.9928\n",
            "Epoch 6: val_loss improved from 0.41871 to 0.39913, saving model to /content/drive/My Drive/MANDIBLE/models/unetpp.keras\n",
            "50/50 [==============================] - 67s 1s/step - loss: 0.0500 - accuracy: 0.9928 - val_loss: 0.3991 - val_accuracy: 0.8694 - lr: 1.0000e-04\n",
            "Epoch 7/25\n",
            "50/50 [==============================] - ETA: 0s - loss: 0.0451 - accuracy: 0.9937\n",
            "Epoch 7: val_loss improved from 0.39913 to 0.26934, saving model to /content/drive/My Drive/MANDIBLE/models/unetpp.keras\n",
            "50/50 [==============================] - 67s 1s/step - loss: 0.0451 - accuracy: 0.9937 - val_loss: 0.2693 - val_accuracy: 0.9156 - lr: 1.0000e-04\n",
            "Epoch 8/25\n",
            "50/50 [==============================] - ETA: 0s - loss: 0.0408 - accuracy: 0.9945\n",
            "Epoch 8: val_loss improved from 0.26934 to 0.17799, saving model to /content/drive/My Drive/MANDIBLE/models/unetpp.keras\n",
            "50/50 [==============================] - 69s 1s/step - loss: 0.0408 - accuracy: 0.9945 - val_loss: 0.1780 - val_accuracy: 0.9644 - lr: 1.0000e-04\n",
            "Epoch 9/25\n",
            "50/50 [==============================] - ETA: 0s - loss: 0.0372 - accuracy: 0.9952\n",
            "Epoch 9: val_loss improved from 0.17799 to 0.12666, saving model to /content/drive/My Drive/MANDIBLE/models/unetpp.keras\n",
            "50/50 [==============================] - 70s 1s/step - loss: 0.0372 - accuracy: 0.9952 - val_loss: 0.1267 - val_accuracy: 0.9751 - lr: 1.0000e-04\n",
            "Epoch 10/25\n",
            "50/50 [==============================] - ETA: 0s - loss: 0.0337 - accuracy: 0.9959\n",
            "Epoch 10: val_loss improved from 0.12666 to 0.08588, saving model to /content/drive/My Drive/MANDIBLE/models/unetpp.keras\n",
            "50/50 [==============================] - 69s 1s/step - loss: 0.0337 - accuracy: 0.9959 - val_loss: 0.0859 - val_accuracy: 0.9816 - lr: 1.0000e-04\n",
            "Epoch 11/25\n",
            "50/50 [==============================] - ETA: 0s - loss: 0.0315 - accuracy: 0.9960\n",
            "Epoch 11: val_loss improved from 0.08588 to 0.06058, saving model to /content/drive/My Drive/MANDIBLE/models/unetpp.keras\n",
            "50/50 [==============================] - 67s 1s/step - loss: 0.0315 - accuracy: 0.9960 - val_loss: 0.0606 - val_accuracy: 0.9867 - lr: 1.0000e-04\n",
            "Epoch 12/25\n",
            "50/50 [==============================] - ETA: 0s - loss: 0.0288 - accuracy: 0.9966\n",
            "Epoch 12: val_loss improved from 0.06058 to 0.04648, saving model to /content/drive/My Drive/MANDIBLE/models/unetpp.keras\n",
            "50/50 [==============================] - 67s 1s/step - loss: 0.0288 - accuracy: 0.9966 - val_loss: 0.0465 - val_accuracy: 0.9902 - lr: 1.0000e-04\n",
            "Epoch 13/25\n",
            "50/50 [==============================] - ETA: 0s - loss: 0.0264 - accuracy: 0.9969\n",
            "Epoch 13: val_loss improved from 0.04648 to 0.03967, saving model to /content/drive/My Drive/MANDIBLE/models/unetpp.keras\n",
            "50/50 [==============================] - 68s 1s/step - loss: 0.0264 - accuracy: 0.9969 - val_loss: 0.0397 - val_accuracy: 0.9925 - lr: 1.0000e-04\n",
            "Epoch 14/25\n",
            "50/50 [==============================] - ETA: 0s - loss: 0.0246 - accuracy: 0.9972\n",
            "Epoch 14: val_loss improved from 0.03967 to 0.03598, saving model to /content/drive/My Drive/MANDIBLE/models/unetpp.keras\n",
            "50/50 [==============================] - 67s 1s/step - loss: 0.0246 - accuracy: 0.9972 - val_loss: 0.0360 - val_accuracy: 0.9931 - lr: 1.0000e-04\n",
            "Epoch 15/25\n",
            "50/50 [==============================] - ETA: 0s - loss: 0.0228 - accuracy: 0.9974\n",
            "Epoch 15: val_loss improved from 0.03598 to 0.03416, saving model to /content/drive/My Drive/MANDIBLE/models/unetpp.keras\n",
            "50/50 [==============================] - 67s 1s/step - loss: 0.0228 - accuracy: 0.9974 - val_loss: 0.0342 - val_accuracy: 0.9937 - lr: 1.0000e-04\n",
            "Epoch 16/25\n",
            "50/50 [==============================] - ETA: 0s - loss: 0.0213 - accuracy: 0.9976\n",
            "Epoch 16: val_loss improved from 0.03416 to 0.03162, saving model to /content/drive/My Drive/MANDIBLE/models/unetpp.keras\n",
            "50/50 [==============================] - 69s 1s/step - loss: 0.0213 - accuracy: 0.9976 - val_loss: 0.0316 - val_accuracy: 0.9937 - lr: 1.0000e-04\n",
            "Epoch 17/25\n",
            "50/50 [==============================] - ETA: 0s - loss: 0.0201 - accuracy: 0.9976\n",
            "Epoch 17: val_loss improved from 0.03162 to 0.02983, saving model to /content/drive/My Drive/MANDIBLE/models/unetpp.keras\n",
            "50/50 [==============================] - 68s 1s/step - loss: 0.0201 - accuracy: 0.9976 - val_loss: 0.0298 - val_accuracy: 0.9944 - lr: 1.0000e-04\n",
            "Epoch 18/25\n",
            "50/50 [==============================] - ETA: 0s - loss: 0.0187 - accuracy: 0.9978\n",
            "Epoch 18: val_loss improved from 0.02983 to 0.02905, saving model to /content/drive/My Drive/MANDIBLE/models/unetpp.keras\n",
            "50/50 [==============================] - 69s 1s/step - loss: 0.0187 - accuracy: 0.9978 - val_loss: 0.0290 - val_accuracy: 0.9943 - lr: 1.0000e-04\n",
            "Epoch 19/25\n",
            "50/50 [==============================] - ETA: 0s - loss: 0.0177 - accuracy: 0.9979\n",
            "Epoch 19: val_loss improved from 0.02905 to 0.02701, saving model to /content/drive/My Drive/MANDIBLE/models/unetpp.keras\n",
            "50/50 [==============================] - 67s 1s/step - loss: 0.0177 - accuracy: 0.9979 - val_loss: 0.0270 - val_accuracy: 0.9949 - lr: 1.0000e-04\n",
            "Epoch 20/25\n",
            "50/50 [==============================] - ETA: 0s - loss: 0.0163 - accuracy: 0.9982\n",
            "Epoch 20: val_loss improved from 0.02701 to 0.02665, saving model to /content/drive/My Drive/MANDIBLE/models/unetpp.keras\n",
            "50/50 [==============================] - 67s 1s/step - loss: 0.0163 - accuracy: 0.9982 - val_loss: 0.0267 - val_accuracy: 0.9947 - lr: 1.0000e-04\n",
            "Epoch 21/25\n",
            "50/50 [==============================] - ETA: 0s - loss: 0.0153 - accuracy: 0.9983\n",
            "Epoch 21: val_loss improved from 0.02665 to 0.02563, saving model to /content/drive/My Drive/MANDIBLE/models/unetpp.keras\n",
            "50/50 [==============================] - 67s 1s/step - loss: 0.0153 - accuracy: 0.9983 - val_loss: 0.0256 - val_accuracy: 0.9951 - lr: 1.0000e-04\n",
            "Epoch 22/25\n",
            "50/50 [==============================] - ETA: 0s - loss: 0.0144 - accuracy: 0.9984\n",
            "Epoch 22: val_loss improved from 0.02563 to 0.02463, saving model to /content/drive/My Drive/MANDIBLE/models/unetpp.keras\n",
            "50/50 [==============================] - 67s 1s/step - loss: 0.0144 - accuracy: 0.9984 - val_loss: 0.0246 - val_accuracy: 0.9952 - lr: 1.0000e-04\n",
            "Epoch 23/25\n",
            "50/50 [==============================] - ETA: 0s - loss: 0.0135 - accuracy: 0.9986\n",
            "Epoch 23: val_loss did not improve from 0.02463\n",
            "50/50 [==============================] - 64s 1s/step - loss: 0.0135 - accuracy: 0.9986 - val_loss: 0.0249 - val_accuracy: 0.9950 - lr: 1.0000e-04\n",
            "Epoch 24/25\n",
            "50/50 [==============================] - ETA: 0s - loss: 0.0126 - accuracy: 0.9987\n",
            "Epoch 24: val_loss improved from 0.02463 to 0.02306, saving model to /content/drive/My Drive/MANDIBLE/models/unetpp.keras\n",
            "50/50 [==============================] - 68s 1s/step - loss: 0.0126 - accuracy: 0.9987 - val_loss: 0.0231 - val_accuracy: 0.9955 - lr: 1.0000e-04\n",
            "Epoch 25/25\n",
            "50/50 [==============================] - ETA: 0s - loss: 0.0118 - accuracy: 0.9988\n",
            "Epoch 25: val_loss improved from 0.02306 to 0.02305, saving model to /content/drive/My Drive/MANDIBLE/models/unetpp.keras\n",
            "50/50 [==============================] - 67s 1s/step - loss: 0.0118 - accuracy: 0.9988 - val_loss: 0.0230 - val_accuracy: 0.9953 - lr: 1.0000e-04\n",
            "Training time: 1705.22 seconds\n"
          ]
        }
      ],
      "source": [
        "import time\n",
        "from keras.callbacks import ModelCheckpoint, ReduceLROnPlateau, EarlyStopping\n",
        "\n",
        "# Compile the model\n",
        "opt = tf.keras.optimizers.Adam(lr)\n",
        "model.compile(loss=\"binary_crossentropy\", optimizer=opt, metrics=[\"accuracy\"])\n",
        "\n",
        "# Calculate steps per epoch and validation steps\n",
        "stepsPerEpoch = len(trainimageNP) // batchSize\n",
        "validationSteps = len(validimageNP) // batchSize\n",
        "\n",
        "# Define callbacks\n",
        "callbacks = [\n",
        "    ModelCheckpoint(drive_path, verbose=1, save_best_only=True),\n",
        "    ReduceLROnPlateau(monitor=\"val_loss\", patience=5, factor=0.1, verbose=1, min_lr=1e-7),\n",
        "    EarlyStopping(monitor=\"val_loss\", patience=5, verbose=1, mode=\"min\")\n",
        "]\n",
        "\n",
        "# Record the start time\n",
        "start_time = time.time()\n",
        "\n",
        "# Train the model\n",
        "history = model.fit(trainimageNP, trainmaskNP,\n",
        "                    batch_size=batchSize,\n",
        "                    epochs=epochs,\n",
        "                    verbose=1,\n",
        "                    validation_data=(validimageNP, validmaskNP),\n",
        "                    validation_steps=validationSteps,\n",
        "                    steps_per_epoch=stepsPerEpoch,\n",
        "                    shuffle=True,\n",
        "                    callbacks=callbacks\n",
        "                    )\n",
        "\n",
        "# Record the end time\n",
        "end_time = time.time()\n",
        "\n",
        "# Calculate the training duration\n",
        "training_time = end_time - start_time\n",
        "\n",
        "print(f\"Training time: {training_time:.2f} seconds\")"
      ]
    },
    {
      "cell_type": "markdown",
      "metadata": {
        "id": "BUE0RwJJAsYp"
      },
      "source": [
        "## Performance Visualization"
      ]
    },
    {
      "cell_type": "code",
      "execution_count": null,
      "metadata": {
        "colab": {
          "base_uri": "https://localhost:8080/",
          "height": 428
        },
        "id": "-28VThoAcRVh",
        "outputId": "556f8f9e-1930-471c-82f1-6ad0ba28117f"
      },
      "outputs": [
        {
          "data": {
            "image/png": "[encoded data removed]",
            "text/plain": [
              "<Figure size 1200x400 with 2 Axes>"
            ]
          },
          "metadata": {},
          "output_type": "display_data"
        }
      ],
      "source": [
        "import matplotlib.pyplot as plt\n",
        "\n",
        "# Plot training & validation accuracy values\n",
        "plt.figure(figsize=(12, 4))\n",
        "\n",
        "# Determine the number of epochs\n",
        "epochs = len(history.history['accuracy'])\n",
        "interval = 5\n",
        "\n",
        "plt.subplot(1, 2, 1)\n",
        "plt.plot(range(1, epochs + 1), history.history['accuracy'])\n",
        "plt.plot(range(1, epochs + 1), history.history['val_accuracy'])\n",
        "plt.title('Model accuracy')\n",
        "plt.ylabel('Accuracy')\n",
        "plt.xlabel('Epoch')\n",
        "plt.legend(['Train', 'Validation'], loc='upper left')\n",
        "plt.xticks(range(1, epochs + 1, interval))  # Set x-ticks with interval\n",
        "\n",
        "plt.subplot(1, 2, 2)\n",
        "plt.plot(range(1, epochs + 1), history.history['loss'])\n",
        "plt.plot(range(1, epochs + 1), history.history['val_loss'])\n",
        "plt.title('Model loss')\n",
        "plt.ylabel('Loss')\n",
        "plt.xlabel('Epoch')\n",
        "plt.legend(['Train', 'Validation'], loc='upper left')\n",
        "plt.xticks(range(1, epochs + 1, interval))  # Set x-ticks with interval\n",
        "\n",
        "# Add an overall title\n",
        "plt.suptitle('UNet++ Model Performance', fontsize=16)\n",
        "\n",
        "plt.show()"
      ]
    },
    {
      "cell_type": "markdown",
      "metadata": {
        "id": "2xlzUOxoAu9I"
      },
      "source": [
        "## Evaluating on Test Set"
      ]
    },
    {
      "cell_type": "code",
      "execution_count": null,
      "metadata": {
        "colab": {
          "base_uri": "https://localhost:8080/"
        },
        "id": "8NFTRfWABArn",
        "outputId": "5c39e635-b600-4a23-9726-13e7f408db61"
      },
      "outputs": [
        {
          "name": "stdout",
          "output_type": "stream",
          "text": [
            "8/8 [==============================] - 12s 1s/step - loss: 0.0254 - accuracy: 0.9947\n",
            "Test Loss: 0.0254078209400177\n",
            "Test Accuracy: 0.9946561455726624\n"
          ]
        }
      ],
      "source": [
        "from tensorflow.keras.models import load_model\n",
        "\n",
        "best_model = load_model(drive_path)\n",
        "\n",
        "test_loss, test_accuracy = best_model.evaluate(testimageNP, testmaskNP, verbose=1)\n",
        "\n",
        "print(f'Test Loss: {test_loss}')\n",
        "print(f'Test Accuracy: {test_accuracy}')"
      ]
    }
  ],
  "metadata": {
    "accelerator": "GPU",
    "colab": {
      "gpuType": "T4",
      "provenance": []
    },
    "kernelspec": {
      "display_name": "Python 3",
      "name": "python3"
    },
    "language_info": {
      "codemirror_mode": {
        "name": "ipython",
        "version": 3
      },
      "file_extension": ".py",
      "mimetype": "text/x-python",
      "name": "python",
      "nbconvert_exporter": "python",
      "pygments_lexer": "ipython3",
      "version": "3.12.2"
    }
  },
  "nbformat": 4,
  "nbformat_minor": 0
}
