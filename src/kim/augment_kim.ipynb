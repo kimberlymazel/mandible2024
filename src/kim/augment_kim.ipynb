{
 "cells": [
  {
   "cell_type": "code",
   "execution_count": 30,
   "metadata": {},
   "outputs": [],
   "source": [
    "import albumentations as A\n",
    "import cv2\n",
    "\n",
    "transform = A.Compose([\n",
    "    A.RandomGamma(p=1, gamma_limit = (150,150))\n",
    "])"
   ]
  },
  {
   "cell_type": "code",
   "execution_count": 32,
   "metadata": {},
   "outputs": [],
   "source": [
    "image = cv2.imread(\"../dataset/xpm_annotate/images/0109.png\")\n",
    "mask = cv2.imread(\"../dataset/xpm_annotate/masks/0109.png\")"
   ]
  },
  {
   "cell_type": "code",
   "execution_count": 26,
   "metadata": {},
   "outputs": [
    {
     "name": "stdout",
     "output_type": "stream",
     "text": [
      "Image dimensions: (1310, 2950, 3)\n",
      "Mask dimensions: (1310, 2950, 3)\n"
     ]
    }
   ],
   "source": [
    "print(f\"Image dimensions: {image.shape}\")\n",
    "print(f\"Mask dimensions: {mask.shape}\")"
   ]
  },
  {
   "cell_type": "code",
   "execution_count": 23,
   "metadata": {},
   "outputs": [
    {
     "name": "stdout",
     "output_type": "stream",
     "text": [
      "Mask dimensions: (1310, 2950, 3)\n"
     ]
    },
    {
     "data": {
      "text/plain": [
       "True"
      ]
     },
     "execution_count": 23,
     "metadata": {},
     "output_type": "execute_result"
    }
   ],
   "source": [
    "new_width = 2950\n",
    "new_height = 1310\n",
    "\n",
    "mask = cv2.resize(mask, (new_width, new_height))\n",
    "\n",
    "print(f\"Mask dimensions: {mask.shape}\")\n",
    "cv2.imwrite(\"../dataset/xpm_annotate/masks/0109.png\", mask)"
   ]
  },
  {
   "cell_type": "code",
   "execution_count": 33,
   "metadata": {},
   "outputs": [],
   "source": [
    "transformed = transform(image=image, mask=mask)\n",
    "transformed_image = transformed['image']\n",
    "transformed_mask = transformed['mask']"
   ]
  },
  {
   "cell_type": "code",
   "execution_count": 34,
   "metadata": {},
   "outputs": [],
   "source": [
    "resize_factor = 0.3\n",
    "image = cv2.resize(image, None, fx=resize_factor, fy=resize_factor)\n",
    "transformed_image = cv2.resize(transformed_image, None, fx=resize_factor, fy=resize_factor)\n",
    "\n",
    "cv2.imshow('original', image)\n",
    "cv2.imshow('img', transformed_image)\n",
    "cv2.waitKey(0)\n",
    "cv2.destroyAllWindows()"
   ]
  }
 ],
 "metadata": {
  "kernelspec": {
   "display_name": "Python 3",
   "language": "python",
   "name": "python3"
  },
  "language_info": {
   "codemirror_mode": {
    "name": "ipython",
    "version": 3
   },
   "file_extension": ".py",
   "mimetype": "text/x-python",
   "name": "python",
   "nbconvert_exporter": "python",
   "pygments_lexer": "ipython3",
   "version": "3.10.11"
  }
 },
 "nbformat": 4,
 "nbformat_minor": 2
}
