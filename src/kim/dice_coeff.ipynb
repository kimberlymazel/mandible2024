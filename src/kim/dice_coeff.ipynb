{
 "cells": [
  {
   "cell_type": "code",
   "execution_count": 2,
   "id": "bdd5d123",
   "metadata": {},
   "outputs": [],
   "source": [
    "import numpy as np\n",
    "from tensorflow.keras.models import load_model\n",
    "\n",
    "def dice_coefficient(y_true, y_pred, smooth=1e-6):\n",
    "    y_true = y_true.flatten()\n",
    "    y_pred = y_pred.flatten()\n",
    "    intersection = np.sum(y_true * y_pred)\n",
    "\n",
    "    # Smooth to prevent division by 0\n",
    "    return (2 * intersection + smooth) / (np.sum(y_true) + np.sum(y_pred) + smooth)\n"
   ]
  },
  {
   "cell_type": "code",
   "execution_count": 4,
   "id": "fcf40b5e",
   "metadata": {},
   "outputs": [],
   "source": [
    "def run_test(model, images, ground):\n",
    "    test_model = model\n",
    "    image_set = images\n",
    "    ground_truth = ground\n",
    "\n",
    "    pred = test_model.predict(image_set)\n",
    "    dice_scores = []\n",
    "    for i in range(len(ground)):\n",
    "        dice = dice_coefficient(ground[i], pred[i])\n",
    "        dice_scores.append(dice)\n",
    "\n",
    "    # Final score\n",
    "    mean_dice = np.mean(dice_scores)\n",
    "    return mean_dice"
   ]
  },
  {
   "cell_type": "code",
   "execution_count": 14,
   "id": "e7c94063",
   "metadata": {},
   "outputs": [
    {
     "name": "stdout",
     "output_type": "stream",
     "text": [
      "MEAN DICE SCORES:\n",
      "8/8 [==============================] - 40s 5s/step\n",
      "UNETPP: 0.9541\n",
      "8/8 [==============================] - 40s 5s/step\n",
      "UNET: 0.9541\n",
      "8/8 [==============================] - 7s 864ms/step\n",
      "FCN: 0.9209\n"
     ]
    }
   ],
   "source": [
    "# MODELS\n",
    "unetpp = load_model(\"../../models/unetpp.h5\")\n",
    "unet = load_model(\"../../models/unet.h5\")\n",
    "fcn = load_model(\"../../models/fcn.h5\")\n",
    "\n",
    "# DATASET\n",
    "testimageNP = np.load(\"../../dataset/augmented/feed/test_img.npy\")\n",
    "testmaskNP = np.load(\"../../dataset/augmented/feed/test_mask.npy\")\n",
    "\n",
    "print(\"MEAN DICE SCORES:\")\n",
    "print(f\"UNETPP: {(run_test(unetpp, testimageNP, testmaskNP)):.4f}\")\n",
    "print(f\"UNET: {(run_test(unet, testimageNP, testmaskNP)):.4f}\")\n",
    "print(f\"FCN: {(run_test(fcn, testimageNP, testmaskNP)):.4f}\")"
   ]
  },
  {
   "cell_type": "code",
   "execution_count": 5,
   "id": "c7ae35ba",
   "metadata": {},
   "outputs": [
    {
     "name": "stderr",
     "output_type": "stream",
     "text": [
      "WARNING:absl:Compiled the loaded model, but the compiled metrics have yet to be built. `model.compile_metrics` will be empty until you train or evaluate the model.\n"
     ]
    },
    {
     "name": "stdout",
     "output_type": "stream",
     "text": [
      "\u001b[1m8/8\u001b[0m \u001b[32m━━━━━━━━━━━━━━━━━━━━\u001b[0m\u001b[37m\u001b[0m \u001b[1m17s\u001b[0m 2s/step\n",
      "SEGNET: 0.9303\n"
     ]
    }
   ],
   "source": [
    "segnet = load_model(\"../../models/segnet.h5\")\n",
    "\n",
    "# DATASET\n",
    "testimageNP = np.load(\"../../dataset/augmented/feed/test_img.npy\")\n",
    "testmaskNP = np.load(\"../../dataset/augmented/feed/test_mask.npy\")\n",
    "\n",
    "print(f\"SEGNET: {(run_test(segnet, testimageNP, testmaskNP)):.4f}\")"
   ]
  }
 ],
 "metadata": {
  "kernelspec": {
   "display_name": "mandible_venv",
   "language": "python",
   "name": "python3"
  },
  "language_info": {
   "codemirror_mode": {
    "name": "ipython",
    "version": 3
   },
   "file_extension": ".py",
   "mimetype": "text/x-python",
   "name": "python",
   "nbconvert_exporter": "python",
   "pygments_lexer": "ipython3",
   "version": "3.10.12"
  }
 },
 "nbformat": 4,
 "nbformat_minor": 5
}
