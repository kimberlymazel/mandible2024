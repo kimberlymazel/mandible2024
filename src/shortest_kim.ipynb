{
 "cells": [
  {
   "cell_type": "markdown",
   "metadata": {},
   "source": [
    "yolo_predictions/yolov8s/box/1517089_overlay.jpg"
   ]
  },
  {
   "cell_type": "code",
   "execution_count": 1,
   "metadata": {},
   "outputs": [],
   "source": [
    "import cv2\n",
    "import numpy as np\n",
    "\n",
    "segmented_image = cv2.imread('../yolo_predictions/yolov8s/box/1517089_overlay.jpg', cv2.IMREAD_COLOR)\n",
    "\n",
    "resize_factor = 0.2 \n",
    "segmented_image_resized = cv2.resize(segmented_image, None, fx=resize_factor, fy=resize_factor)\n",
    "\n",
    "lower_yellow = np.array([20, 100, 100])\n",
    "upper_yellow = np.array([30, 255, 255])\n",
    "\n",
    "hsv_image = cv2.cvtColor(segmented_image_resized, cv2.COLOR_BGR2HSV)\n",
    "\n",
    "yellow_mask = cv2.inRange(hsv_image, lower_yellow, upper_yellow)\n",
    "\n",
    "contours, _ = cv2.findContours(yellow_mask, cv2.RETR_EXTERNAL, cv2.CHAIN_APPROX_SIMPLE)\n",
    "\n",
    "largest_contour = max(contours, key=cv2.contourArea)\n",
    "\n",
    "cv2.drawContours(segmented_image_resized, [largest_contour], -1, (0, 255, 0), 2)\n",
    "\n",
    "point1_index = -100  # Index of the first point along the contour\n",
    "point2_index = 110  # Index of the second point along the contour\n",
    "\n",
    "point1 = tuple(largest_contour[point1_index][0])\n",
    "point2 = tuple(largest_contour[point2_index][0])\n",
    "\n",
    "cv2.line(segmented_image_resized, point1, point2, (255, 0, 0), 2)\n",
    "\n",
    "cv2.imshow('Segmented MRI Image with Contour and Line', segmented_image_resized)\n",
    "cv2.waitKey(0)\n",
    "cv2.destroyAllWindows()"
   ]
  }
 ],
 "metadata": {
  "kernelspec": {
   "display_name": "Python 3",
   "language": "python",
   "name": "python3"
  },
  "language_info": {
   "codemirror_mode": {
    "name": "ipython",
    "version": 3
   },
   "file_extension": ".py",
   "mimetype": "text/x-python",
   "name": "python",
   "nbconvert_exporter": "python",
   "pygments_lexer": "ipython3",
   "version": "3.10.11"
  }
 },
 "nbformat": 4,
 "nbformat_minor": 2
}
