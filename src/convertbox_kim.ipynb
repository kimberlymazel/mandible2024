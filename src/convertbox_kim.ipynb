{
 "cells": [
  {
   "cell_type": "markdown",
   "metadata": {},
   "source": [
    "Convert to JPG"
   ]
  },
  {
   "cell_type": "code",
   "execution_count": 6,
   "metadata": {},
   "outputs": [],
   "source": [
    "import cv2\n",
    "import os\n",
    "\n",
    "input_dir = \"../dataset/roboflow/yolonihadatsetobject_filtered/images\"\n",
    "output_dir = \"../dataset/merged/merged2/images\"\n",
    "\n",
    "if not os.path.exists(output_dir):\n",
    "    os.makedirs(output_dir)\n",
    "\n",
    "for filename in os.listdir(input_dir):\n",
    "    if filename.endswith(\".jpg\"):\n",
    "        tiff_img = cv2.imread(os.path.join(input_dir, filename), cv2.IMREAD_UNCHANGED)\n",
    "\n",
    "        jpeg_img = cv2.cvtColor(tiff_img, cv2.COLOR_BGR2RGB) \n",
    "        cv2.imwrite(os.path.join(output_dir, filename.replace('.jpg', '.png')), jpeg_img, [int(cv2.IMWRITE_JPEG_QUALITY), 100])"
   ]
  },
  {
   "cell_type": "markdown",
   "metadata": {},
   "source": [
    "Apply CLAHE"
   ]
  },
  {
   "cell_type": "code",
   "execution_count": 2,
   "metadata": {},
   "outputs": [],
   "source": [
    "import cv2\n",
    "import os\n",
    "\n",
    "input_dir = \"../dataset/box\"\n",
    "output_dir = \"../dataset/box_CLAHE\"\n",
    "\n",
    "if not os.path.exists(output_dir):\n",
    "    os.makedirs(output_dir)\n",
    "\n",
    "for filename in os.listdir(input_dir):\n",
    "    if filename.endswith(\".tiff\") or filename.endswith(\".tif\"):\n",
    "        tiff_img = cv2.imread(os.path.join(input_dir, filename), cv2.IMREAD_UNCHANGED)\n",
    "\n",
    "        clahe = cv2.createCLAHE(clipLimit=5.0, tileGridSize=(8, 8))\n",
    "        clahe_img = clahe.apply(tiff_img)\n",
    "\n",
    "        output_filename = os.path.splitext(filename)[0] + '.jpg'\n",
    "        cv2.imwrite(os.path.join(output_dir, output_filename), clahe_img, [int(cv2.IMWRITE_JPEG_QUALITY), 100])\n"
   ]
  },
  {
   "cell_type": "markdown",
   "metadata": {},
   "source": [
    "Apply CLAHE (.tiff)"
   ]
  },
  {
   "cell_type": "code",
   "execution_count": 3,
   "metadata": {},
   "outputs": [],
   "source": [
    "import cv2\n",
    "import os\n",
    "\n",
    "input_dir = \"../xray_panoramic_mandible/images\"\n",
    "output_dir = \"../xray_panoramic_mandible/images_CLAHE\"\n",
    "\n",
    "if not os.path.exists(output_dir):\n",
    "    os.makedirs(output_dir)\n",
    "\n",
    "for filename in os.listdir(input_dir):\n",
    "    img = cv2.imread(os.path.join(input_dir, filename), cv2.IMREAD_UNCHANGED)\n",
    "\n",
    "    clahe = cv2.createCLAHE(clipLimit=5.0, tileGridSize=(8, 8))\n",
    "    clahe_img = clahe.apply(img)\n",
    "\n",
    "    output_filename = os.path.splitext(filename)[0] + '.jpg'\n",
    "    cv2.imwrite(os.path.join(output_dir, output_filename), clahe_img, [int(cv2.IMWRITE_JPEG_QUALITY), 100])"
   ]
  }
 ],
 "metadata": {
  "kernelspec": {
   "display_name": "Python 3",
   "language": "python",
   "name": "python3"
  },
  "language_info": {
   "codemirror_mode": {
    "name": "ipython",
    "version": 3
   },
   "file_extension": ".py",
   "mimetype": "text/x-python",
   "name": "python",
   "nbconvert_exporter": "python",
   "pygments_lexer": "ipython3",
   "version": "3.12.2"
  }
 },
 "nbformat": 4,
 "nbformat_minor": 2
}
