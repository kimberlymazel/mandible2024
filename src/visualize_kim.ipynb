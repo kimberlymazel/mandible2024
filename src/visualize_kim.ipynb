{
 "cells": [
  {
   "cell_type": "code",
   "execution_count": 3,
   "metadata": {},
   "outputs": [],
   "source": [
    "image_path = '../dataset/roboflow/okl_filtered/images/1_jpg.rf.471bfc34817c3cd6eab30a980ca969d2.jpg'\n",
    "mask_path = '../dataset/roboflow/okl_filtered/labels/1_jpg.rf.471bfc34817c3cd6eab30a980ca969d2.txt'"
   ]
  },
  {
   "cell_type": "code",
   "execution_count": 4,
   "metadata": {},
   "outputs": [],
   "source": [
    "import cv2\n",
    "import numpy as np\n",
    "\n",
    "image = cv2.imread(image_path)\n",
    "\n",
    "with open(mask_path, 'r') as file:\n",
    "    coordinates = file.readline().strip().split()[1:] \n",
    "\n",
    "coordinates = np.array(coordinates, dtype=np.float32).reshape(-1, 2) * np.array(image.shape[:2][::-1])\n",
    "\n",
    "mask = np.zeros_like(image)\n",
    "\n",
    "cv2.fillPoly(mask, [coordinates.astype(int)], color=(255, 255, 255)) \n",
    "\n",
    "clahe = cv2.createCLAHE(clipLimit=5.0, tileGridSize=(8, 8))\n",
    "\n",
    "masked_image = cv2.bitwise_and(image, mask)\n",
    "masked_gray = cv2.cvtColor(masked_image, cv2.COLOR_BGR2GRAY)\n",
    "clahe_img = clahe.apply(masked_gray)\n",
    "\n",
    "cv2.imshow('Segmentation', clahe_img)\n",
    "cv2.waitKey(0)\n",
    "cv2.destroyAllWindows()"
   ]
  },
  {
   "cell_type": "markdown",
   "metadata": {},
   "source": [
    "## BINARY MASK (MANUAL THRESHOLD)"
   ]
  },
  {
   "cell_type": "code",
   "execution_count": 74,
   "metadata": {},
   "outputs": [
    {
     "data": {
      "image/png": "[encoded data removed]",
      "text/plain": [
       "<Figure size 640x480 with 1 Axes>"
      ]
     },
     "metadata": {},
     "output_type": "display_data"
    }
   ],
   "source": [
    "import cv2\n",
    "import numpy as np\n",
    "import matplotlib.pyplot as plt\n",
    "\n",
    "image = cv2.imread(image_path, cv2.IMREAD_GRAYSCALE)\n",
    "\n",
    "if image is None:\n",
    "    print(\"Error: Unable to load the image.\")\n",
    "else:\n",
    "    plt.hist(image.ravel(), bins=256, range=(0, 256))\n",
    "    plt.title('Histogram of MRI Image')\n",
    "    plt.xlabel('Pixel Intensity')\n",
    "    plt.ylabel('Frequency')\n",
    "    plt.show()\n",
    "\n",
    "    threshold_value = 75\n",
    "\n",
    "    _, binary_mask = cv2.threshold(image, threshold_value, 255, cv2.THRESH_BINARY)\n",
    "\n",
    "    kernel = np.ones((5, 5), np.uint8)\n",
    "    binary_mask = cv2.morphologyEx(binary_mask, cv2.MORPH_OPEN, kernel)\n",
    "\n",
    "    cv2.imshow('Binary Mask', binary_mask)\n",
    "    cv2.waitKey(0)\n",
    "    cv2.destroyAllWindows()\n"
   ]
  },
  {
   "cell_type": "code",
   "execution_count": 70,
   "metadata": {},
   "outputs": [],
   "source": [
    "import cv2\n",
    "import numpy as np\n",
    "\n",
    "kernel = np.ones((5, 5), np.uint8)\n",
    "binary_mask_opened = cv2.morphologyEx(binary_mask, cv2.MORPH_OPEN, kernel)\n",
    "\n",
    "binary_mask_inverted = cv2.bitwise_not(binary_mask_opened)\n",
    "\n",
    "result_image = cv2.bitwise_and(image, image, mask=binary_mask_inverted)\n",
    "\n",
    "cv2.imshow('Jawbone Mask', result_image)\n",
    "cv2.waitKey(0)\n",
    "cv2.destroyAllWindows()"
   ]
  },
  {
   "cell_type": "markdown",
   "metadata": {},
   "source": [
    "## OTSU BINARY MASK"
   ]
  },
  {
   "cell_type": "code",
   "execution_count": 56,
   "metadata": {},
   "outputs": [],
   "source": [
    "import cv2\n",
    "import numpy as np\n",
    "import matplotlib.pyplot as plt\n",
    "\n",
    "image = cv2.imread(image_path, cv2.IMREAD_GRAYSCALE)\n",
    "\n",
    "_, otsu = cv2.threshold(image, 0, 255, cv2.THRESH_BINARY + cv2.THRESH_OTSU)\n",
    "\n",
    "\n",
    "cv2.imshow('Binary Mask (Otsu)', otsu)\n",
    "cv2.waitKey(0)\n",
    "cv2.destroyAllWindows()"
   ]
  },
  {
   "cell_type": "markdown",
   "metadata": {},
   "source": [
    "## ADAPTIVE BINARY MASK"
   ]
  },
  {
   "cell_type": "code",
   "execution_count": 57,
   "metadata": {},
   "outputs": [],
   "source": [
    "import cv2\n",
    "import numpy as np\n",
    "import matplotlib.pyplot as plt\n",
    "\n",
    "image = cv2.imread(image_path, cv2.IMREAD_GRAYSCALE)\n",
    "\n",
    "binary_mask = cv2.adaptiveThreshold(image, 255, cv2.ADAPTIVE_THRESH_MEAN_C, cv2.THRESH_BINARY, 11, 2)\n",
    "\n",
    "cv2.imshow('Binary Mask (Adaptive)', binary_mask)\n",
    "cv2.waitKey(0)\n",
    "cv2.destroyAllWindows()"
   ]
  }
 ],
 "metadata": {
  "kernelspec": {
   "display_name": "Python 3",
   "language": "python",
   "name": "python3"
  },
  "language_info": {
   "codemirror_mode": {
    "name": "ipython",
    "version": 3
   },
   "file_extension": ".py",
   "mimetype": "text/x-python",
   "name": "python",
   "nbconvert_exporter": "python",
   "pygments_lexer": "ipython3",
   "version": "3.10.11"
  }
 },
 "nbformat": 4,
 "nbformat_minor": 2
}
