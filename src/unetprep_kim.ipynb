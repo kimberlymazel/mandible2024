{
 "cells": [
  {
   "cell_type": "code",
   "execution_count": 3,
   "metadata": {},
   "outputs": [],
   "source": [
    "import cv2\n",
    "import numpy as np\n",
    "import glob\n",
    "from tqdm import tqdm"
   ]
  },
  {
   "cell_type": "code",
   "execution_count": 4,
   "metadata": {},
   "outputs": [],
   "source": [
    "height = 300\n",
    "width = 130"
   ]
  },
  {
   "cell_type": "code",
   "execution_count": 5,
   "metadata": {},
   "outputs": [],
   "source": [
    "path = \"../dataset/augmented\"\n",
    "imagepath = path + \"/images/*.png\"\n",
    "maskpath = path + \"/masks/*.png\""
   ]
  },
  {
   "cell_type": "code",
   "execution_count": 6,
   "metadata": {},
   "outputs": [
    {
     "name": "stdout",
     "output_type": "stream",
     "text": [
      "Number of images:  2324\n",
      "Number of masks:  2324\n"
     ]
    }
   ],
   "source": [
    "images = glob.glob(imagepath)\n",
    "masks = glob.glob(maskpath)\n",
    "\n",
    "print(\"Number of images: \", len(images))\n",
    "print(\"Number of masks: \", len(masks))"
   ]
  },
  {
   "cell_type": "code",
   "execution_count": 7,
   "metadata": {},
   "outputs": [],
   "source": [
    "allImages = []\n",
    "maskImages = []"
   ]
  },
  {
   "cell_type": "code",
   "execution_count": 8,
   "metadata": {},
   "outputs": [
    {
     "name": "stderr",
     "output_type": "stream",
     "text": [
      "  0%|          | 0/2324 [00:00<?, ?it/s]"
     ]
    },
    {
     "name": "stderr",
     "output_type": "stream",
     "text": [
      "100%|██████████| 2324/2324 [01:54<00:00, 20.27it/s]\n"
     ]
    }
   ],
   "source": [
    "for image, mask, in tqdm(zip(images, masks), total = len(images)):\n",
    "\n",
    "    img = cv2.imread(image, cv2.IMREAD_COLOR)\n",
    "    img = cv2.resize(img, (width, height))\n",
    "    img = img/255.0\n",
    "    img = img.astype(np.float32)\n",
    "    allImages.append(img)\n",
    "\n",
    "    msk = cv2.imread(mask, cv2.IMREAD_GRAYSCALE)\n",
    "    msk = cv2.resize(msk, (width, height))\n",
    "    msk[msk>0] = 1\n",
    "    maskImages.append(msk)"
   ]
  },
  {
   "cell_type": "code",
   "execution_count": 9,
   "metadata": {},
   "outputs": [],
   "source": [
    "allImagesNP = np.array(allImages)\n",
    "maskImagesNP = np.array(maskImages)\n",
    "maskImagesNP = maskImagesNP.astype(int)"
   ]
  },
  {
   "cell_type": "code",
   "execution_count": 10,
   "metadata": {},
   "outputs": [
    {
     "name": "stdout",
     "output_type": "stream",
     "text": [
      "Images shape:  (2324, 300, 130, 3)\n",
      "Masks shape:  (2324, 300, 130)\n"
     ]
    }
   ],
   "source": [
    "print(\"Images shape: \", allImagesNP.shape)\n",
    "print(\"Masks shape: \", maskImagesNP.shape)"
   ]
  },
  {
   "cell_type": "code",
   "execution_count": 11,
   "metadata": {},
   "outputs": [
    {
     "name": "stdout",
     "output_type": "stream",
     "text": [
      "Train Set:\n",
      "(2091, 300, 130, 3)\n",
      "(2091, 300, 130)\n",
      "Valid Set:\n",
      "(233, 300, 130, 3)\n",
      "(233, 300, 130)\n"
     ]
    }
   ],
   "source": [
    "from sklearn.model_selection import train_test_split\n",
    "\n",
    "testsize = 0.1\n",
    "\n",
    "train_imgs, valid_imgs = train_test_split(allImagesNP, test_size = testsize, random_state = 42)\n",
    "train_masks, valid_masks = train_test_split(maskImagesNP, test_size = testsize, random_state = 42)\n",
    "\n",
    "print(\"Train Set:\")\n",
    "print(train_imgs.shape)\n",
    "print(train_masks.shape)\n",
    "\n",
    "print(\"Valid Set:\")\n",
    "print(valid_imgs.shape)\n",
    "print(valid_masks.shape)"
   ]
  },
  {
   "cell_type": "code",
   "execution_count": 12,
   "metadata": {},
   "outputs": [],
   "source": [
    "import os\n",
    "\n",
    "def save_numpy_arrays(path, filename, data):\n",
    "    directory = os.path.dirname(os.path.join(path, filename))\n",
    "    if not os.path.exists(directory):\n",
    "        os.makedirs(directory)\n",
    "    np.save(os.path.join(directory, filename), data)"
   ]
  },
  {
   "cell_type": "code",
   "execution_count": 13,
   "metadata": {},
   "outputs": [],
   "source": [
    "# Save training data\n",
    "save_numpy_arrays(path + \"/feed\", \"train_img.npy\", train_imgs)\n",
    "save_numpy_arrays(path + \"/feed\", \"train_mask.npy\", train_masks)\n",
    "\n",
    "# Save validation data\n",
    "save_numpy_arrays(path + \"/feed\", \"valid_img.npy\", valid_imgs)\n",
    "save_numpy_arrays(path + \"/feed\", \"valid_mask.npy\", valid_masks)"
   ]
  }
 ],
 "metadata": {
  "kernelspec": {
   "display_name": "Python 3",
   "language": "python",
   "name": "python3"
  },
  "language_info": {
   "codemirror_mode": {
    "name": "ipython",
    "version": 3
   },
   "file_extension": ".py",
   "mimetype": "text/x-python",
   "name": "python",
   "nbconvert_exporter": "python",
   "pygments_lexer": "ipython3",
   "version": "3.12.2"
  }
 },
 "nbformat": 4,
 "nbformat_minor": 2
}
