{
 "cells": [
  {
   "cell_type": "code",
   "execution_count": 1,
   "metadata": {},
   "outputs": [],
   "source": [
    "import torch\n",
    "import os\n",
    "from ultralytics import YOLO\n",
    "import cv2\n",
    "import numpy as np"
   ]
  },
  {
   "cell_type": "code",
   "execution_count": 2,
   "metadata": {},
   "outputs": [],
   "source": [
    "model = YOLO(\"../models/yolov8s.pt\")"
   ]
  },
  {
   "cell_type": "markdown",
   "metadata": {},
   "source": [
    "## Individual Image"
   ]
  },
  {
   "cell_type": "code",
   "execution_count": 25,
   "metadata": {},
   "outputs": [],
   "source": [
    "img_path = 'dataset/raw/sample1.jpg'\n",
    "output_dir = os.path.join('yolo_predictions/yolov8s', os.path.basename(img_path).split('.')[0])\n",
    "og_filename = os.path.basename(img_path) \n",
    "os.makedirs('yolo_predictions/yolov8s', exist_ok=True)"
   ]
  },
  {
   "cell_type": "code",
   "execution_count": 20,
   "metadata": {},
   "outputs": [
    {
     "name": "stderr",
     "output_type": "stream",
     "text": [
      "\n",
      "image 1/1 c:\\Users\\kimbe\\Documents\\GitHub\\mandible-height-estimation\\dataset\\raw\\sample1.jpg: 288x640 1 mandible, 155.6ms\n",
      "Speed: 2.0ms preprocess, 155.6ms inference, 2.0ms postprocess per image at shape (1, 3, 288, 640)\n"
     ]
    }
   ],
   "source": [
    "results = model.predict(source=img_path, conf=0.5, save=False, save_txt=False)\n",
    "masks = results[0].masks\n",
    "boxes = results[0].boxes"
   ]
  },
  {
   "cell_type": "code",
   "execution_count": 21,
   "metadata": {},
   "outputs": [],
   "source": [
    "# Read the input image\n",
    "input_img = cv2.imread(img_path)\n",
    "input_img = cv2.cvtColor(input_img, cv2.COLOR_BGR2RGB)"
   ]
  },
  {
   "cell_type": "code",
   "execution_count": 22,
   "metadata": {},
   "outputs": [],
   "source": [
    "# Define the color for the mask (BGR format)\n",
    "mask_color = (250, 200, 0)"
   ]
  },
  {
   "cell_type": "code",
   "execution_count": 28,
   "metadata": {},
   "outputs": [],
   "source": [
    "output_dir = \"yolo_predictions/yolov8s\"\n",
    "if not os.path.exists(output_dir):\n",
    "    os.makedirs(output_dir)\n",
    "\n",
    "for idx, mask in enumerate(masks):\n",
    "    m = torch.squeeze(mask.data)\n",
    "\n",
    "    # Convert the tensor to numpy array\n",
    "    mask_np = m.cpu().numpy().astype(np.uint8)\n",
    "\n",
    "    # Create a colored mask\n",
    "    colored_mask = np.zeros((mask_np.shape[0], mask_np.shape[1], 3), dtype=np.uint8)\n",
    "    colored_mask[mask_np == 1] = mask_color\n",
    "\n",
    "    # Resize mask to match input image size\n",
    "    colored_mask = cv2.resize(colored_mask, (input_img.shape[1], input_img.shape[0]))\n",
    "\n",
    "    # Blend the colored mask with the input image\n",
    "    alpha = 0.5  # Transparency factor. You can change it as needed.\n",
    "    overlayed_img = cv2.addWeighted(input_img, 1, colored_mask, alpha, 0)\n",
    "\n",
    "    new_name = og_filename.replace('.jpg', '') + '_overlay' + '.jpg'\n",
    "\n",
    "    # Save the image with overlayed mask\n",
    "    cv2.imwrite(os.path.join(output_dir, new_name), cv2.cvtColor(overlayed_img, cv2.COLOR_RGB2BGR))\n",
    "\n",
    "    # Display the image with overlayed mask\n",
    "    cv2.imshow('Image', cv2.cvtColor(overlayed_img, cv2.COLOR_RGB2BGR))\n",
    "    cv2.waitKey(0)\n",
    "    cv2.destroyAllWindows() "
   ]
  },
  {
   "cell_type": "code",
   "execution_count": 36,
   "metadata": {},
   "outputs": [],
   "source": [
    "# Define input directory and output directory\n",
    "input_dir = \"dataset/box_jpeg\"\n",
    "output_dir = \"yolo_predictions/yolov8s/box\"\n",
    "\n",
    "# Check if the output directory exists, if not, create it\n",
    "if not os.path.exists(output_dir):\n",
    "    os.makedirs(output_dir)\n",
    "\n",
    "# Iterate over each file in the input directory\n",
    "for filename in os.listdir(input_dir):\n",
    "    if filename.endswith(\".jpg\"):\n",
    "        # Read the input image\n",
    "        input_img = cv2.imread(os.path.join(input_dir, filename))\n",
    "\n",
    "        # Assuming 'masks' is a list of tensors for the current image\n",
    "        for idx, mask in enumerate(masks):\n",
    "            m = torch.squeeze(mask.data)\n",
    "\n",
    "            # Convert the tensor to numpy array\n",
    "            mask_np = m.cpu().numpy().astype(np.uint8)\n",
    "\n",
    "            # Create a colored mask\n",
    "            colored_mask = np.zeros((mask_np.shape[0], mask_np.shape[1], 3), dtype=np.uint8)\n",
    "            colored_mask[mask_np == 1] = mask_color\n",
    "\n",
    "            # Resize mask to match input image size\n",
    "            colored_mask = cv2.resize(colored_mask, (input_img.shape[1], input_img.shape[0]))\n",
    "\n",
    "            # Blend the colored mask with the input image\n",
    "            alpha = 0.5  # Transparency factor. You can change it as needed.\n",
    "            overlayed_img = cv2.addWeighted(input_img, 1, colored_mask, alpha, 0)\n",
    "\n",
    "            new_name = filename.replace('.jpg', '') + '_overlay' + '.jpg'\n",
    "\n",
    "            # Save the image with overlayed mask\n",
    "            cv2.imwrite(os.path.join(output_dir, new_name), cv2.cvtColor(overlayed_img, cv2.COLOR_RGB2BGR))"
   ]
  },
  {
   "cell_type": "markdown",
   "metadata": {},
   "source": [
    "## One Directory"
   ]
  },
  {
   "cell_type": "code",
   "execution_count": 3,
   "metadata": {},
   "outputs": [
    {
     "name": "stdout",
     "output_type": "stream",
     "text": [
      "WARNING:tensorflow:From C:\\Users\\kimbe\\AppData\\Local\\Packages\\PythonSoftwareFoundation.Python.3.10_qbz5n2kfra8p0\\LocalCache\\local-packages\\Python310\\site-packages\\keras\\src\\losses.py:2976: The name tf.losses.sparse_softmax_cross_entropy is deprecated. Please use tf.compat.v1.losses.sparse_softmax_cross_entropy instead.\n",
      "\n"
     ]
    },
    {
     "name": "stderr",
     "output_type": "stream",
     "text": [
      "\n",
      "image 1/1 c:\\Users\\kimbe\\Documents\\GitHub\\mandible2024\\model_src\\..\\dataset\\roboflow\\yolonihadatsetobject_filtered\\images\\103_png.rf.dc981234c41c0be5629effde61211b1b.jpg: 640x640 1 mandible, 263.1ms\n",
      "Speed: 3.0ms preprocess, 263.1ms inference, 4.7ms postprocess per image at shape (1, 3, 640, 640)\n",
      "\n",
      "image 1/1 c:\\Users\\kimbe\\Documents\\GitHub\\mandible2024\\model_src\\..\\dataset\\roboflow\\yolonihadatsetobject_filtered\\images\\105_png.rf.e1dc0fdc3ea8f043e0d2f106f6dadfdd.jpg: 640x640 1 mandible, 231.8ms\n",
      "Speed: 3.0ms preprocess, 231.8ms inference, 3.5ms postprocess per image at shape (1, 3, 640, 640)\n",
      "\n",
      "image 1/1 c:\\Users\\kimbe\\Documents\\GitHub\\mandible2024\\model_src\\..\\dataset\\roboflow\\yolonihadatsetobject_filtered\\images\\108_png.rf.325916d26f218bfc8c8cf0e401878498.jpg: 640x640 1 mandible, 245.8ms\n",
      "Speed: 2.0ms preprocess, 245.8ms inference, 3.0ms postprocess per image at shape (1, 3, 640, 640)\n",
      "\n",
      "image 1/1 c:\\Users\\kimbe\\Documents\\GitHub\\mandible2024\\model_src\\..\\dataset\\roboflow\\yolonihadatsetobject_filtered\\images\\109_png.rf.06df894833a3249d19ced70b47e61d6f.jpg: 640x640 1 mandible, 220.0ms\n",
      "Speed: 3.0ms preprocess, 220.0ms inference, 2.1ms postprocess per image at shape (1, 3, 640, 640)\n",
      "\n",
      "image 1/1 c:\\Users\\kimbe\\Documents\\GitHub\\mandible2024\\model_src\\..\\dataset\\roboflow\\yolonihadatsetobject_filtered\\images\\111_png.rf.940e3cc0b957e70313a2aff52ea0ee1f.jpg: 640x640 1 mandible, 215.9ms\n",
      "Speed: 2.3ms preprocess, 215.9ms inference, 3.2ms postprocess per image at shape (1, 3, 640, 640)\n",
      "\n",
      "image 1/1 c:\\Users\\kimbe\\Documents\\GitHub\\mandible2024\\model_src\\..\\dataset\\roboflow\\yolonihadatsetobject_filtered\\images\\112_png.rf.a72461649d462df7bf8230ce9e9c3eca.jpg: 640x640 1 mandible, 221.8ms\n",
      "Speed: 3.0ms preprocess, 221.8ms inference, 3.4ms postprocess per image at shape (1, 3, 640, 640)\n",
      "\n",
      "image 1/1 c:\\Users\\kimbe\\Documents\\GitHub\\mandible2024\\model_src\\..\\dataset\\roboflow\\yolonihadatsetobject_filtered\\images\\114_png.rf.02f54bb662004081d152fcbc57ed14b9.jpg: 640x640 1 mandible, 224.1ms\n",
      "Speed: 3.0ms preprocess, 224.1ms inference, 3.4ms postprocess per image at shape (1, 3, 640, 640)\n",
      "\n",
      "image 1/1 c:\\Users\\kimbe\\Documents\\GitHub\\mandible2024\\model_src\\..\\dataset\\roboflow\\yolonihadatsetobject_filtered\\images\\116_png.rf.dfbfd069124669ffc81b0cdfc20f3a02.jpg: 640x640 1 mandible, 227.4ms\n",
      "Speed: 3.0ms preprocess, 227.4ms inference, 4.0ms postprocess per image at shape (1, 3, 640, 640)\n",
      "\n",
      "image 1/1 c:\\Users\\kimbe\\Documents\\GitHub\\mandible2024\\model_src\\..\\dataset\\roboflow\\yolonihadatsetobject_filtered\\images\\118_png.rf.67ec9b6a59ffd67edb1cdb067cc784e8.jpg: 640x640 1 mandible, 232.1ms\n",
      "Speed: 2.0ms preprocess, 232.1ms inference, 3.0ms postprocess per image at shape (1, 3, 640, 640)\n",
      "\n",
      "image 1/1 c:\\Users\\kimbe\\Documents\\GitHub\\mandible2024\\model_src\\..\\dataset\\roboflow\\yolonihadatsetobject_filtered\\images\\123_png.rf.5f90857dc98b3d7a5b5e84f84d5adaff.jpg: 640x640 1 mandible, 229.9ms\n",
      "Speed: 4.0ms preprocess, 229.9ms inference, 3.0ms postprocess per image at shape (1, 3, 640, 640)\n",
      "\n",
      "image 1/1 c:\\Users\\kimbe\\Documents\\GitHub\\mandible2024\\model_src\\..\\dataset\\roboflow\\yolonihadatsetobject_filtered\\images\\126_png.rf.4b047d9fd4e2f85d66c8534dd8b317e3.jpg: 640x640 1 mandible, 229.5ms\n",
      "Speed: 2.0ms preprocess, 229.5ms inference, 3.0ms postprocess per image at shape (1, 3, 640, 640)\n",
      "\n",
      "image 1/1 c:\\Users\\kimbe\\Documents\\GitHub\\mandible2024\\model_src\\..\\dataset\\roboflow\\yolonihadatsetobject_filtered\\images\\128_png.rf.599a84cc9971ee457fada2a44cf93f6c.jpg: 640x640 1 mandible, 221.5ms\n",
      "Speed: 2.0ms preprocess, 221.5ms inference, 3.0ms postprocess per image at shape (1, 3, 640, 640)\n",
      "\n",
      "image 1/1 c:\\Users\\kimbe\\Documents\\GitHub\\mandible2024\\model_src\\..\\dataset\\roboflow\\yolonihadatsetobject_filtered\\images\\132_png.rf.dd096e7f0631275fa1672c1e5a9aacb7.jpg: 640x640 1 mandible, 222.3ms\n",
      "Speed: 2.0ms preprocess, 222.3ms inference, 2.7ms postprocess per image at shape (1, 3, 640, 640)\n",
      "\n",
      "image 1/1 c:\\Users\\kimbe\\Documents\\GitHub\\mandible2024\\model_src\\..\\dataset\\roboflow\\yolonihadatsetobject_filtered\\images\\145_png.rf.220bcbd2e2f6905ea49ff23cda530b9c.jpg: 640x640 1 mandible, 224.6ms\n",
      "Speed: 3.0ms preprocess, 224.6ms inference, 3.0ms postprocess per image at shape (1, 3, 640, 640)\n",
      "\n",
      "image 1/1 c:\\Users\\kimbe\\Documents\\GitHub\\mandible2024\\model_src\\..\\dataset\\roboflow\\yolonihadatsetobject_filtered\\images\\146_png.rf.a2bb217d93f0f5c77f7efdebce1b31ec.jpg: 640x640 1 mandible, 236.4ms\n",
      "Speed: 3.0ms preprocess, 236.4ms inference, 3.0ms postprocess per image at shape (1, 3, 640, 640)\n",
      "\n",
      "image 1/1 c:\\Users\\kimbe\\Documents\\GitHub\\mandible2024\\model_src\\..\\dataset\\roboflow\\yolonihadatsetobject_filtered\\images\\148.rf.4e4eed27503fd30d8fc3cf7773104266.jpg: 640x640 1 mandible, 240.5ms\n",
      "Speed: 3.0ms preprocess, 240.5ms inference, 4.0ms postprocess per image at shape (1, 3, 640, 640)\n",
      "\n",
      "image 1/1 c:\\Users\\kimbe\\Documents\\GitHub\\mandible2024\\model_src\\..\\dataset\\roboflow\\yolonihadatsetobject_filtered\\images\\172_png.rf.f680775e916054ab01521cb6febdc0a9.jpg: 640x640 1 mandible, 259.3ms\n",
      "Speed: 6.1ms preprocess, 259.3ms inference, 3.0ms postprocess per image at shape (1, 3, 640, 640)\n",
      "\n",
      "image 1/1 c:\\Users\\kimbe\\Documents\\GitHub\\mandible2024\\model_src\\..\\dataset\\roboflow\\yolonihadatsetobject_filtered\\images\\34_png.rf.1ef48b5ffb6c00e2182f26307a15c7c4.jpg: 640x640 1 mandible, 241.4ms\n",
      "Speed: 4.0ms preprocess, 241.4ms inference, 11.9ms postprocess per image at shape (1, 3, 640, 640)\n",
      "\n",
      "image 1/1 c:\\Users\\kimbe\\Documents\\GitHub\\mandible2024\\model_src\\..\\dataset\\roboflow\\yolonihadatsetobject_filtered\\images\\44_png.rf.0dd9779fed538f6df26b8be2fd3908a0.jpg: 640x640 1 mandible, 237.1ms\n",
      "Speed: 3.0ms preprocess, 237.1ms inference, 2.3ms postprocess per image at shape (1, 3, 640, 640)\n",
      "\n",
      "image 1/1 c:\\Users\\kimbe\\Documents\\GitHub\\mandible2024\\model_src\\..\\dataset\\roboflow\\yolonihadatsetobject_filtered\\images\\5_png.rf.10f4c0bf4495d62e5f909799bd0494aa.jpg: 640x640 1 mandible, 217.6ms\n",
      "Speed: 2.0ms preprocess, 217.6ms inference, 3.0ms postprocess per image at shape (1, 3, 640, 640)\n",
      "\n",
      "image 1/1 c:\\Users\\kimbe\\Documents\\GitHub\\mandible2024\\model_src\\..\\dataset\\roboflow\\yolonihadatsetobject_filtered\\images\\6_png.rf.1d04b9e4edb25568facea32e12a8fc48.jpg: 640x640 1 mandible, 219.3ms\n",
      "Speed: 3.0ms preprocess, 219.3ms inference, 3.1ms postprocess per image at shape (1, 3, 640, 640)\n",
      "\n",
      "image 1/1 c:\\Users\\kimbe\\Documents\\GitHub\\mandible2024\\model_src\\..\\dataset\\roboflow\\yolonihadatsetobject_filtered\\images\\70_png.rf.7cb165079338cf5ca7e9a6b1d2599907.jpg: 640x640 1 mandible, 214.8ms\n",
      "Speed: 3.0ms preprocess, 214.8ms inference, 2.0ms postprocess per image at shape (1, 3, 640, 640)\n",
      "\n",
      "image 1/1 c:\\Users\\kimbe\\Documents\\GitHub\\mandible2024\\model_src\\..\\dataset\\roboflow\\yolonihadatsetobject_filtered\\images\\91_png.rf.9bfc3c05508cad851b00ed44f82c6eb2.jpg: 640x640 1 mandible, 228.3ms\n",
      "Speed: 2.0ms preprocess, 228.3ms inference, 3.0ms postprocess per image at shape (1, 3, 640, 640)\n",
      "\n",
      "image 1/1 c:\\Users\\kimbe\\Documents\\GitHub\\mandible2024\\model_src\\..\\dataset\\roboflow\\yolonihadatsetobject_filtered\\images\\96_png.rf.d5f5e0786494879bfed8c505ca70fa0e.jpg: 640x640 1 mandible, 207.2ms\n",
      "Speed: 3.0ms preprocess, 207.2ms inference, 2.0ms postprocess per image at shape (1, 3, 640, 640)\n",
      "\n",
      "image 1/1 c:\\Users\\kimbe\\Documents\\GitHub\\mandible2024\\model_src\\..\\dataset\\roboflow\\yolonihadatsetobject_filtered\\images\\9_png.rf.bc890453b85d0dd2ca9344ffeecb66bc.jpg: 640x640 1 mandible, 218.1ms\n",
      "Speed: 1.0ms preprocess, 218.1ms inference, 3.0ms postprocess per image at shape (1, 3, 640, 640)\n"
     ]
    }
   ],
   "source": [
    "# Define input directory, output directory, and list of image files\n",
    "input_dir = \"../dataset/roboflow/yolonihadatsetobject_filtered/images\"\n",
    "output_dir = \"../compare/old\"\n",
    "image_files = os.listdir(input_dir)\n",
    "\n",
    "# Check if the output directory exists, if not, create it\n",
    "if not os.path.exists(output_dir):\n",
    "    os.makedirs(output_dir)\n",
    "\n",
    "mask_color = (250, 200, 0)\n",
    "\n",
    "# Iterate over each image file\n",
    "for image_file in image_files:\n",
    "    # Load the image\n",
    "    img_path = os.path.join(input_dir, image_file)\n",
    "    img = cv2.imread(img_path)\n",
    "    img = cv2.cvtColor(img, cv2.COLOR_BGR2RGB)\n",
    "    filename = os.path.basename(img_path) \n",
    "\n",
    "    # Perform inference on the image\n",
    "    results = model.predict(source=img_path, conf=0.5, save=False, save_txt=False)\n",
    "    masks = results[0].masks\n",
    "    boxes = results[0].boxes\n",
    "\n",
    "    # Apply the masks and boxes to the image\n",
    "    for mask in masks:\n",
    "        if mask is not None:\n",
    "            m = torch.squeeze(mask.data)\n",
    "\n",
    "            # Convert the tensor to numpy array\n",
    "            mask_np = m.cpu().numpy().astype(np.uint8)\n",
    "\n",
    "            # Create a colored mask\n",
    "            colored_mask = np.zeros((mask_np.shape[0], mask_np.shape[1], 3), dtype=np.uint8)\n",
    "            colored_mask[mask_np == 1] = mask_color\n",
    "\n",
    "            # Resize mask to match input image size\n",
    "            colored_mask = cv2.resize(colored_mask, (img.shape[1], img.shape[0]))\n",
    "\n",
    "            # Blend the colored mask with the input image\n",
    "            alpha = 0.5  # Transparency factor. You can change it as needed.\n",
    "            overlayed_img = cv2.addWeighted(img, 1, colored_mask, alpha, 0)\n",
    "\n",
    "            new_name = filename.replace('.jpg', '') + '_overlay' + '.jpg'\n",
    "\n",
    "            # Save the image with overlayed mask\n",
    "            cv2.imwrite(os.path.join(output_dir, new_name), cv2.cvtColor(overlayed_img, cv2.COLOR_RGB2BGR))"
   ]
  }
 ],
 "metadata": {
  "kernelspec": {
   "display_name": "Python 3",
   "language": "python",
   "name": "python3"
  },
  "language_info": {
   "codemirror_mode": {
    "name": "ipython",
    "version": 3
   },
   "file_extension": ".py",
   "mimetype": "text/x-python",
   "name": "python",
   "nbconvert_exporter": "python",
   "pygments_lexer": "ipython3",
   "version": "3.10.11"
  }
 },
 "nbformat": 4,
 "nbformat_minor": 2
}
