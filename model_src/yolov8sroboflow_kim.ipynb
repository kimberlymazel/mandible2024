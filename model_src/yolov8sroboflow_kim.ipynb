{
 "cells": [
  {
   "cell_type": "code",
   "execution_count": 1,
   "metadata": {},
   "outputs": [],
   "source": [
    "import torch\n",
    "import os\n",
    "from ultralytics import YOLO\n",
    "import cv2\n",
    "import numpy as np"
   ]
  },
  {
   "cell_type": "code",
   "execution_count": 2,
   "metadata": {},
   "outputs": [],
   "source": [
    "model = YOLO(\"../models/roboflow_8vs.pt\")"
   ]
  },
  {
   "cell_type": "code",
   "execution_count": 3,
   "metadata": {},
   "outputs": [
    {
     "name": "stdout",
     "output_type": "stream",
     "text": [
      "WARNING:tensorflow:From C:\\Users\\kimbe\\AppData\\Local\\Packages\\PythonSoftwareFoundation.Python.3.10_qbz5n2kfra8p0\\LocalCache\\local-packages\\Python310\\site-packages\\keras\\src\\losses.py:2976: The name tf.losses.sparse_softmax_cross_entropy is deprecated. Please use tf.compat.v1.losses.sparse_softmax_cross_entropy instead.\n",
      "\n"
     ]
    },
    {
     "name": "stderr",
     "output_type": "stream",
     "text": [
      "\n",
      "image 1/1 c:\\Users\\kimbe\\Documents\\GitHub\\mandible-height-estimation\\running\\..\\dataset\\raw\\mandible-bone-height.jpeg: 640x480 3 mandibles, 474.4ms\n",
      "Speed: 8.2ms preprocess, 474.4ms inference, 10.9ms postprocess per image at shape (1, 3, 640, 480)\n",
      "\n",
      "image 1/1 c:\\Users\\kimbe\\Documents\\GitHub\\mandible-height-estimation\\running\\..\\dataset\\raw\\sample1.jpg: 288x640 1 mandible, 365.5ms\n",
      "Speed: 3.5ms preprocess, 365.5ms inference, 4.0ms postprocess per image at shape (1, 3, 288, 640)\n",
      "\n",
      "image 1/1 c:\\Users\\kimbe\\Documents\\GitHub\\mandible-height-estimation\\running\\..\\dataset\\raw\\sample2.jpg: 320x640 1 mandible, 386.3ms\n",
      "Speed: 5.0ms preprocess, 386.3ms inference, 4.0ms postprocess per image at shape (1, 3, 320, 640)\n",
      "\n",
      "image 1/1 c:\\Users\\kimbe\\Documents\\GitHub\\mandible-height-estimation\\running\\..\\dataset\\raw\\sample3.jpg: 320x640 1 mandible, 403.6ms\n",
      "Speed: 6.4ms preprocess, 403.6ms inference, 8.1ms postprocess per image at shape (1, 3, 320, 640)\n"
     ]
    }
   ],
   "source": [
    "# Define input directory, output directory, and list of image files\n",
    "input_dir = \"../dataset/raw\"\n",
    "output_dir = \"../compare/new\"\n",
    "image_files = os.listdir(input_dir)\n",
    "\n",
    "# Check if the output directory exists, if not, create it\n",
    "if not os.path.exists(output_dir):\n",
    "    os.makedirs(output_dir)\n",
    "\n",
    "mask_color = (250, 200, 0)\n",
    "\n",
    "# Iterate over each image file\n",
    "for image_file in image_files:\n",
    "    # Load the image\n",
    "    img_path = os.path.join(input_dir, image_file)\n",
    "    img = cv2.imread(img_path)\n",
    "    img = cv2.cvtColor(img, cv2.COLOR_BGR2RGB)\n",
    "    filename = os.path.basename(img_path) \n",
    "\n",
    "    # Perform inference on the image\n",
    "    results = model.predict(source=img_path, conf=0.5, save=False, save_txt=False)\n",
    "    masks = results[0].masks\n",
    "    boxes = results[0].boxes\n",
    "\n",
    "    # Iterate over the boxes\n",
    "    for idx, box in enumerate(boxes):\n",
    "        # Get the corresponding mask\n",
    "        mask = masks[idx]\n",
    "\n",
    "        # Check if the mask is not None\n",
    "        if mask is not None:\n",
    "            m = torch.squeeze(mask.data)\n",
    "\n",
    "            # Convert the tensor to numpy array\n",
    "            mask_np = m.cpu().numpy().astype(np.uint8)\n",
    "\n",
    "            # Create a colored mask\n",
    "            colored_mask = np.zeros((mask_np.shape[0], mask_np.shape[1], 3), dtype=np.uint8)\n",
    "            colored_mask[mask_np == 1] = mask_color\n",
    "\n",
    "            # Resize mask to match input image size\n",
    "            colored_mask = cv2.resize(colored_mask, (img.shape[1], img.shape[0]))\n",
    "\n",
    "            # Blend the colored mask with the input image\n",
    "            alpha = 0.5  # Transparency factor. You can change it as needed.\n",
    "            overlayed_img = cv2.addWeighted(img, 1, colored_mask, alpha, 0)\n",
    "\n",
    "            new_name = filename.replace('.jpg', '') + f'_overlay_{idx}.jpg'\n",
    "\n",
    "            # Save the image with overlayed mask\n",
    "            cv2.imwrite(os.path.join(output_dir, new_name), cv2.cvtColor(overlayed_img, cv2.COLOR_RGB2BGR))\n"
   ]
  }
 ],
 "metadata": {
  "kernelspec": {
   "display_name": "Python 3",
   "language": "python",
   "name": "python3"
  },
  "language_info": {
   "codemirror_mode": {
    "name": "ipython",
    "version": 3
   },
   "file_extension": ".py",
   "mimetype": "text/x-python",
   "name": "python",
   "nbconvert_exporter": "python",
   "pygments_lexer": "ipython3",
   "version": "3.10.11"
  }
 },
 "nbformat": 4,
 "nbformat_minor": 2
}
